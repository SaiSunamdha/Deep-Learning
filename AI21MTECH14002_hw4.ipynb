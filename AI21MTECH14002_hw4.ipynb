{
  "cells": [
    {
      "cell_type": "code",
      "execution_count": null,
      "metadata": {
        "id": "Iq19tJP54frB"
      },
      "outputs": [],
      "source": [
        "import numpy as np\n",
        "import cv2\n",
        "import matplotlib.pyplot as plt"
      ]
    },
    {
      "cell_type": "code",
      "execution_count": null,
      "metadata": {
        "id": "0cs2bUwg5q7H"
      },
      "outputs": [],
      "source": [
        "from torch.utils.data import DataLoader\n",
        "import torchvision.datasets as datasets\n",
        "from torchvision import datasets, transforms\n",
        "TrainSet = datasets.MNIST('./data', train=True, download=True)\n",
        "TestSet = datasets.MNIST('./data', train=False, download=True)\n",
        "I_train = TrainSet.data.numpy()[:1000]\n",
        "label_train = TrainSet.targets.numpy()[:1000]\n",
        "I_test= TestSet.data.numpy()[:1000]\n",
        "label_test = TestSet.targets.numpy()[:1000]"
      ]
    },
    {
      "cell_type": "markdown",
      "metadata": {
        "id": "jIP86seMUabs"
      },
      "source": [
        "Q1"
      ]
    },
    {
      "cell_type": "code",
      "execution_count": null,
      "metadata": {
        "id": "cvFe5lRq4n9_"
      },
      "outputs": [],
      "source": [
        "class convolution:\n",
        "  def __init__(self,NumOfFilters,SizeOfFilter):\n",
        "    self.NumOfFilters=NumOfFilters\n",
        "    self.SizeOfFilter=SizeOfFilter\n",
        "    self.Filter_convolv=np.random.randn(NumOfFilters,SizeOfFilter,SizeOfFilter)/(SizeOfFilter*SizeOfFilter)\n",
        "\n",
        "  def ImageRegion(self,image):\n",
        "    height,width=image.shape\n",
        "    self.image=image\n",
        "    for j in range(height-self.SizeOfFilter+1):\n",
        "      for k in range(width-self.SizeOfFilter+1):\n",
        "        PatchOfImage=image[j:(j+self.SizeOfFilter),k:(k+self.SizeOfFilter)]\n",
        "        yield PatchOfImage,j,k\n",
        "    \n",
        "  def transform(self,img):\n",
        "    h,w,c=img.shape\n",
        "    Timage=np.float64(np.zeros((h,w)))\n",
        "    for i in range(h):\n",
        "      for j in range(w):\n",
        "        for k in range(c):\n",
        "          Timage[i][j]+=img[i][j][k]\n",
        "          \n",
        "    return Timage\n",
        "\n",
        "  def forwardPropagation(self,image,padding):\n",
        "    self.image_shape=image.shape\n",
        "    image=self.transform(image)\n",
        "    height,width=image.shape\n",
        "    Output_convolv=np.zeros((height-self.SizeOfFilter+1,width-self.SizeOfFilter+1,self.NumOfFilters))\n",
        "    for PatchOfImage,i,j in self.ImageRegion(image):\n",
        "      Output_convolv[i,j]=np.sum(PatchOfImage*self.Filter_convolv,axis=(1,2))\n",
        "    self.Output_convolv=PaddingAdded(Output_convolv,padding)\n",
        "    return self.Output_convolv\n",
        "\n",
        "  def backwardPropagation(self,dL_dout,learning_rate):\n",
        "    DlDfparams=np.zeros(self.Filter_convolv.shape)\n",
        "    for PatchOfImage,i,j in self.ImageRegion(self.image):\n",
        "      for k in range(self.NumOfFilters):\n",
        "        DlDfparams[k]+=PatchOfImage*dL_dout[i,j,k]    \n",
        "    self.Filter_convolv-=learning_rate*DlDfparams\n",
        "    return DlDfparams\n"
      ]
    },
    {
      "cell_type": "code",
      "execution_count": null,
      "metadata": {
        "id": "xF6B0LoH4mDY"
      },
      "outputs": [],
      "source": [
        "def PaddingAdded(img, padding):\n",
        "    h,w,c = img.shape\n",
        "    p_h, p_w=padding\n",
        "    Arr_pad = np.ones((h + p_h*2, w + p_w*2,c))\n",
        "    Arr_pad[p_h:-p_h, p_w: -p_w,:] = img    \n",
        "    return Arr_pad"
      ]
    },
    {
      "cell_type": "code",
      "execution_count": null,
      "metadata": {
        "id": "fxXE0GJQ40EX"
      },
      "outputs": [],
      "source": [
        "class MaxPooling:\n",
        "\n",
        "  def __init__(self,SizeOfFilter):\n",
        "    self.SizeOfFilter=SizeOfFilter\n",
        "  \n",
        "  def ImageRegion(self,image):\n",
        "    new_height=image.shape[0]//self.SizeOfFilter\n",
        "    new_width=image.shape[1]//self.SizeOfFilter\n",
        "    self.image=image\n",
        "    for i in range(new_height):\n",
        "      for j in range(new_width):\n",
        "        PatchOfImage=image[(i*self.SizeOfFilter):(i*self.SizeOfFilter+self.SizeOfFilter),(j*self.SizeOfFilter):(j*self.SizeOfFilter+self.SizeOfFilter)]\n",
        "        yield PatchOfImage,i,j\n",
        "  \n",
        "  def forwardPropagation(self,image):\n",
        "    height,width,NumOfFilters=image.shape\n",
        "    output=np.zeros((height//self.SizeOfFilter,width//self.SizeOfFilter,NumOfFilters))\n",
        "    for PatchOfImage,i,j in self.ImageRegion(image):\n",
        "      output[i,j]=np.amax(PatchOfImage,axis=(0,1))\n",
        "    return output\n",
        "\n",
        "  def backwardPropagation(self,dL_dout):\n",
        "    DlDmaxpool=np.zeros(self.image.shape)\n",
        "    for PatchOfImage,i,j in self.ImageRegion(self.image):\n",
        "      height,width,NumOfFilters=PatchOfImage.shape\n",
        "      valMax=np.amax(PatchOfImage,axis=(0,1))\n",
        "      for i1 in range(height):\n",
        "        for j1 in range(width):\n",
        "          for k1 in range(NumOfFilters):\n",
        "            if PatchOfImage[i1,j1,k1]==valMax[k1]:\n",
        "              DlDmaxpool[i*self.SizeOfFilter+i1,j*self.SizeOfFilter+j1,k1]=dL_dout[i,j,k1]\n",
        "    return DlDmaxpool\n"
      ]
    },
    {
      "cell_type": "code",
      "execution_count": null,
      "metadata": {
        "id": "YtpfTORx47M3"
      },
      "outputs": [],
      "source": [
        "class ArtNeuNet:\n",
        "\n",
        "  def __init__(self,input_node,output_node):\n",
        "    self.weight=np.random.randn(input_node,output_node)/input_node\n",
        "    self.bias=np.zeros(output_node)\n",
        "    self.change=0\n",
        "    self.weight_config=None\n",
        "    self.bias_config=None\n",
        "\n",
        "  def forwardPropagation(self,image):\n",
        "    self.orig_im_shape=image.shape\n",
        "    ModifiedImage=image.flatten()\n",
        "    self.bottleneck=ModifiedImage\n",
        "    self.modified_input=ModifiedImage\n",
        "    output_val=np.dot(ModifiedImage,self.weight)+self.bias\n",
        "    self.out=output_val\n",
        "    ExceptedOutput=np.exp(output_val)\n",
        "    return ExceptedOutput/np.sum(ExceptedOutput,axis=0)\n",
        "  \n",
        "  def backwardPropagation(self,dL_dout,learning_rate,momentum,verbose):\n",
        "    for i,grad in enumerate(dL_dout):\n",
        "      if grad==0:\n",
        "        continue\n",
        "      transformation_eq=np.exp(self.out)\n",
        "      S_full =np.sum(transformation_eq)\n",
        "      DERyDerz= -transformation_eq[i]*transformation_eq/(S_full**2)\n",
        "      DERyDerz[i]=transformation_eq[i]*(S_full-transformation_eq[i])/(S_full**2)\n",
        "      DERzDerw=self.modified_input\n",
        "      dz_db=1\n",
        "      dz_d_inp=self.weight\n",
        "      DERlDerz=grad*DERyDerz\n",
        "      DERlDerw=DERzDerw[np.newaxis].T @ DERlDerz[np.newaxis]\n",
        "      DERlDerb=DERlDerz*dz_db\n",
        "      DERlDerinput=dz_d_inp @ DERlDerz\n",
        "      if verbose=='vanila':\n",
        "        self.weight-=learning_rate*DERlDerw\n",
        "        self.bias-=learning_rate*DERlDerb\n",
        "      elif verbose=='momentum':\n",
        "        Newchg = learning_rate*DERlDerw+ momentum * self.change\n",
        "        self.weight -= Newchg\n",
        "        self.change = Newchg\n",
        "        self.bias-=learning_rate*DERlDerb\n",
        "      else:\n",
        "        self.weight,self.weight_config=rmsprop(self.weight,DERlDerw,self.weight_config)\n",
        "        self.bias,self.bias_config=rmsprop(self.bias,DERlDerb,self.bias_config)\n",
        "      return DERlDerinput.reshape(self.orig_im_shape)"
      ]
    },
    {
      "cell_type": "markdown",
      "metadata": {
        "id": "YOLq6DqEX_8A"
      },
      "source": [
        "Q2"
      ]
    },
    {
      "cell_type": "code",
      "execution_count": null,
      "metadata": {
        "id": "es6WQ5JB5tnX"
      },
      "outputs": [],
      "source": [
        "def ConvForwad(image,label,convolution1,FirstPooling,convolution2,SecondPooling,FcOne,FcTwo):  \n",
        "  fwdprop_=convolution1.forwardPropagation((image/255)-0.5,(2,2))\n",
        "  fwdprop_=FirstPooling.forwardPropagation(fwdprop_)\n",
        "  fwdprop=convolution2.forwardPropagation(fwdprop_,(2,2))\n",
        "  fwdprop=SecondPooling.forwardPropagation(fwdprop)\n",
        "  fwdprop=FcOne.forwardPropagation(fwdprop_)\n",
        "  crossEntropyLoss=-np.log(fwdprop[label])\n",
        "  EvalvAccu=1 if np.argmax(fwdprop)==label else 0\n",
        "  return fwdprop,crossEntropyLoss,EvalvAccu\n",
        "\n",
        "def training_cnn(image,label,convolution1,FirstPooling,convolution2,SecondPooling,FcOne,FcTwo,verbose,learning_rate=0.001,momentum=0.9):\n",
        "  out,loss,acc=ConvForwad(image,label,convolution1,FirstPooling,convolution2,SecondPooling,FcOne,FcTwo)\n",
        "  gradient=np.zeros(10)\n",
        "  gradient[label]=-1/out[label]\n",
        "  GradientDescent_=FcOne.backwardPropagation(gradient,learning_rate,momentum,verbose)\n",
        "  GradientDescent=SecondPooling.backwardPropagation(GradientDescent_)\n",
        "  GradientDescent=convolution2.backwardPropagation(GradientDescent,learning_rate)\n",
        "  GradientDescent=FirstPooling.backwardPropagation(GradientDescent_)\n",
        "  GradientDescent=convolution1.backwardPropagation(GradientDescent,learning_rate)\n",
        "  return loss,acc"
      ]
    },
    {
      "cell_type": "code",
      "execution_count": null,
      "metadata": {
        "id": "xlQAYRS_hhVo"
      },
      "outputs": [],
      "source": [
        "convolution1=convolution(4,5)\n",
        "FirstPooling=MaxPooling(2)\n",
        "convolution2=convolution(4,5)\n",
        "SecondPooling=MaxPooling(2)\n",
        "FcOne=ArtNeuNet(14*14*4,10)\n",
        "FcTwo=ArtNeuNet(49,10)"
      ]
    },
    {
      "cell_type": "code",
      "execution_count": null,
      "metadata": {
        "colab": {
          "base_uri": "https://localhost:8080/"
        },
        "id": "WB5rm0JShiKC",
        "outputId": "5ed63152-fd5d-45b8-c161-48eb830eddb5"
      },
      "outputs": [
        {
          "output_type": "execute_result",
          "data": {
            "text/plain": [
              "(array([0.09783949, 0.09835085, 0.10475059, 0.10100007, 0.09895779,\n",
              "        0.09987983, 0.10275768, 0.09989321, 0.09889097, 0.09767951]),\n",
              " 2.3037874785733097,\n",
              " 0)"
            ]
          },
          "metadata": {},
          "execution_count": 9
        }
      ],
      "source": [
        "img=I_train[0]\n",
        "ConvForwad(img.reshape(28,28,1),label_train[0],convolution1,FirstPooling,convolution2,SecondPooling,FcOne,FcTwo)"
      ]
    },
    {
      "cell_type": "markdown",
      "metadata": {
        "id": "fREPACJ9Sy12"
      },
      "source": [
        "Q3"
      ]
    },
    {
      "cell_type": "markdown",
      "metadata": {
        "id": "PnohKRWEYK2F"
      },
      "source": [
        "Vanilla SGD"
      ]
    },
    {
      "cell_type": "code",
      "execution_count": null,
      "metadata": {
        "colab": {
          "base_uri": "https://localhost:8080/"
        },
        "id": "6iKlzRVI5x1f",
        "outputId": "27dc2864-bafe-4d88-a777-a6f9ce56b91a"
      },
      "outputs": [
        {
          "output_type": "stream",
          "name": "stdout",
          "text": [
            "Epoch 1\n",
            "Average Loss 2.255396080754771 Accuracy : 0.16\n",
            "start of testing\n",
            "Loss during Testing 1.987656810031605\n",
            "Accuracy while Testing  0.414\n",
            "Epoch 2\n",
            "Average Loss 1.2838380496584056 Accuracy : 0.657\n",
            "start of testing\n",
            "Loss during Testing 1.0128536720289871\n",
            "Accuracy while Testing  0.66\n",
            "Epoch 3\n",
            "Average Loss 0.7105135518592466 Accuracy : 0.787\n",
            "start of testing\n",
            "Loss during Testing 0.7992353715920378\n",
            "Accuracy while Testing  0.73\n",
            "Epoch 4\n",
            "Average Loss 0.574459572010362 Accuracy : 0.819\n",
            "start of testing\n",
            "Loss during Testing 0.7312062083268728\n",
            "Accuracy while Testing  0.756\n",
            "Epoch 5\n",
            "Average Loss 0.5142526833126263 Accuracy : 0.835\n",
            "start of testing\n",
            "Loss during Testing 0.6972838593631051\n",
            "Accuracy while Testing  0.767\n",
            "Epoch 6\n",
            "Average Loss 0.4777199693602024 Accuracy : 0.844\n",
            "start of testing\n",
            "Loss during Testing 0.6758729283928699\n",
            "Accuracy while Testing  0.773\n",
            "Epoch 7\n",
            "Average Loss 0.4517819163519551 Accuracy : 0.857\n",
            "start of testing\n",
            "Loss during Testing 0.6606662676643439\n",
            "Accuracy while Testing  0.782\n",
            "Epoch 8\n",
            "Average Loss 0.43148705715793895 Accuracy : 0.86\n",
            "start of testing\n",
            "Loss during Testing 0.6494765871611005\n",
            "Accuracy while Testing  0.785\n",
            "Epoch 9\n",
            "Average Loss 0.41452931660457765 Accuracy : 0.866\n",
            "start of testing\n",
            "Loss during Testing 0.641203439499976\n",
            "Accuracy while Testing  0.788\n",
            "Epoch 10\n",
            "Average Loss 0.39974979252904697 Accuracy : 0.875\n",
            "start of testing\n",
            "Loss during Testing 0.6353021684656428\n",
            "Accuracy while Testing  0.791\n",
            "Epoch 11\n",
            "Average Loss 0.38653539902737655 Accuracy : 0.881\n",
            "start of testing\n",
            "Loss during Testing 0.6312440266956049\n",
            "Accuracy while Testing  0.794\n",
            "Epoch 12\n",
            "Average Loss 0.3745418347206634 Accuracy : 0.886\n",
            "start of testing\n",
            "Loss during Testing 0.6287924440940549\n",
            "Accuracy while Testing  0.799\n",
            "Epoch 13\n",
            "Average Loss 0.36358102309989365 Accuracy : 0.891\n",
            "start of testing\n",
            "Loss during Testing 0.6276440554089595\n",
            "Accuracy while Testing  0.797\n",
            "Epoch 14\n",
            "Average Loss 0.3535048731461164 Accuracy : 0.895\n",
            "start of testing\n",
            "Loss during Testing 0.6274848577914139\n",
            "Accuracy while Testing  0.8\n",
            "Epoch 15\n",
            "Average Loss 0.344221304254391 Accuracy : 0.897\n",
            "start of testing\n",
            "Loss during Testing 0.6281885119674767\n",
            "Accuracy while Testing  0.8\n"
          ]
        }
      ],
      "source": [
        "\n",
        "convolution1=convolution(4,5)\n",
        "FirstPooling=MaxPooling(2)\n",
        "convolution2=convolution(4,5)\n",
        "SecondPooling=MaxPooling(2)\n",
        "FcOne=ArtNeuNet(14*14*4,10)\n",
        "FcTwo=ArtNeuNet(49,10)\n",
        "\n",
        "LossTraining,LossTesting=[],[]\n",
        "for epoch in range(15):\n",
        "  print('Epoch %d'%(epoch+1))\n",
        "  loss=0\n",
        "  CorrectNumber=0\n",
        "  for i ,(im,label) in enumerate(zip(I_train,label_train)):\n",
        "    l1,accu=training_cnn(im.reshape(28,28,1),label,convolution1,FirstPooling,convolution2,SecondPooling,FcOne,FcTwo,'vanila')\n",
        "    loss+=l1\n",
        "    CorrectNumber+=accu\n",
        "  LossTraining.append(loss/len(I_train))\n",
        "  print('Average Loss',loss/len(I_train),'Accuracy :',CorrectNumber/len(I_train))\n",
        "  print(\"start of testing\")\n",
        "  loss=0\n",
        "  CorrectNumber=0\n",
        "  for im,label in zip(I_test,label_test):\n",
        "    _,l1,accu=ConvForwad(im.reshape(28,28,1),label,convolution1,FirstPooling,convolution2,SecondPooling,FcOne,FcTwo)\n",
        "    loss+=l1\n",
        "    CorrectNumber+=accu\n",
        "  NumberOfTests=len(I_test)\n",
        "  LossTesting.append(loss/NumberOfTests)\n",
        "  print('Loss during Testing',loss/NumberOfTests)\n",
        "  print('Accuracy while Testing ',CorrectNumber/NumberOfTests)"
      ]
    },
    {
      "cell_type": "markdown",
      "metadata": {
        "id": "ZWbjG8IchnbF"
      },
      "source": [
        "Momentum"
      ]
    },
    {
      "cell_type": "code",
      "execution_count": null,
      "metadata": {
        "colab": {
          "base_uri": "https://localhost:8080/"
        },
        "id": "YrjEZ3fFhst0",
        "outputId": "85cc9a1a-1459-4a31-d8a7-7e29c3bd81b6"
      },
      "outputs": [
        {
          "output_type": "stream",
          "name": "stdout",
          "text": [
            "Epoch 1\n",
            "Average Loss: 1.6705869023332143 Accuracy : 0.488\n",
            "start of testing\n",
            "Loss during Testing 0.9563101031399868\n",
            "Accuracy while Testing  0.704\n",
            "Epoch 2\n",
            "Average Loss: 1.011738912611775 Accuracy : 0.73\n",
            "start of testing\n",
            "Loss during Testing 1.0319114294265588\n",
            "Accuracy while Testing  0.723\n",
            "Epoch 3\n",
            "Average Loss: 0.9451053191832937 Accuracy : 0.768\n",
            "start of testing\n",
            "Loss during Testing 1.1211045876027417\n",
            "Accuracy while Testing  0.732\n",
            "Epoch 4\n",
            "Average Loss: 0.7938077622433779 Accuracy : 0.819\n",
            "start of testing\n",
            "Loss during Testing 1.1832565293544877\n",
            "Accuracy while Testing  0.732\n",
            "Epoch 5\n",
            "Average Loss: 0.7107741062086695 Accuracy : 0.846\n",
            "start of testing\n",
            "Loss during Testing 1.367564544866835\n",
            "Accuracy while Testing  0.726\n",
            "Epoch 6\n",
            "Average Loss: 0.6598561883381825 Accuracy : 0.864\n",
            "start of testing\n",
            "Loss during Testing 1.2818485096342862\n",
            "Accuracy while Testing  0.745\n",
            "Epoch 7\n",
            "Average Loss: 0.5970519862269646 Accuracy : 0.873\n",
            "start of testing\n",
            "Loss during Testing 1.384515349353578\n",
            "Accuracy while Testing  0.734\n",
            "Epoch 8\n",
            "Average Loss: 0.5404421044197097 Accuracy : 0.873\n",
            "start of testing\n",
            "Loss during Testing 1.4701348208126606\n",
            "Accuracy while Testing  0.719\n",
            "Epoch 9\n",
            "Average Loss: 0.48740913784244716 Accuracy : 0.882\n",
            "start of testing\n",
            "Loss during Testing 1.6309153593491088\n",
            "Accuracy while Testing  0.703\n",
            "Epoch 10\n",
            "Average Loss: 0.44696863059254704 Accuracy : 0.893\n",
            "start of testing\n",
            "Loss during Testing 1.5952494134618707\n",
            "Accuracy while Testing  0.712\n",
            "Epoch 11\n",
            "Average Loss: 0.41096447315479123 Accuracy : 0.901\n",
            "start of testing\n",
            "Loss during Testing 1.4866410191141217\n",
            "Accuracy while Testing  0.729\n",
            "Epoch 12\n",
            "Average Loss: 0.38411045735101124 Accuracy : 0.908\n",
            "start of testing\n",
            "Loss during Testing 1.4242081314296122\n",
            "Accuracy while Testing  0.731\n",
            "Epoch 13\n",
            "Average Loss: 0.36640070078612375 Accuracy : 0.907\n",
            "start of testing\n",
            "Loss during Testing 1.369277902853307\n",
            "Accuracy while Testing  0.756\n",
            "Epoch 14\n",
            "Average Loss: 0.35011661331408295 Accuracy : 0.908\n",
            "start of testing\n",
            "Loss during Testing 1.3556647653401064\n",
            "Accuracy while Testing  0.759\n",
            "Epoch 15\n",
            "Average Loss: 0.3367491885996871 Accuracy : 0.912\n",
            "start of testing\n",
            "Loss during Testing 1.279309222310821\n",
            "Accuracy while Testing  0.773\n"
          ]
        }
      ],
      "source": [
        "convolution1=convolution(4,5)\n",
        "FirstPooling=MaxPooling(2)\n",
        "convolution2=convolution(4,5)\n",
        "SecondPooling=MaxPooling(2)\n",
        "FcOne=ArtNeuNet(14*14*4,10)\n",
        "FcTwo=ArtNeuNet(49,10)\n",
        "LossTraining,LossTesting=[],[]\n",
        "for epoch in range(15):\n",
        "  print('Epoch %d'%(epoch+1))\n",
        "  loss=0\n",
        "  CorrectNumber=0\n",
        "  for i ,(im,label) in enumerate(zip(I_train,label_train)):\n",
        "    l1,accu=training_cnn(im.reshape(28,28,1),label,convolution1,FirstPooling,convolution2,SecondPooling,FcOne,FcTwo,'momentum')\n",
        "    loss+=l1\n",
        "    CorrectNumber+=accu\n",
        "  LossTraining.append(loss/len(I_train))\n",
        "  print('Average Loss:',loss/len(I_train),'Accuracy :',CorrectNumber/len(I_train))\n",
        "  print(\"start of testing\")\n",
        "  loss=0\n",
        "  CorrectNumber=0\n",
        "  for im,label in zip(I_test,label_test):\n",
        "    _,l1,accu=ConvForwad(im.reshape(28,28,1),label,convolution1,FirstPooling,convolution2,SecondPooling,FcOne,FcTwo)\n",
        "    loss+=l1\n",
        "    CorrectNumber+=accu\n",
        "  NumberOfTests=len(I_test)\n",
        "  LossTesting.append(loss/NumberOfTests)\n",
        "  print('Loss during Testing',loss/NumberOfTests)\n",
        "  print('Accuracy while Testing ',CorrectNumber/NumberOfTests)"
      ]
    },
    {
      "cell_type": "markdown",
      "metadata": {
        "id": "SDu5UCSeRcaB"
      },
      "source": [
        "**RMSPROP**"
      ]
    },
    {
      "cell_type": "code",
      "execution_count": null,
      "metadata": {
        "id": "8_-kmQpCYZIR"
      },
      "outputs": [],
      "source": [
        "def rmsprop(x, dx, config=None):\n",
        "    if config is None: config = {}\n",
        "    config.setdefault('learning_rate', 0.001)\n",
        "    config.setdefault('decay_rate', 0.9)\n",
        "    config.setdefault('epsilon', 1e-8)\n",
        "    config.setdefault('cache', np.zeros_like(x))\n",
        "    next_x = None\n",
        "    decay_rate = config['decay_rate']\n",
        "    cache = config['cache']\n",
        "    cache = decay_rate * cache + (1 - decay_rate) * dx ** 2\n",
        "    next_x = x - config['learning_rate'] * dx / (np.sqrt(cache) + config['epsilon'])\n",
        "    config['cache'] = cache\n",
        "    return next_x, config"
      ]
    },
    {
      "cell_type": "code",
      "execution_count": null,
      "metadata": {
        "colab": {
          "base_uri": "https://localhost:8080/"
        },
        "id": "CyJz5R9KYg81",
        "outputId": "923c1462-8330-418c-c8f1-d9902ff2012b"
      },
      "outputs": [
        {
          "output_type": "stream",
          "name": "stdout",
          "text": [
            "Epoch 1\n",
            "Average Loss 1.191204064295171 Accuracy : 0.615\n",
            "start of testing\n",
            "Loss during Testing 0.9492838239024558\n",
            "Accuracy while Testing  0.67\n",
            "Epoch 2\n",
            "Average Loss 0.6270788355372591 Accuracy : 0.804\n",
            "start of testing\n",
            "Loss during Testing 0.8189588171769797\n",
            "Accuracy while Testing  0.721\n",
            "Epoch 3\n",
            "Average Loss 0.5494738324976685 Accuracy : 0.829\n",
            "start of testing\n",
            "Loss during Testing 0.7637150028688168\n",
            "Accuracy while Testing  0.76\n",
            "Epoch 4\n",
            "Average Loss 0.502211117633819 Accuracy : 0.851\n",
            "start of testing\n",
            "Loss during Testing 0.7391489785734621\n",
            "Accuracy while Testing  0.774\n",
            "Epoch 5\n",
            "Average Loss 0.468785517474971 Accuracy : 0.869\n",
            "start of testing\n",
            "Loss during Testing 0.7295522692400058\n",
            "Accuracy while Testing  0.789\n",
            "Epoch 6\n",
            "Average Loss 0.444319756454521 Accuracy : 0.881\n",
            "start of testing\n",
            "Loss during Testing 0.7285833816781015\n",
            "Accuracy while Testing  0.794\n",
            "Epoch 7\n",
            "Average Loss 0.42540490229166666 Accuracy : 0.886\n",
            "start of testing\n",
            "Loss during Testing 0.7327858942782087\n",
            "Accuracy while Testing  0.797\n",
            "Epoch 8\n",
            "Average Loss 0.41107754559574056 Accuracy : 0.901\n",
            "start of testing\n",
            "Loss during Testing 0.7406478068170715\n",
            "Accuracy while Testing  0.802\n",
            "Epoch 9\n",
            "Average Loss 0.3992055856143255 Accuracy : 0.906\n",
            "start of testing\n",
            "Loss during Testing 0.752168693745335\n",
            "Accuracy while Testing  0.807\n",
            "Epoch 10\n"
          ]
        }
      ],
      "source": [
        "convolution1=convolution(4,5)\n",
        "FirstPooling=MaxPooling(2)\n",
        "convolution2=convolution(4,5)\n",
        "SecondPooling=MaxPooling(2)\n",
        "FcOne=ArtNeuNet(14*14*4,10)\n",
        "FcTwo=ArtNeuNet(49,10)\n",
        "LossTraining,LossTesting=[],[]\n",
        "for epoch in range(15):\n",
        "  print('Epoch %d'%(epoch+1))\n",
        "  loss=0\n",
        "  CorrectNumber=0\n",
        "  for i ,(im,label) in enumerate(zip(I_train,label_train)):\n",
        "    l1,accu=training_cnn(im.reshape(28,28,1),label,convolution1,FirstPooling,convolution2,SecondPooling,FcOne,FcTwo,'rms_prop')\n",
        "    loss+=l1\n",
        "    CorrectNumber+=accu\n",
        "  LossTraining.append(loss/len(I_train))\n",
        "  print('Average Loss',loss/len(I_train),'Accuracy :',CorrectNumber/len(I_train))\n",
        "  print(\"start of testing\")\n",
        "  loss=0\n",
        "  CorrectNumber=0\n",
        "  for im,label in zip(I_test,label_test):\n",
        "    _,l1,accu=ConvForwad(im.reshape(28,28,1),label,convolution1,FirstPooling,convolution2,SecondPooling,FcOne,FcTwo)\n",
        "    loss+=l1\n",
        "    CorrectNumber+=accu\n",
        "  NumberOfTests=len(I_test)\n",
        "  LossTesting.append(loss/NumberOfTests)\n",
        "  print('Loss during Testing',loss/NumberOfTests)\n",
        "  print('Accuracy while Testing ',CorrectNumber/NumberOfTests)"
      ]
    },
    {
      "cell_type": "markdown",
      "metadata": {
        "id": "C6bJuXV2VxBN"
      },
      "source": [
        "Q4"
      ]
    },
    {
      "cell_type": "code",
      "execution_count": null,
      "metadata": {
        "colab": {
          "base_uri": "https://localhost:8080/"
        },
        "id": "1bn3lH70TBVN",
        "outputId": "33e30cc3-a3d7-4c94-ac3a-297f0f06262e"
      },
      "outputs": [
        {
          "output_type": "stream",
          "name": "stdout",
          "text": [
            "Epoch 1\n",
            "Average Loss 2.2169393562243047 Accuracy : 0.196\n",
            "start of testing\n",
            "Loss during Testing 1.8442801051928577\n",
            "Accuracy while Testing  0.525\n",
            "Epoch 2\n",
            "Average Loss 1.1812536603147674 Accuracy : 0.686\n",
            "start of testing\n",
            "Loss during Testing 0.9169948810460719\n",
            "Accuracy while Testing  0.727\n",
            "Epoch 3\n",
            "Average Loss 0.6963014969591358 Accuracy : 0.777\n",
            "start of testing\n",
            "Loss during Testing 0.7931124711514776\n",
            "Accuracy while Testing  0.722\n",
            "Epoch 4\n",
            "Average Loss 0.5779962793904506 Accuracy : 0.812\n",
            "start of testing\n",
            "Loss during Testing 0.6375713642155451\n",
            "Accuracy while Testing  0.788\n",
            "Epoch 5\n",
            "Average Loss 0.5111298157177222 Accuracy : 0.843\n",
            "start of testing\n",
            "Loss during Testing 0.6815835278891721\n",
            "Accuracy while Testing  0.77\n",
            "Epoch 6\n",
            "Average Loss 0.45735802028969674 Accuracy : 0.856\n",
            "start of testing\n",
            "Loss during Testing 0.7309620580538515\n",
            "Accuracy while Testing  0.769\n",
            "Epoch 7\n",
            "Average Loss 0.44915019570315445 Accuracy : 0.858\n",
            "start of testing\n",
            "Loss during Testing 0.6628663065177608\n",
            "Accuracy while Testing  0.78\n",
            "Epoch 8\n",
            "Average Loss 0.42768384896830586 Accuracy : 0.868\n",
            "start of testing\n",
            "Loss during Testing 0.49460343908708443\n",
            "Accuracy while Testing  0.834\n",
            "Epoch 9\n",
            "Average Loss 0.4218709514981983 Accuracy : 0.872\n",
            "start of testing\n",
            "Loss during Testing 0.5197378877992151\n",
            "Accuracy while Testing  0.821\n",
            "Epoch 10\n",
            "Average Loss 0.39524775774661297 Accuracy : 0.884\n",
            "start of testing\n",
            "Loss during Testing 0.6154214799254714\n",
            "Accuracy while Testing  0.795\n",
            "Epoch 11\n",
            "Average Loss 0.3721465757904648 Accuracy : 0.901\n",
            "start of testing\n",
            "Loss during Testing 0.5985998289529555\n",
            "Accuracy while Testing  0.807\n",
            "Epoch 12\n",
            "Average Loss 0.3821191383705746 Accuracy : 0.883\n",
            "start of testing\n",
            "Loss during Testing 0.5452470089653985\n",
            "Accuracy while Testing  0.824\n",
            "Epoch 13\n",
            "Average Loss 0.3617726579371613 Accuracy : 0.888\n",
            "start of testing\n",
            "Loss during Testing 0.8440292026372394\n",
            "Accuracy while Testing  0.732\n",
            "Epoch 14\n",
            "Average Loss 0.35663317700177843 Accuracy : 0.88\n",
            "start of testing\n",
            "Loss during Testing 0.4757220999828643\n",
            "Accuracy while Testing  0.841\n",
            "Epoch 15\n",
            "Average Loss 0.3361936583022559 Accuracy : 0.899\n",
            "start of testing\n",
            "Loss during Testing 0.5377427460946882\n",
            "Accuracy while Testing  0.814\n"
          ]
        }
      ],
      "source": [
        "convolution1=convolution(4,5)\n",
        "FirstPooling=MaxPooling(2)\n",
        "convolution2=convolution(4,5)\n",
        "SecondPooling=MaxPooling(2)\n",
        "FcOne=ArtNeuNet(14*14*4,10)\n",
        "FcTwo=ArtNeuNet(49,10)\n",
        "LossTraining,LossTesting=[],[]\n",
        "for epoch in range(15):\n",
        "  print('Epoch %d'%(epoch+1))\n",
        "  shuffle_index=np.random.permutation(len(I_train))\n",
        "  I_train=I_train[shuffle_index]\n",
        "  label_train=label_train[shuffle_index]\n",
        "  loss=0\n",
        "  CorrectNumber=0\n",
        "  for i ,(im,label) in enumerate(zip(I_train,label_train)):\n",
        "    l1,accu=training_cnn(im.reshape(28,28,1),label,convolution1,FirstPooling,convolution2,SecondPooling,FcOne,FcTwo,'vanila')\n",
        "    loss+=l1\n",
        "    CorrectNumber+=accu\n",
        "  LossTraining.append(loss/len(I_train))\n",
        "  print('Average Loss',loss/len(I_train),'Accuracy :',CorrectNumber/len(I_train))\n",
        "  print(\"start of testing\")\n",
        "  loss=0\n",
        "  CorrectNumber=0\n",
        "  for im,label in zip(I_test,label_test):\n",
        "    _,l1,accu=ConvForwad(im.reshape(28,28,1),label,convolution1,FirstPooling,convolution2,SecondPooling,FcOne,FcTwo)\n",
        "    loss+=l1\n",
        "    CorrectNumber+=accu\n",
        "  NumberOfTests=len(I_test)\n",
        "  LossTesting.append(loss/NumberOfTests)\n",
        "  print('Loss during Testing',loss/NumberOfTests)\n",
        "  print('Accuracy while Testing ',CorrectNumber/NumberOfTests)"
      ]
    },
    {
      "cell_type": "markdown",
      "metadata": {
        "id": "YdSWg6vsUvEG"
      },
      "source": [
        "Q5"
      ]
    },
    {
      "cell_type": "markdown",
      "source": [
        "A"
      ],
      "metadata": {
        "id": "O4gndvxdZTzF"
      }
    },
    {
      "cell_type": "code",
      "execution_count": null,
      "metadata": {
        "colab": {
          "base_uri": "https://localhost:8080/",
          "height": 265
        },
        "id": "IgqSoT2FUPx1",
        "outputId": "cb0878bd-b034-4eac-e13d-017ece0cfac3"
      },
      "outputs": [
        {
          "output_type": "display_data",
          "data": {
            "text/plain": [
              "<Figure size 432x288 with 1 Axes>"
            ],
            "image/png": "[encoded data removed]"
          },
          "metadata": {
            "needs_background": "light"
          }
        }
      ],
      "source": [
        "plt.plot(LossTraining)\n",
        "plt.plot(LossTesting)\n",
        "plt.show()"
      ]
    },
    {
      "cell_type": "markdown",
      "metadata": {
        "id": "fMC5mC-TSgN4"
      },
      "source": [
        "B"
      ]
    },
    {
      "cell_type": "code",
      "execution_count": null,
      "metadata": {
        "id": "9NJqNy0C4q83"
      },
      "outputs": [],
      "source": [
        "def plotting(img):\n",
        "  plt.imshow(img)\n",
        "  plt.style.use(\"seaborn\")\n",
        "  plt.title(str(img.shape))\n",
        "  plt.show()"
      ]
    },
    {
      "cell_type": "code",
      "execution_count": null,
      "metadata": {
        "colab": {
          "base_uri": "https://localhost:8080/",
          "height": 1000
        },
        "id": "KYVXRRl_52R3",
        "outputId": "83416830-4059-4cc7-f94d-46ea71b565f2"
      },
      "outputs": [
        {
          "output_type": "display_data",
          "data": {
            "text/plain": [
              "<Figure size 432x288 with 1 Axes>"
            ],
            "image/png": "[encoded data removed]"
          },
          "metadata": {
            "needs_background": "light"
          }
        },
        {
          "output_type": "display_data",
          "data": {
            "text/plain": [
              "<Figure size 576x396 with 1 Axes>"
            ],
            "image/png": "[encoded data removed]"
          },
          "metadata": {}
        },
        {
          "output_type": "display_data",
          "data": {
            "text/plain": [
              "<Figure size 576x396 with 1 Axes>"
            ],
            "image/png": "[encoded data removed]"
          },
          "metadata": {}
        },
        {
          "output_type": "display_data",
          "data": {
            "text/plain": [
              "<Figure size 576x396 with 1 Axes>"
            ],
            "image/png": "[encoded data removed]"
          },
          "metadata": {}
        }
      ],
      "source": [
        "for i in range(4):\n",
        "  plotting(convolution1.Output_convolv[:,:,i])"
      ]
    },
    {
      "cell_type": "markdown",
      "source": [
        "c"
      ],
      "metadata": {
        "id": "AwLLquBJZofv"
      }
    },
    {
      "cell_type": "code",
      "source": [
        "print('Accuracy of classifier ',CorrectNumber/NumberOfTests)"
      ],
      "metadata": {
        "colab": {
          "base_uri": "https://localhost:8080/"
        },
        "id": "3moHy5Z_Z7-2",
        "outputId": "a1d7c900-937e-44b9-c495-bcaffc0bd5d3"
      },
      "execution_count": null,
      "outputs": [
        {
          "output_type": "stream",
          "name": "stdout",
          "text": [
            "Accuracy of classifier  0.814\n"
          ]
        }
      ]
    },
    {
      "cell_type": "markdown",
      "metadata": {
        "id": "Zd1YEVWvVnRz"
      },
      "source": [
        "Q6"
      ]
    },
    {
      "cell_type": "code",
      "execution_count": null,
      "metadata": {
        "colab": {
          "base_uri": "https://localhost:8080/",
          "height": 347
        },
        "id": "EEv2YZqwTaxb",
        "outputId": "22f6728e-ddc7-457b-e4ea-f0e5d92d1846"
      },
      "outputs": [
        {
          "output_type": "display_data",
          "data": {
            "text/plain": [
              "<Figure size 576x396 with 1 Axes>"
            ],
            "image/png": "[encoded data removed]"
          },
          "metadata": {}
        }
      ],
      "source": [
        "from sklearn.manifold import TSNE\n",
        "embedX = TSNE(n_components=2, learning_rate='auto',init='random').fit_transform(FcOne.bottleneck.reshape(-1,1))\n",
        "plt.scatter(embedX[:,0],embedX[:,1])\n",
        "plt.show()"
      ]
    }
  ],
  "metadata": {
    "colab": {
      "provenance": [],
      "collapsed_sections": []
    },
    "kernelspec": {
      "display_name": "Python 3",
      "name": "python3"
    },
    "language_info": {
      "name": "python"
    }
  },
  "nbformat": 4,
  "nbformat_minor": 0
}
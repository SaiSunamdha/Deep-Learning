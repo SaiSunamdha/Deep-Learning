{
  "nbformat": 4,
  "nbformat_minor": 0,
  "metadata": {
    "colab": {
      "provenance": [],
      "collapsed_sections": []
    },
    "kernelspec": {
      "name": "python3",
      "display_name": "Python 3"
    },
    "language_info": {
      "name": "python"
    }
  },
  "cells": [
    {
      "cell_type": "code",
      "source": [
        "from PIL import  Image\n",
        "from IPython.display import display\n",
        "import numpy as np\n",
        "import matplotlib.pyplot as plt\n",
        "import matplotlib.image as mpimg\n",
        "np.random.seed(24)"
      ],
      "metadata": {
        "id": "YbMi8BZqP9av"
      },
      "execution_count": null,
      "outputs": []
    },
    {
      "cell_type": "code",
      "source": [
        "def unpickle(file):\n",
        "    \"\"\"load the cifar-10 data\"\"\"\n",
        "    import pickle\n",
        "    with open(file, 'rb') as fo:\n",
        "        data = pickle.load(fo, encoding='bytes')\n",
        "    return data\n",
        " \n",
        " \n",
        "def load_cifar_10_data(data_dir, negatives=False):\n",
        " \n",
        "    meta_data_dict = unpickle(data_dir + \"/batches.meta\")\n",
        "    cifar_label_names = meta_data_dict[b'label_names']\n",
        "    cifar_label_names = np.array(cifar_label_names)\n",
        " \n",
        "    cifar_train_data = None\n",
        "    cifar_train_filenames = []\n",
        "    cifar_train_labels = []\n",
        " \n",
        "    for i in range(1, 6):\n",
        "        cifar_train_data_dict = unpickle(data_dir + \"/data_batch_{}\".format(i))\n",
        "        if i == 1:\n",
        "            cifar_train_data = cifar_train_data_dict[b'data']\n",
        "        else:\n",
        "            cifar_train_data = np.vstack((cifar_train_data, cifar_train_data_dict[b'data']))\n",
        "        cifar_train_filenames += cifar_train_data_dict[b'filenames']\n",
        "        cifar_train_labels += cifar_train_data_dict[b'labels']\n",
        " \n",
        "    cifar_train_data = cifar_train_data.reshape((len(cifar_train_data), 3, 32, 32))\n",
        "    if negatives:\n",
        "        cifar_train_data = cifar_train_data.transpose(0, 2, 3, 1).astype(np.float32)\n",
        "    else:\n",
        "        cifar_train_data = np.rollaxis(cifar_train_data, 1, 4)\n",
        "    cifar_train_filenames = np.array(cifar_train_filenames)\n",
        "    cifar_train_labels = np.array(cifar_train_labels)\n",
        " \n",
        "    cifar_test_data_dict = unpickle(data_dir + \"/test_batch\")\n",
        "    cifar_test_data = cifar_test_data_dict[b'data']\n",
        "    cifar_test_filenames = cifar_test_data_dict[b'filenames']\n",
        "    cifar_test_labels = cifar_test_data_dict[b'labels']\n",
        " \n",
        "    cifar_test_data = cifar_test_data.reshape((len(cifar_test_data), 3, 32, 32))\n",
        "    if negatives:\n",
        "        cifar_test_data = cifar_test_data.transpose(0, 2, 3, 1).astype(np.float32)\n",
        "    else:\n",
        "        cifar_test_data = np.rollaxis(cifar_test_data, 1, 4)\n",
        "    cifar_test_filenames = np.array(cifar_test_filenames)\n",
        "    cifar_test_labels = np.array(cifar_test_labels)\n",
        " \n",
        "    return cifar_train_data, cifar_train_filenames, cifar_train_labels, \\\n",
        "        cifar_test_data, cifar_test_filenames, cifar_test_labels, cifar_label_names\n",
        " \n",
        "!wget \"https://www.cs.toronto.edu/~kriz/cifar-10-python.tar.gz\"\n",
        "!tar -xzvf \"/content/cifar-10-python.tar.gz\"\n",
        "cifar_10_dir = r\"/content/cifar-10-batches-py\"\n",
        " \n",
        "train_data, train_filenames, train_labels, test_data, test_filenames, test_labels, label_names = \\\n",
        "load_cifar_10_data(cifar_10_dir)"
      ],
      "metadata": {
        "colab": {
          "base_uri": "https://localhost:8080/"
        },
        "id": "KVkpQV2QUNRi",
        "outputId": "4d9d01e1-2300-4eae-d09b-e441a7f2e390"
      },
      "execution_count": null,
      "outputs": [
        {
          "output_type": "stream",
          "name": "stdout",
          "text": [
            "--2022-03-16 18:10:03--  https://www.cs.toronto.edu/~kriz/cifar-10-python.tar.gz\n",
            "Resolving www.cs.toronto.edu (www.cs.toronto.edu)... 128.100.3.30\n",
            "Connecting to www.cs.toronto.edu (www.cs.toronto.edu)|128.100.3.30|:443... connected.\n",
            "HTTP request sent, awaiting response... 200 OK\n",
            "Length: 170498071 (163M) [application/x-gzip]\n",
            "Saving to: ‘cifar-10-python.tar.gz’\n",
            "\n",
            "cifar-10-python.tar 100%[===================>] 162.60M  51.5MB/s    in 3.5s    \n",
            "\n",
            "2022-03-16 18:10:07 (47.0 MB/s) - ‘cifar-10-python.tar.gz’ saved [170498071/170498071]\n",
            "\n",
            "cifar-10-batches-py/\n",
            "cifar-10-batches-py/data_batch_4\n",
            "cifar-10-batches-py/readme.html\n",
            "cifar-10-batches-py/test_batch\n",
            "cifar-10-batches-py/data_batch_3\n",
            "cifar-10-batches-py/batches.meta\n",
            "cifar-10-batches-py/data_batch_2\n",
            "cifar-10-batches-py/data_batch_5\n",
            "cifar-10-batches-py/data_batch_1\n"
          ]
        }
      ]
    },
    {
      "cell_type": "code",
      "source": [
        "def padding_function( img , ValuesOfPad: tuple ):\n",
        "  H,W,C = img.shape\n",
        "  Heigh_pad,width_pad         =  ValuesOfPad \n",
        "  # size of output image \n",
        "  H_pad =  H + 2*Heigh_pad\n",
        "  W_pad =  W + 2*width_pad\n",
        "  paddedImage = np.zeros([H_pad,W_pad,C])\n",
        "\n",
        "  for ch in range(C) :\n",
        "      paddedImage[Heigh_pad:-Heigh_pad, :width_pad ,ch   ] =  np.copy(img[:,:width_pad,ch][:,::-1])  \n",
        "      paddedImage[Heigh_pad:-Heigh_pad, -width_pad :  ,ch ] =   np.copy(img[:,-width_pad:,ch][:,::-1])  \n",
        "\n",
        "      # copying image in center\n",
        "      paddedImage[Heigh_pad:-Heigh_pad , width_pad:-width_pad,ch] = np.copy(img[:,:,ch])\n",
        "      paddedImage[:Heigh_pad,:,ch] = np.copy(paddedImage[Heigh_pad:2*Heigh_pad,:,ch][::-1]) #First two rows\n",
        "      paddedImage[-Heigh_pad:,:,ch] = np.copy(paddedImage[-2*Heigh_pad:-Heigh_pad,:,ch][::-1]) #LAst two rows\n",
        "\n",
        "  return paddedImage"
      ],
      "metadata": {
        "id": "NSiXWu_8Qb23"
      },
      "execution_count": null,
      "outputs": []
    },
    {
      "cell_type": "markdown",
      "source": [
        "**Convolution function:**"
      ],
      "metadata": {
        "id": "h0iDadWDr6Ys"
      }
    },
    {
      "cell_type": "code",
      "source": [
        "def convolution( img   ,kernel , NonLinearFunc: str  ,padding: tuple = (0,0), stride: tuple = (1,1) ,  pad_bin: bool = 0  ):\n",
        "\n",
        "  Heigh_k , Width_k , C  = kernel.shape\n",
        "  H,W,C  = img.shape\n",
        "  heigh_pad,Width_pad   =  padding\n",
        "  heigh_stride,width_stride = stride\n",
        "  ReLU  = lambda x: max(0,x)\n",
        "  PReLu  = lambda x : np.where(x >= 0, x, 0.02 * x) # a = 0.02\n",
        "  TanH  = lambda x : 2 / (1 + np.exp(-2*x)) - 1\n",
        "  Sigmoid = lambda x : 1/ (1+np.exp(-x))\n",
        "\n",
        "  ActivFunc = {\n",
        "    'ReLU': ReLU,\n",
        "    'Sigmoid': Sigmoid,\n",
        "    'PReLu': PReLu,\n",
        "    'TanH': TanH\n",
        "  }\n",
        "\n",
        "  let_NonLinearFunc = ActivFunc[NonLinearFunc]\n",
        "\n",
        "  # Normalizing kernel values\n",
        "  kernel = kernel / ((Heigh_k**2 )*(Width_k**2))\n",
        "\n",
        "  H_pad = int( ( H - Heigh_k + 2*(heigh_pad)) / heigh_stride ) + 1\n",
        "  W_pad = int( (W - Width_k + 2*(Width_pad)) / width_stride  ) + 1\n",
        "  map_activ = np.zeros((H_pad , W_pad ))\n",
        "  output = np.zeros((H_pad , W_pad ))\n",
        "  \n",
        "  \n",
        "  # Padding \n",
        "  if pad_bin :\n",
        "    im_pad  = padding_function(img,padding)\n",
        "  else :\n",
        "    im_pad = img\n",
        "\n",
        "  count = 0\n",
        "  for h in range(0,H,heigh_stride):                     \n",
        "        for w in range(0,W,width_stride):                     \n",
        "              count+=1\n",
        "              StartVertical = h \n",
        "              StartHorizental = w\n",
        "              End_Vertical = StartVertical + Heigh_k\n",
        "              EndHorizental = StartHorizental + Width_k\n",
        "\n",
        "              if ( StartHorizental < (W_pad - (Width_k) )) and ( StartVertical < (H_pad - Heigh_k) ):\n",
        "                ImageSlice = im_pad[StartVertical:End_Vertical , StartHorizental:EndHorizental , :]\n",
        "                ConvVal = np.multiply(ImageSlice,kernel) # taking one kernel at a time\n",
        "                # sum on convolved channels \n",
        "                output[h,w] = np.sum(ConvVal) \n",
        "                map_activ[h,w] = let_NonLinearFunc(output[h,w])\n",
        "\n",
        "  return map_activ"
      ],
      "metadata": {
        "id": "ko1c6AxucV58"
      },
      "execution_count": null,
      "outputs": []
    },
    {
      "cell_type": "code",
      "source": [
        "\n",
        "kernel = np.random.rand(3,3,3)\n",
        "im =  np.asarray(train_data[2])\n",
        "im.shape"
      ],
      "metadata": {
        "colab": {
          "base_uri": "https://localhost:8080/"
        },
        "id": "FoOwtPf5k-Af",
        "outputId": "2e35401c-0795-497f-d938-dd3fd636b6ee"
      },
      "execution_count": null,
      "outputs": [
        {
          "output_type": "execute_result",
          "data": {
            "text/plain": [
              "(32, 32, 3)"
            ]
          },
          "metadata": {},
          "execution_count": 5
        }
      ]
    },
    {
      "cell_type": "markdown",
      "source": [
        " Q1 Display the input image, the filter kernel and the output activation map.\n"
      ],
      "metadata": {
        "id": "pWp6xpjDpK24"
      }
    },
    {
      "cell_type": "code",
      "source": [
        "plt.imshow(im)"
      ],
      "metadata": {
        "colab": {
          "base_uri": "https://localhost:8080/",
          "height": 285
        },
        "id": "vGTTay3TrRGX",
        "outputId": "91234a4d-5db6-4d52-ca74-82873e4dca0c"
      },
      "execution_count": null,
      "outputs": [
        {
          "output_type": "execute_result",
          "data": {
            "text/plain": [
              "<matplotlib.image.AxesImage at 0x7ff97b35ffd0>"
            ]
          },
          "metadata": {},
          "execution_count": 6
        },
        {
          "output_type": "display_data",
          "data": {
            "text/plain": [
              "<Figure size 432x288 with 1 Axes>"
            ],
            "image/png": "[encoded data removed]"
          },
          "metadata": {
            "needs_background": "light"
          }
        }
      ]
    },
    {
      "cell_type": "code",
      "source": [
        "kernel"
      ],
      "metadata": {
        "colab": {
          "base_uri": "https://localhost:8080/"
        },
        "id": "eOqg_uGlo_Mr",
        "outputId": "e50888b1-5a38-4b10-dc88-dcbd83179776"
      },
      "execution_count": null,
      "outputs": [
        {
          "output_type": "execute_result",
          "data": {
            "text/plain": [
              "array([[[0.9600173 , 0.69951205, 0.99986729],\n",
              "        [0.2200673 , 0.36105635, 0.73984099],\n",
              "        [0.99645573, 0.31634698, 0.13654458]],\n",
              "\n",
              "       [[0.38398001, 0.32051928, 0.36641475],\n",
              "        [0.70965156, 0.90014243, 0.53411544],\n",
              "        [0.24729376, 0.67180656, 0.56172911]],\n",
              "\n",
              "       [[0.54255988, 0.8934476 , 0.84277955],\n",
              "        [0.30601259, 0.63116978, 0.68023886],\n",
              "        [0.97042756, 0.89356715, 0.94242586]]])"
            ]
          },
          "metadata": {},
          "execution_count": 7
        }
      ]
    },
    {
      "cell_type": "code",
      "source": [
        "convolution(im,kernel,NonLinearFunc = 'PReLu',padding=(2,2),pad_bin=1)"
      ],
      "metadata": {
        "colab": {
          "base_uri": "https://localhost:8080/"
        },
        "id": "o9tZZ_pbla4l",
        "outputId": "fb5366e5-acd2-4a09-b15a-172a07c863a2"
      },
      "execution_count": null,
      "outputs": [
        {
          "output_type": "execute_result",
          "data": {
            "text/plain": [
              "array([[52.89429789, 52.87114853, 52.77827617, ...,  0.        ,\n",
              "         0.        ,  0.        ],\n",
              "       [52.88490012, 52.90465651, 52.81910407, ...,  0.        ,\n",
              "         0.        ,  0.        ],\n",
              "       [52.88320927, 52.90657304, 52.85398846, ...,  0.        ,\n",
              "         0.        ,  0.        ],\n",
              "       ...,\n",
              "       [ 0.        ,  0.        ,  0.        , ...,  0.        ,\n",
              "         0.        ,  0.        ],\n",
              "       [ 0.        ,  0.        ,  0.        , ...,  0.        ,\n",
              "         0.        ,  0.        ],\n",
              "       [ 0.        ,  0.        ,  0.        , ...,  0.        ,\n",
              "         0.        ,  0.        ]])"
            ]
          },
          "metadata": {},
          "execution_count": 8
        }
      ]
    },
    {
      "cell_type": "code",
      "source": [
        "convolution(im,kernel,NonLinearFunc = 'ReLU',padding=(2,2),pad_bin=1)"
      ],
      "metadata": {
        "colab": {
          "base_uri": "https://localhost:8080/"
        },
        "id": "xrRgJ-ohnohA",
        "outputId": "269044a9-3e21-4572-e240-33e7f6c93c84"
      },
      "execution_count": null,
      "outputs": [
        {
          "output_type": "execute_result",
          "data": {
            "text/plain": [
              "array([[52.89429789, 52.87114853, 52.77827617, ...,  0.        ,\n",
              "         0.        ,  0.        ],\n",
              "       [52.88490012, 52.90465651, 52.81910407, ...,  0.        ,\n",
              "         0.        ,  0.        ],\n",
              "       [52.88320927, 52.90657304, 52.85398846, ...,  0.        ,\n",
              "         0.        ,  0.        ],\n",
              "       ...,\n",
              "       [ 0.        ,  0.        ,  0.        , ...,  0.        ,\n",
              "         0.        ,  0.        ],\n",
              "       [ 0.        ,  0.        ,  0.        , ...,  0.        ,\n",
              "         0.        ,  0.        ],\n",
              "       [ 0.        ,  0.        ,  0.        , ...,  0.        ,\n",
              "         0.        ,  0.        ]])"
            ]
          },
          "metadata": {},
          "execution_count": 9
        }
      ]
    },
    {
      "cell_type": "code",
      "source": [
        "convolution(im,kernel,NonLinearFunc = 'Sigmoid',padding=(2,2),pad_bin=1)"
      ],
      "metadata": {
        "colab": {
          "base_uri": "https://localhost:8080/"
        },
        "id": "NIl9Pu-unz4g",
        "outputId": "a27a8584-cbbc-4472-adb3-f5a692b15703"
      },
      "execution_count": null,
      "outputs": [
        {
          "output_type": "execute_result",
          "data": {
            "text/plain": [
              "array([[1., 1., 1., ..., 0., 0., 0.],\n",
              "       [1., 1., 1., ..., 0., 0., 0.],\n",
              "       [1., 1., 1., ..., 0., 0., 0.],\n",
              "       ...,\n",
              "       [0., 0., 0., ..., 0., 0., 0.],\n",
              "       [0., 0., 0., ..., 0., 0., 0.],\n",
              "       [0., 0., 0., ..., 0., 0., 0.]])"
            ]
          },
          "metadata": {},
          "execution_count": 10
        }
      ]
    },
    {
      "cell_type": "code",
      "source": [
        "convolution(im,kernel,NonLinearFunc = 'TanH',padding=(2,2),pad_bin=1)"
      ],
      "metadata": {
        "colab": {
          "base_uri": "https://localhost:8080/"
        },
        "id": "5vQQOIW-n0OP",
        "outputId": "71178e06-c178-46bd-f7dc-d796428077f4"
      },
      "execution_count": null,
      "outputs": [
        {
          "output_type": "execute_result",
          "data": {
            "text/plain": [
              "array([[1., 1., 1., ..., 0., 0., 0.],\n",
              "       [1., 1., 1., ..., 0., 0., 0.],\n",
              "       [1., 1., 1., ..., 0., 0., 0.],\n",
              "       ...,\n",
              "       [0., 0., 0., ..., 0., 0., 0.],\n",
              "       [0., 0., 0., ..., 0., 0., 0.],\n",
              "       [0., 0., 0., ..., 0., 0., 0.]])"
            ]
          },
          "metadata": {},
          "execution_count": 11
        }
      ]
    },
    {
      "cell_type": "markdown",
      "source": [
        "**Pooling function**"
      ],
      "metadata": {
        "id": "gzwvQBA9sarS"
      }
    },
    {
      "cell_type": "code",
      "source": [
        "def Poolingfunction(active_map ,SizeOfKernel: tuple = (2,2), func = 'Max',stride: tuple = (2,2)  ):\n",
        "  \n",
        "\n",
        "  max = lambda x : np.amax(x)\n",
        "  height_Kernel,Width_kernel = SizeOfKernel\n",
        "  \n",
        "  avg = lambda x : np.sum(x) / (height_Kernel*Width_kernel)\n",
        "  \n",
        "  norm = lambda x : np.sqrt(np.sum(x**2))\n",
        "  \n",
        "  Pooling_functions ={'Max' : max ,'Avg':avg , 'L2_norm': norm }\n",
        "  pool_func = Pooling_functions[func]\n",
        "  H,W = active_map.shape\n",
        "  heigh_stride,width_stride = stride\n",
        "\n",
        "\n",
        "  H_out = int( ( H - height_Kernel )/heigh_stride ) + 1\n",
        "  W_out = int( (W - Width_kernel )/width_stride ) + 1\n",
        "  output = np.zeros([H_out,W_out])\n",
        "\n",
        "  for h in range(0,H,heigh_stride):                     \n",
        "      for w in range(0,W,width_stride):\n",
        "\n",
        "        StartVertical = h \n",
        "        StartHorizental = w\n",
        "        End_Vertical = StartVertical + height_Kernel\n",
        "        EndHorizental = StartHorizental + Width_kernel\n",
        "\n",
        "        if ( StartHorizental < (W_out - Width_kernel )) and ( StartVertical < (H_out - height_Kernel) ):\n",
        "\n",
        "          # Slice the image for pooling    \n",
        "          ImageSlice= active_map[StartVertical:End_Vertical , StartHorizental:EndHorizental ]\n",
        "          output[h,w] = pool_func(ImageSlice[:,:])\n",
        "\n",
        "  \n",
        "  return output"
      ],
      "metadata": {
        "id": "TTDScJEAseLT"
      },
      "execution_count": null,
      "outputs": []
    },
    {
      "cell_type": "markdown",
      "source": [
        "Q2 Display the input activation map and the pooled output."
      ],
      "metadata": {
        "id": "dBr3x0Gh87Vh"
      }
    },
    {
      "cell_type": "code",
      "source": [
        "active=convolution(im,kernel,NonLinearFunc = 'TanH',padding=(2,2),pad_bin=1)\n",
        "print(\"shape of activation map \",active.shape)\n",
        "active"
      ],
      "metadata": {
        "colab": {
          "base_uri": "https://localhost:8080/"
        },
        "id": "7Rczu-EF9dqn",
        "outputId": "78ec6215-a10c-479e-a054-3c8f7efc71f8"
      },
      "execution_count": null,
      "outputs": [
        {
          "output_type": "stream",
          "name": "stdout",
          "text": [
            "shape of activation map  (34, 34)\n"
          ]
        },
        {
          "output_type": "execute_result",
          "data": {
            "text/plain": [
              "array([[1., 1., 1., ..., 0., 0., 0.],\n",
              "       [1., 1., 1., ..., 0., 0., 0.],\n",
              "       [1., 1., 1., ..., 0., 0., 0.],\n",
              "       ...,\n",
              "       [0., 0., 0., ..., 0., 0., 0.],\n",
              "       [0., 0., 0., ..., 0., 0., 0.],\n",
              "       [0., 0., 0., ..., 0., 0., 0.]])"
            ]
          },
          "metadata": {},
          "execution_count": 13
        }
      ]
    },
    {
      "cell_type": "code",
      "source": [
        "\n",
        "pool=Poolingfunction(active,SizeOfKernel = (2,2),stride = (2,2))\n",
        "print(\"shape of  pooled output \",pool.shape)\n",
        "pool"
      ],
      "metadata": {
        "colab": {
          "base_uri": "https://localhost:8080/"
        },
        "id": "ToJjlyxpxnbS",
        "outputId": "f7e94cf8-38ec-4f58-c1a9-019d6fc69f37"
      },
      "execution_count": null,
      "outputs": [
        {
          "output_type": "stream",
          "name": "stdout",
          "text": [
            "shape of  pooled output  (17, 17)\n"
          ]
        },
        {
          "output_type": "execute_result",
          "data": {
            "text/plain": [
              "array([[1., 0., 1., 0., 1., 0., 1., 0., 1., 0., 1., 0., 1., 0., 1., 0.,\n",
              "        0.],\n",
              "       [0., 0., 0., 0., 0., 0., 0., 0., 0., 0., 0., 0., 0., 0., 0., 0.,\n",
              "        0.],\n",
              "       [1., 0., 1., 0., 1., 0., 1., 0., 1., 0., 1., 0., 1., 0., 1., 0.,\n",
              "        0.],\n",
              "       [0., 0., 0., 0., 0., 0., 0., 0., 0., 0., 0., 0., 0., 0., 0., 0.,\n",
              "        0.],\n",
              "       [1., 0., 1., 0., 1., 0., 1., 0., 1., 0., 1., 0., 1., 0., 1., 0.,\n",
              "        0.],\n",
              "       [0., 0., 0., 0., 0., 0., 0., 0., 0., 0., 0., 0., 0., 0., 0., 0.,\n",
              "        0.],\n",
              "       [1., 0., 1., 0., 1., 0., 1., 0., 1., 0., 1., 0., 1., 0., 1., 0.,\n",
              "        0.],\n",
              "       [0., 0., 0., 0., 0., 0., 0., 0., 0., 0., 0., 0., 0., 0., 0., 0.,\n",
              "        0.],\n",
              "       [1., 0., 1., 0., 1., 0., 1., 0., 1., 0., 1., 0., 1., 0., 1., 0.,\n",
              "        0.],\n",
              "       [0., 0., 0., 0., 0., 0., 0., 0., 0., 0., 0., 0., 0., 0., 0., 0.,\n",
              "        0.],\n",
              "       [1., 0., 1., 0., 1., 0., 1., 0., 1., 0., 1., 0., 1., 0., 1., 0.,\n",
              "        0.],\n",
              "       [0., 0., 0., 0., 0., 0., 0., 0., 0., 0., 0., 0., 0., 0., 0., 0.,\n",
              "        0.],\n",
              "       [1., 0., 1., 0., 1., 0., 1., 0., 1., 0., 1., 0., 1., 0., 1., 0.,\n",
              "        0.],\n",
              "       [0., 0., 0., 0., 0., 0., 0., 0., 0., 0., 0., 0., 0., 0., 0., 0.,\n",
              "        0.],\n",
              "       [1., 0., 1., 0., 1., 0., 1., 0., 1., 0., 1., 0., 1., 0., 1., 0.,\n",
              "        0.],\n",
              "       [0., 0., 0., 0., 0., 0., 0., 0., 0., 0., 0., 0., 0., 0., 0., 0.,\n",
              "        0.],\n",
              "       [0., 0., 0., 0., 0., 0., 0., 0., 0., 0., 0., 0., 0., 0., 0., 0.,\n",
              "        0.]])"
            ]
          },
          "metadata": {},
          "execution_count": 14
        }
      ]
    },
    {
      "cell_type": "markdown",
      "source": [
        "**Convolution layer function**"
      ],
      "metadata": {
        "id": "CIfxbpkU-ZTg"
      }
    },
    {
      "cell_type": "code",
      "source": [
        "def Convolutionlayerfunction( img   ,kernel , NonLinearFunc: str  ,padding: tuple = (0,0), stride: tuple = (1,1) ,  pad_bin: bool = 0 ):\n",
        "  Heigh_k , Width_k , Channel ,Channel_out  = kernel.shape\n",
        "  heigh_stride,width_stride = stride\n",
        "  heigh_pad,Width_pad   =  padding\n",
        "  H,W,Channel  = img.shape\n",
        "\n",
        "  H_out = int( ( H - Heigh_k + 2*(heigh_pad))/heigh_stride ) + 1\n",
        "  W_out = int( (W - Width_k + 2*(Width_pad))/width_stride  ) + 1\n",
        "  map_activ = np.zeros([H_out,W_out,Channel_out])\n",
        "\n",
        "  for c in range(Channel_out) :\n",
        "    map_activ[:,:,c] = convolution(img ,kernel[:,:,:,c],NonLinearFunc = NonLinearFunc ,padding = padding , stride = stride , pad_bin = pad_bin)\n",
        "\n",
        "  return map_activ"
      ],
      "metadata": {
        "id": "38elRdnl-c3Q"
      },
      "execution_count": null,
      "outputs": []
    },
    {
      "cell_type": "markdown",
      "source": [
        "Q 3 Display the input image or activation\n",
        "maps, the filter kernels and the output activation maps."
      ],
      "metadata": {
        "id": "nfARi8uXCcmd"
      }
    },
    {
      "cell_type": "code",
      "source": [
        "\n",
        "im =  np.asarray(train_data[14])\n",
        "plt.imshow(im)"
      ],
      "metadata": {
        "colab": {
          "base_uri": "https://localhost:8080/",
          "height": 285
        },
        "id": "JN57BLo_EUq7",
        "outputId": "e8336ffc-45ea-4565-f9c8-ed06ecdd1ef1"
      },
      "execution_count": null,
      "outputs": [
        {
          "output_type": "execute_result",
          "data": {
            "text/plain": [
              "<matplotlib.image.AxesImage at 0x7ff97b104650>"
            ]
          },
          "metadata": {},
          "execution_count": 16
        },
        {
          "output_type": "display_data",
          "data": {
            "text/plain": [
              "<Figure size 432x288 with 1 Axes>"
            ],
            "image/png": "[encoded data removed]"
          },
          "metadata": {
            "needs_background": "light"
          }
        }
      ]
    },
    {
      "cell_type": "code",
      "source": [
        "kernel = np.random.rand(3,3,3,10)\n",
        "kernel"
      ],
      "metadata": {
        "colab": {
          "base_uri": "https://localhost:8080/"
        },
        "id": "PhXSH9HtCeDQ",
        "outputId": "957a59aa-44a1-498f-e2d4-081cf8e2ce2d"
      },
      "execution_count": null,
      "outputs": [
        {
          "output_type": "execute_result",
          "data": {
            "text/plain": [
              "array([[[[6.42225481e-01, 6.14647634e-01, 2.27683254e-01,\n",
              "          4.86031869e-01, 8.07219299e-01, 8.44220154e-01,\n",
              "          5.34680866e-01, 7.57798050e-01, 4.99676886e-01,\n",
              "          8.50327897e-01],\n",
              "         [6.19696775e-01, 8.61614179e-01, 2.31697197e-01,\n",
              "          4.02218415e-01, 6.24375062e-01, 1.43036706e-01,\n",
              "          1.22798484e-01, 4.16829911e-01, 5.56882982e-01,\n",
              "          9.41419175e-01],\n",
              "         [4.09259023e-01, 7.36751449e-01, 9.95450674e-01,\n",
              "          9.16664349e-01, 2.02327259e-03, 9.71331693e-01,\n",
              "          8.89048177e-01, 6.99488606e-01, 9.75246685e-02,\n",
              "          5.73429039e-01]],\n",
              "\n",
              "        [[8.20037116e-01, 5.60891051e-01, 3.50762461e-01,\n",
              "          5.43499756e-01, 8.79589092e-01, 1.14096565e-01,\n",
              "          3.14388054e-02, 9.52810060e-01, 2.88743474e-01,\n",
              "          4.41949171e-01],\n",
              "         [2.59021532e-01, 5.96891444e-01, 6.55286046e-01,\n",
              "          2.75695461e-01, 8.57972458e-01, 8.88724146e-01,\n",
              "          2.85060591e-01, 6.59560419e-01, 9.72120259e-01,\n",
              "          7.96874113e-01],\n",
              "         [1.79464401e-01, 7.84672978e-01, 9.70127889e-01,\n",
              "          3.62811769e-01, 8.78860648e-02, 3.43833424e-01,\n",
              "          5.71109646e-01, 1.65512682e-01, 6.31615939e-01,\n",
              "          6.55655353e-02]],\n",
              "\n",
              "        [[9.12874191e-01, 8.86539792e-02, 1.99387678e-01,\n",
              "          4.71952698e-01, 4.40997180e-01, 7.65551427e-01,\n",
              "          1.27435337e-02, 6.80662964e-01, 2.75602640e-01,\n",
              "          6.03979821e-01],\n",
              "         [5.45972846e-01, 2.09789811e-01, 1.36122754e-01,\n",
              "          7.69162614e-01, 4.74584253e-01, 5.19113169e-01,\n",
              "          9.44193046e-01, 6.43525362e-01, 4.38250373e-01,\n",
              "          4.63787708e-01],\n",
              "         [2.48831454e-01, 2.56759370e-01, 2.29940647e-02,\n",
              "          9.32405087e-01, 3.92259006e-01, 6.48287373e-01,\n",
              "          3.56739526e-01, 1.10440398e-01, 4.48558201e-01,\n",
              "          4.68923836e-01]]],\n",
              "\n",
              "\n",
              "       [[[5.81458719e-02, 8.16603703e-01, 2.89341254e-01,\n",
              "          6.51091349e-01, 1.53705617e-01, 5.28271074e-01,\n",
              "          6.82148499e-01, 7.11799613e-01, 7.42616683e-01,\n",
              "          5.78734368e-01],\n",
              "         [3.80499732e-01, 7.65049621e-01, 5.12362273e-02,\n",
              "          9.12336309e-01, 4.37043006e-01, 6.35951479e-01,\n",
              "          8.21420794e-01, 1.76210214e-01, 5.51791499e-01,\n",
              "          5.48406606e-01],\n",
              "         [9.20328079e-01, 8.33286898e-01, 6.60019020e-01,\n",
              "          6.89698697e-01, 2.86245761e-01, 9.01868878e-01,\n",
              "          5.52238501e-02, 4.21096134e-01, 7.86895587e-01,\n",
              "          9.27283848e-01]],\n",
              "\n",
              "        [[1.57440737e-01, 5.58584292e-01, 4.51171757e-01,\n",
              "          7.48985360e-01, 8.39253654e-01, 4.55746268e-02,\n",
              "          5.05643062e-01, 5.88814808e-01, 6.17683152e-02,\n",
              "          2.49223184e-02],\n",
              "         [5.92589541e-01, 7.39377789e-01, 9.68394966e-03,\n",
              "          9.82292996e-01, 4.58936027e-02, 5.66805083e-01,\n",
              "          9.94523003e-02, 3.50336973e-01, 3.94463463e-01,\n",
              "          3.87282864e-01],\n",
              "         [4.02699172e-01, 9.29916146e-01, 9.42137690e-01,\n",
              "          1.80240394e-01, 7.30513108e-01, 6.80181250e-01,\n",
              "          8.83898385e-01, 5.80875065e-01, 6.98774489e-01,\n",
              "          2.51284717e-01]],\n",
              "\n",
              "        [[8.12918537e-01, 5.62908253e-01, 3.10271564e-01,\n",
              "          3.74634527e-01, 8.21816302e-01, 9.05369586e-01,\n",
              "          9.18238701e-01, 2.29450576e-01, 1.49679906e-01,\n",
              "          7.64679991e-01],\n",
              "         [3.29944054e-01, 9.21893274e-01, 3.99757936e-01,\n",
              "          1.78014457e-01, 9.80384843e-02, 1.23688750e-01,\n",
              "          6.28657011e-01, 4.75658411e-01, 7.02289063e-01,\n",
              "          1.02262794e-01],\n",
              "         [9.26771537e-02, 7.25037079e-01, 3.71146635e-01,\n",
              "          2.86394420e-01, 8.79426718e-01, 3.45965333e-02,\n",
              "          1.82051858e-02, 3.17715645e-01, 3.75128312e-01,\n",
              "          9.96912294e-01]]],\n",
              "\n",
              "\n",
              "       [[[8.15052163e-01, 6.41503527e-01, 1.53590704e-01,\n",
              "          7.33059144e-01, 2.87393148e-01, 3.69132856e-01,\n",
              "          1.67317493e-02, 8.52986199e-01, 3.09490959e-01,\n",
              "          5.62927097e-01],\n",
              "         [9.09326254e-02, 7.92601581e-01, 2.92094893e-02,\n",
              "          5.57266815e-02, 7.20349835e-01, 3.11695612e-02,\n",
              "          4.82600955e-01, 7.11529656e-01, 4.80504763e-01,\n",
              "          8.01016076e-01],\n",
              "         [5.48874139e-01, 6.02903934e-01, 7.59279172e-01,\n",
              "          1.15620289e-02, 9.28798045e-01, 6.18509577e-01,\n",
              "          8.00932026e-01, 1.19527131e-02, 5.63375577e-01,\n",
              "          2.05771584e-01]],\n",
              "\n",
              "        [[2.70741308e-01, 3.81123790e-01, 9.99151338e-01,\n",
              "          9.90125772e-01, 7.63854229e-01, 7.18335689e-02,\n",
              "          9.74027918e-01, 9.85531692e-01, 2.40194264e-01,\n",
              "          5.01016701e-01],\n",
              "         [6.95637519e-01, 2.65187473e-01, 9.65439686e-01,\n",
              "          8.98595581e-01, 5.25484325e-01, 5.07520060e-01,\n",
              "          4.38633283e-01, 1.00641056e-02, 8.52153543e-01,\n",
              "          6.81227793e-01],\n",
              "         [9.55142378e-01, 2.46421672e-01, 1.38632845e-01,\n",
              "          6.77384750e-01, 6.35503366e-01, 6.13513285e-01,\n",
              "          9.24742701e-01, 5.97972272e-02, 7.21803833e-01,\n",
              "          9.73743106e-01]],\n",
              "\n",
              "        [[6.49425009e-02, 5.93962969e-01, 1.58315334e-01,\n",
              "          9.94671747e-01, 8.61181286e-01, 3.65023150e-01,\n",
              "          9.95060383e-01, 3.23569413e-01, 4.20257767e-01,\n",
              "          4.82870499e-02],\n",
              "         [3.67363152e-01, 1.66266560e-01, 1.60044957e-01,\n",
              "          3.76225828e-01, 2.26261959e-01, 2.92553492e-01,\n",
              "          4.18605813e-01, 8.05852086e-01, 1.09947436e-02,\n",
              "          1.49610438e-01],\n",
              "         [9.78271450e-01, 4.09506116e-02, 2.18705772e-04,\n",
              "          8.68306679e-01, 1.06728342e-01, 8.85054550e-01,\n",
              "          6.52676546e-01, 1.70611329e-01, 1.62256087e-02,\n",
              "          1.44236795e-01]]]])"
            ]
          },
          "metadata": {},
          "execution_count": 17
        }
      ]
    },
    {
      "cell_type": "code",
      "source": [
        "OutputActivationMap=Convolutionlayerfunction(im,kernel,NonLinearFunc = 'ReLU',padding=(2,2),pad_bin=1)\n",
        "OutputActivationMap"
      ],
      "metadata": {
        "colab": {
          "base_uri": "https://localhost:8080/"
        },
        "id": "rd8DK4ajEIMb",
        "outputId": "01a498a0-18f9-4ea0-ff83-dc2aa76bf2e4"
      },
      "execution_count": null,
      "outputs": [
        {
          "output_type": "execute_result",
          "data": {
            "text/plain": [
              "array([[[23.6936805 , 27.49175448, 19.95210433, ..., 21.03150786,\n",
              "         22.72224662, 24.89570512],\n",
              "        [23.70517851, 27.57004695, 20.00516769, ..., 21.05461893,\n",
              "         22.77457241, 24.94803633],\n",
              "        [23.60239468, 27.45171722, 19.86657252, ..., 20.95781093,\n",
              "         22.64759497, 24.84658146],\n",
              "        ...,\n",
              "        [ 0.        ,  0.        ,  0.        , ...,  0.        ,\n",
              "          0.        ,  0.        ],\n",
              "        [ 0.        ,  0.        ,  0.        , ...,  0.        ,\n",
              "          0.        ,  0.        ],\n",
              "        [ 0.        ,  0.        ,  0.        , ...,  0.        ,\n",
              "          0.        ,  0.        ]],\n",
              "\n",
              "       [[23.60454304, 27.54411591, 20.00708136, ..., 21.05994317,\n",
              "         22.72607823, 24.87432006],\n",
              "        [23.6107209 , 27.62730335, 20.0631869 , ..., 21.08670146,\n",
              "         22.77144917, 24.92386952],\n",
              "        [23.52120019, 27.4938708 , 19.92283823, ..., 20.99340086,\n",
              "         22.64319993, 24.84121636],\n",
              "        ...,\n",
              "        [ 0.        ,  0.        ,  0.        , ...,  0.        ,\n",
              "          0.        ,  0.        ],\n",
              "        [ 0.        ,  0.        ,  0.        , ...,  0.        ,\n",
              "          0.        ,  0.        ],\n",
              "        [ 0.        ,  0.        ,  0.        , ...,  0.        ,\n",
              "          0.        ,  0.        ]],\n",
              "\n",
              "       [[23.65251036, 27.54918443, 20.0236088 , ..., 21.16260561,\n",
              "         22.73468251, 24.89858044],\n",
              "        [23.65248728, 27.63484111, 20.08577753, ..., 21.18017392,\n",
              "         22.77440464, 24.95204483],\n",
              "        [23.56013139, 27.51029894, 19.95709088, ..., 21.09984929,\n",
              "         22.64498607, 24.85312032],\n",
              "        ...,\n",
              "        [ 0.        ,  0.        ,  0.        , ...,  0.        ,\n",
              "          0.        ,  0.        ],\n",
              "        [ 0.        ,  0.        ,  0.        , ...,  0.        ,\n",
              "          0.        ,  0.        ],\n",
              "        [ 0.        ,  0.        ,  0.        , ...,  0.        ,\n",
              "          0.        ,  0.        ]],\n",
              "\n",
              "       ...,\n",
              "\n",
              "       [[ 0.        ,  0.        ,  0.        , ...,  0.        ,\n",
              "          0.        ,  0.        ],\n",
              "        [ 0.        ,  0.        ,  0.        , ...,  0.        ,\n",
              "          0.        ,  0.        ],\n",
              "        [ 0.        ,  0.        ,  0.        , ...,  0.        ,\n",
              "          0.        ,  0.        ],\n",
              "        ...,\n",
              "        [ 0.        ,  0.        ,  0.        , ...,  0.        ,\n",
              "          0.        ,  0.        ],\n",
              "        [ 0.        ,  0.        ,  0.        , ...,  0.        ,\n",
              "          0.        ,  0.        ],\n",
              "        [ 0.        ,  0.        ,  0.        , ...,  0.        ,\n",
              "          0.        ,  0.        ]],\n",
              "\n",
              "       [[ 0.        ,  0.        ,  0.        , ...,  0.        ,\n",
              "          0.        ,  0.        ],\n",
              "        [ 0.        ,  0.        ,  0.        , ...,  0.        ,\n",
              "          0.        ,  0.        ],\n",
              "        [ 0.        ,  0.        ,  0.        , ...,  0.        ,\n",
              "          0.        ,  0.        ],\n",
              "        ...,\n",
              "        [ 0.        ,  0.        ,  0.        , ...,  0.        ,\n",
              "          0.        ,  0.        ],\n",
              "        [ 0.        ,  0.        ,  0.        , ...,  0.        ,\n",
              "          0.        ,  0.        ],\n",
              "        [ 0.        ,  0.        ,  0.        , ...,  0.        ,\n",
              "          0.        ,  0.        ]],\n",
              "\n",
              "       [[ 0.        ,  0.        ,  0.        , ...,  0.        ,\n",
              "          0.        ,  0.        ],\n",
              "        [ 0.        ,  0.        ,  0.        , ...,  0.        ,\n",
              "          0.        ,  0.        ],\n",
              "        [ 0.        ,  0.        ,  0.        , ...,  0.        ,\n",
              "          0.        ,  0.        ],\n",
              "        ...,\n",
              "        [ 0.        ,  0.        ,  0.        , ...,  0.        ,\n",
              "          0.        ,  0.        ],\n",
              "        [ 0.        ,  0.        ,  0.        , ...,  0.        ,\n",
              "          0.        ,  0.        ],\n",
              "        [ 0.        ,  0.        ,  0.        , ...,  0.        ,\n",
              "          0.        ,  0.        ]]])"
            ]
          },
          "metadata": {},
          "execution_count": 18
        }
      ]
    },
    {
      "cell_type": "markdown",
      "source": [
        "Q 3 Verify that the output of this function does\n",
        "indeed have the expected size (W × H × C) as discussed in class."
      ],
      "metadata": {
        "id": "3YRdSAhiL_7P"
      }
    },
    {
      "cell_type": "code",
      "source": [
        "padding=(2,2)\n",
        "stride = (1,1)\n",
        "print(\"shape of  image \",im.shape)\n",
        "print(\"shape of  kernel with Convolution layer\",kernel.shape)\n",
        "print(\"padding : \",padding)\n",
        "print(\"stride by default \" ,stride)\n",
        "print(\"shape of  Output Activation Map \",OutputActivationMap.shape)\n"
      ],
      "metadata": {
        "colab": {
          "base_uri": "https://localhost:8080/"
        },
        "id": "0IcHk5bsK6MG",
        "outputId": "f6b32648-f988-458c-c52a-60c05ca83a58"
      },
      "execution_count": null,
      "outputs": [
        {
          "output_type": "stream",
          "name": "stdout",
          "text": [
            "shape of  image  (32, 32, 3)\n",
            "shape of  kernel with Convolution layer (3, 3, 3, 10)\n",
            "padding :  (2, 2)\n",
            "stride by default  (1, 1)\n",
            "shape of  Output Activation Map  (34, 34, 10)\n"
          ]
        }
      ]
    },
    {
      "cell_type": "markdown",
      "source": [
        "**Pooling layer function**"
      ],
      "metadata": {
        "id": "qrwhvD5DNjWw"
      }
    },
    {
      "cell_type": "code",
      "source": [
        "def Poolinglayerfunction(img ,SizeOfKernel: tuple = (2,2), func = 'Max',stride: tuple = (2,2) ):\n",
        "\n",
        "  Heigh_k,Width_k = SizeOfKernel\n",
        "  H,W,C = img.shape\n",
        "  heigh_stride,width_stride = stride\n",
        "\n",
        "  H_out = int( ( H - Heigh_k )/heigh_stride ) + 1\n",
        "  W_out = int( (W - Width_k )/width_stride ) + 1\n",
        "  output = np.zeros([H_out,W_out,C])\n",
        "\n",
        "  for c in range(C):\n",
        "    output[:,:,c] = Poolingfunction(active_map = img[:,:,c] ,SizeOfKernel = SizeOfKernel , func = func,stride = stride  )\n",
        "\n",
        "  return output"
      ],
      "metadata": {
        "id": "6Hgv8f3wMlHe"
      },
      "execution_count": null,
      "outputs": []
    },
    {
      "cell_type": "markdown",
      "source": [
        "Q4 Display the input and output volumes."
      ],
      "metadata": {
        "id": "QeimtAtnandz"
      }
    },
    {
      "cell_type": "code",
      "source": [
        "im =  np.asarray(train_data[21])\n",
        "plt.imshow(im)"
      ],
      "metadata": {
        "colab": {
          "base_uri": "https://localhost:8080/",
          "height": 285
        },
        "id": "OMTIwb2fcFVy",
        "outputId": "7db815dc-5579-4855-d53d-8fdc4ed15bea"
      },
      "execution_count": null,
      "outputs": [
        {
          "output_type": "execute_result",
          "data": {
            "text/plain": [
              "<matplotlib.image.AxesImage at 0x7ff97b0826d0>"
            ]
          },
          "metadata": {},
          "execution_count": 21
        },
        {
          "output_type": "display_data",
          "data": {
            "text/plain": [
              "<Figure size 432x288 with 1 Axes>"
            ],
            "image/png": "[encoded data removed]"
          },
          "metadata": {
            "needs_background": "light"
          }
        }
      ]
    },
    {
      "cell_type": "code",
      "source": [
        "outputvolumes=Poolinglayerfunction(im ,SizeOfKernel = (2,2), func = 'Max',stride=(2,2) )\n",
        "print(\"Shape of Pooling layer  output volumes :\",outputvolumes.shape)\n",
        "print(\"output volumes :\",outputvolumes)"
      ],
      "metadata": {
        "colab": {
          "base_uri": "https://localhost:8080/"
        },
        "id": "YiVGwU-EdRwD",
        "outputId": "1df919a6-43c8-4422-ba3f-6b76998609df"
      },
      "execution_count": null,
      "outputs": [
        {
          "output_type": "stream",
          "name": "stdout",
          "text": [
            "Shape of Pooling layer  output volumes : (16, 16, 3)\n",
            "output volumes : [[[255.  15.  44.]\n",
            "  [  0.   0.   0.]\n",
            "  [254.  13.  42.]\n",
            "  [  0.   0.   0.]\n",
            "  [255.   2.  29.]\n",
            "  [  0.   0.   0.]\n",
            "  [250.   1.  17.]\n",
            "  [  0.   0.   0.]\n",
            "  [255.  15.  43.]\n",
            "  [  0.   0.   0.]\n",
            "  [254.  34.  47.]\n",
            "  [  0.   0.   0.]\n",
            "  [255.  28.  47.]\n",
            "  [  0.   0.   0.]\n",
            "  [  0.   0.   0.]\n",
            "  [  0.   0.   0.]]\n",
            "\n",
            " [[  0.   0.   0.]\n",
            "  [  0.   0.   0.]\n",
            "  [  0.   0.   0.]\n",
            "  [  0.   0.   0.]\n",
            "  [  0.   0.   0.]\n",
            "  [  0.   0.   0.]\n",
            "  [  0.   0.   0.]\n",
            "  [  0.   0.   0.]\n",
            "  [  0.   0.   0.]\n",
            "  [  0.   0.   0.]\n",
            "  [  0.   0.   0.]\n",
            "  [  0.   0.   0.]\n",
            "  [  0.   0.   0.]\n",
            "  [  0.   0.   0.]\n",
            "  [  0.   0.   0.]\n",
            "  [  0.   0.   0.]]\n",
            "\n",
            " [[254.  16.  42.]\n",
            "  [  0.   0.   0.]\n",
            "  [253.  25.  43.]\n",
            "  [  0.   0.   0.]\n",
            "  [252.  33.  48.]\n",
            "  [  0.   0.   0.]\n",
            "  [253.  22.  43.]\n",
            "  [  0.   0.   0.]\n",
            "  [249.   9.  29.]\n",
            "  [  0.   0.   0.]\n",
            "  [252.  36.  46.]\n",
            "  [  0.   0.   0.]\n",
            "  [253.  36.  46.]\n",
            "  [  0.   0.   0.]\n",
            "  [  0.   0.   0.]\n",
            "  [  0.   0.   0.]]\n",
            "\n",
            " [[  0.   0.   0.]\n",
            "  [  0.   0.   0.]\n",
            "  [  0.   0.   0.]\n",
            "  [  0.   0.   0.]\n",
            "  [  0.   0.   0.]\n",
            "  [  0.   0.   0.]\n",
            "  [  0.   0.   0.]\n",
            "  [  0.   0.   0.]\n",
            "  [  0.   0.   0.]\n",
            "  [  0.   0.   0.]\n",
            "  [  0.   0.   0.]\n",
            "  [  0.   0.   0.]\n",
            "  [  0.   0.   0.]\n",
            "  [  0.   0.   0.]\n",
            "  [  0.   0.   0.]\n",
            "  [  0.   0.   0.]]\n",
            "\n",
            " [[255.  40.  52.]\n",
            "  [  0.   0.   0.]\n",
            "  [254.  42.  51.]\n",
            "  [  0.   0.   0.]\n",
            "  [254.  43.  51.]\n",
            "  [  0.   0.   0.]\n",
            "  [254.  48.  56.]\n",
            "  [  0.   0.   0.]\n",
            "  [252.  48.  58.]\n",
            "  [  0.   0.   0.]\n",
            "  [252.  31.  49.]\n",
            "  [  0.   0.   0.]\n",
            "  [254.  36.  46.]\n",
            "  [  0.   0.   0.]\n",
            "  [  0.   0.   0.]\n",
            "  [  0.   0.   0.]]\n",
            "\n",
            " [[  0.   0.   0.]\n",
            "  [  0.   0.   0.]\n",
            "  [  0.   0.   0.]\n",
            "  [  0.   0.   0.]\n",
            "  [  0.   0.   0.]\n",
            "  [  0.   0.   0.]\n",
            "  [  0.   0.   0.]\n",
            "  [  0.   0.   0.]\n",
            "  [  0.   0.   0.]\n",
            "  [  0.   0.   0.]\n",
            "  [  0.   0.   0.]\n",
            "  [  0.   0.   0.]\n",
            "  [  0.   0.   0.]\n",
            "  [  0.   0.   0.]\n",
            "  [  0.   0.   0.]\n",
            "  [  0.   0.   0.]]\n",
            "\n",
            " [[255.  49.  58.]\n",
            "  [  0.   0.   0.]\n",
            "  [255.  52.  63.]\n",
            "  [  0.   0.   0.]\n",
            "  [254.  52.  61.]\n",
            "  [  0.   0.   0.]\n",
            "  [255.  62.  76.]\n",
            "  [  0.   0.   0.]\n",
            "  [251.  44.  60.]\n",
            "  [  0.   0.   0.]\n",
            "  [252.  55.  67.]\n",
            "  [  0.   0.   0.]\n",
            "  [253.  50.  65.]\n",
            "  [  0.   0.   0.]\n",
            "  [  0.   0.   0.]\n",
            "  [  0.   0.   0.]]\n",
            "\n",
            " [[  0.   0.   0.]\n",
            "  [  0.   0.   0.]\n",
            "  [  0.   0.   0.]\n",
            "  [  0.   0.   0.]\n",
            "  [  0.   0.   0.]\n",
            "  [  0.   0.   0.]\n",
            "  [  0.   0.   0.]\n",
            "  [  0.   0.   0.]\n",
            "  [  0.   0.   0.]\n",
            "  [  0.   0.   0.]\n",
            "  [  0.   0.   0.]\n",
            "  [  0.   0.   0.]\n",
            "  [  0.   0.   0.]\n",
            "  [  0.   0.   0.]\n",
            "  [  0.   0.   0.]\n",
            "  [  0.   0.   0.]]\n",
            "\n",
            " [[255.  51.  61.]\n",
            "  [  0.   0.   0.]\n",
            "  [255.  59.  69.]\n",
            "  [  0.   0.   0.]\n",
            "  [254.  60.  72.]\n",
            "  [  0.   0.   0.]\n",
            "  [255.  62.  77.]\n",
            "  [  0.   0.   0.]\n",
            "  [240.  69.  83.]\n",
            "  [  0.   0.   0.]\n",
            "  [255.  52.  71.]\n",
            "  [  0.   0.   0.]\n",
            "  [255.  55.  64.]\n",
            "  [  0.   0.   0.]\n",
            "  [  0.   0.   0.]\n",
            "  [  0.   0.   0.]]\n",
            "\n",
            " [[  0.   0.   0.]\n",
            "  [  0.   0.   0.]\n",
            "  [  0.   0.   0.]\n",
            "  [  0.   0.   0.]\n",
            "  [  0.   0.   0.]\n",
            "  [  0.   0.   0.]\n",
            "  [  0.   0.   0.]\n",
            "  [  0.   0.   0.]\n",
            "  [  0.   0.   0.]\n",
            "  [  0.   0.   0.]\n",
            "  [  0.   0.   0.]\n",
            "  [  0.   0.   0.]\n",
            "  [  0.   0.   0.]\n",
            "  [  0.   0.   0.]\n",
            "  [  0.   0.   0.]\n",
            "  [  0.   0.   0.]]\n",
            "\n",
            " [[255.  60.  75.]\n",
            "  [  0.   0.   0.]\n",
            "  [254.  58.  70.]\n",
            "  [  0.   0.   0.]\n",
            "  [253.  58.  73.]\n",
            "  [  0.   0.   0.]\n",
            "  [213.  35.  53.]\n",
            "  [  0.   0.   0.]\n",
            "  [ 94.  54.  65.]\n",
            "  [  0.   0.   0.]\n",
            "  [109.  25.  35.]\n",
            "  [  0.   0.   0.]\n",
            "  [198.  27.  47.]\n",
            "  [  0.   0.   0.]\n",
            "  [  0.   0.   0.]\n",
            "  [  0.   0.   0.]]\n",
            "\n",
            " [[  0.   0.   0.]\n",
            "  [  0.   0.   0.]\n",
            "  [  0.   0.   0.]\n",
            "  [  0.   0.   0.]\n",
            "  [  0.   0.   0.]\n",
            "  [  0.   0.   0.]\n",
            "  [  0.   0.   0.]\n",
            "  [  0.   0.   0.]\n",
            "  [  0.   0.   0.]\n",
            "  [  0.   0.   0.]\n",
            "  [  0.   0.   0.]\n",
            "  [  0.   0.   0.]\n",
            "  [  0.   0.   0.]\n",
            "  [  0.   0.   0.]\n",
            "  [  0.   0.   0.]\n",
            "  [  0.   0.   0.]]\n",
            "\n",
            " [[255.  61.  77.]\n",
            "  [  0.   0.   0.]\n",
            "  [254.  66.  82.]\n",
            "  [  0.   0.   0.]\n",
            "  [255.  53.  71.]\n",
            "  [  0.   0.   0.]\n",
            "  [194.  30.  41.]\n",
            "  [  0.   0.   0.]\n",
            "  [ 53.  35.  46.]\n",
            "  [  0.   0.   0.]\n",
            "  [ 39.   8.  14.]\n",
            "  [  0.   0.   0.]\n",
            "  [ 63.  31.  36.]\n",
            "  [  0.   0.   0.]\n",
            "  [  0.   0.   0.]\n",
            "  [  0.   0.   0.]]\n",
            "\n",
            " [[  0.   0.   0.]\n",
            "  [  0.   0.   0.]\n",
            "  [  0.   0.   0.]\n",
            "  [  0.   0.   0.]\n",
            "  [  0.   0.   0.]\n",
            "  [  0.   0.   0.]\n",
            "  [  0.   0.   0.]\n",
            "  [  0.   0.   0.]\n",
            "  [  0.   0.   0.]\n",
            "  [  0.   0.   0.]\n",
            "  [  0.   0.   0.]\n",
            "  [  0.   0.   0.]\n",
            "  [  0.   0.   0.]\n",
            "  [  0.   0.   0.]\n",
            "  [  0.   0.   0.]\n",
            "  [  0.   0.   0.]]\n",
            "\n",
            " [[  0.   0.   0.]\n",
            "  [  0.   0.   0.]\n",
            "  [  0.   0.   0.]\n",
            "  [  0.   0.   0.]\n",
            "  [  0.   0.   0.]\n",
            "  [  0.   0.   0.]\n",
            "  [  0.   0.   0.]\n",
            "  [  0.   0.   0.]\n",
            "  [  0.   0.   0.]\n",
            "  [  0.   0.   0.]\n",
            "  [  0.   0.   0.]\n",
            "  [  0.   0.   0.]\n",
            "  [  0.   0.   0.]\n",
            "  [  0.   0.   0.]\n",
            "  [  0.   0.   0.]\n",
            "  [  0.   0.   0.]]\n",
            "\n",
            " [[  0.   0.   0.]\n",
            "  [  0.   0.   0.]\n",
            "  [  0.   0.   0.]\n",
            "  [  0.   0.   0.]\n",
            "  [  0.   0.   0.]\n",
            "  [  0.   0.   0.]\n",
            "  [  0.   0.   0.]\n",
            "  [  0.   0.   0.]\n",
            "  [  0.   0.   0.]\n",
            "  [  0.   0.   0.]\n",
            "  [  0.   0.   0.]\n",
            "  [  0.   0.   0.]\n",
            "  [  0.   0.   0.]\n",
            "  [  0.   0.   0.]\n",
            "  [  0.   0.   0.]\n",
            "  [  0.   0.   0.]]]\n"
          ]
        }
      ]
    },
    {
      "cell_type": "markdown",
      "source": [
        "**Flattening (unraveling) function**"
      ],
      "metadata": {
        "id": "j8s6CQbxeomD"
      }
    },
    {
      "cell_type": "code",
      "source": [
        "def Flattening(poolOutputVolume) :\n",
        "  poolOutputVolume = poolOutputVolume.reshape(1,-1) \n",
        "  poolOutputVolume= poolOutputVolume.squeeze() \n",
        "\n",
        "  input_size = poolOutputVolume.size\n",
        "  W = np.random.uniform(-1,1,size = (input_size , (1024) ))\n",
        "  bias = np.random.rand(1, 1024 )\n",
        "\n",
        "  output = np.dot(poolOutputVolume,W) + bias\n",
        "\n",
        "  return output"
      ],
      "metadata": {
        "id": "cdIpzFVHeZt8"
      },
      "execution_count": null,
      "outputs": []
    },
    {
      "cell_type": "markdown",
      "source": [
        "Q5"
      ],
      "metadata": {
        "id": "T_qk1w_MmlhV"
      }
    },
    {
      "cell_type": "code",
      "source": [
        "Flattening(outputvolumes) "
      ],
      "metadata": {
        "colab": {
          "base_uri": "https://localhost:8080/"
        },
        "id": "idziRgvWgL7N",
        "outputId": "36338241-0d80-452a-bbfa-e1f5d0c5f1d2"
      },
      "execution_count": null,
      "outputs": [
        {
          "output_type": "execute_result",
          "data": {
            "text/plain": [
              "array([[  706.15756024,   807.42778473, -1162.45478203, ...,\n",
              "          252.87308745, -2016.36934518,   965.2634018 ]])"
            ]
          },
          "metadata": {},
          "execution_count": 24
        }
      ]
    },
    {
      "cell_type": "markdown",
      "source": [
        "**Multilayer Perceptron (MLP) function (Fully Connected)**"
      ],
      "metadata": {
        "id": "TVP4CdhBmJPd"
      }
    },
    {
      "cell_type": "code",
      "source": [
        "def MLP(InputVector ,NumberOfHiddenLayers : int ,LayerSize : list , NonLinearFunc: str, OutputLayerSize : int):\n",
        "\n",
        "  InputSize = InputVector.size\n",
        "  \n",
        "  ReLU  = lambda x: max(0,x)\n",
        "  TanH  = lambda x : 2 / (1 + np.exp(-2*x)) - 1\n",
        "  Sigmoid = lambda x : 1/ (1+np.exp(-x))\n",
        "  Softmax = lambda x : np.exp(x) / np.sum(np.exp(x))\n",
        "  PReLu  = lambda x : np.where(x >= 0, x, 2 * x) # a = 2\n",
        "\n",
        "  ActivFunc = {\n",
        "    'ReLU': ReLU,\n",
        "    'Sigmoid': Sigmoid,\n",
        "    'Softmax' : Softmax,\n",
        "    'PReLu': PReLu,\n",
        "    'TanH': TanH\n",
        "  }\n",
        "\n",
        "  activation_func = ActivFunc[NonLinearFunc]\n",
        "\n",
        "  \n",
        "  HiddenUnitsList = np.insert(LayerSize,0,InputSize)\n",
        "  HiddenUnitsList = np.append(HiddenUnitsList,OutputLayerSize)\n",
        "\n",
        "  Weights_list = []\n",
        "  Biases_list  = []\n",
        "  i = 0\n",
        "  X = InputVector\n",
        "  loop_length = len(HiddenUnitsList) -1\n",
        "\n",
        "  for h_u in range(0,loop_length):\n",
        "\n",
        "     Weights_list.append( np.random.uniform(-1,1,size = (HiddenUnitsList[h_u] , HiddenUnitsList[h_u + 1])) )\n",
        "     Biases_list.append (  np.zeros((1, HiddenUnitsList[h_u + 1])) )\n",
        "     output = np.dot(X,Weights_list[i]) + Biases_list[i]\n",
        "\n",
        "     activated_output = activation_func(output)\n",
        "     X =  activated_output\n",
        "     i += 1\n",
        "  softmax_output = Softmax(activated_output)\n",
        "\n",
        "  return activated_output , softmax_output"
      ],
      "metadata": {
        "id": "FpIkWrXcl-MW"
      },
      "execution_count": null,
      "outputs": []
    },
    {
      "cell_type": "markdown",
      "source": [
        "Q6 Generate the output with and\n",
        "without the softmax function applied to the output layer."
      ],
      "metadata": {
        "id": "XQVBWp7Or10H"
      }
    },
    {
      "cell_type": "code",
      "source": [
        "input = np.arange(20)\n",
        "hidden_list = [25,40,32]\n",
        "NumberOfHiddenLayers = len(hidden_list)\n",
        "output_size = 10\n",
        "a,b = MLP(InputVector = input,NumberOfHiddenLayers = NumberOfHiddenLayers,LayerSize = hidden_list ,NonLinearFunc ='Sigmoid' , OutputLayerSize = output_size)\n",
        "print(\"The output  without the softmax function applied to the output layer\",a)\n",
        "print(\"The output with  the softmax function applied to the output layer\",b)"
      ],
      "metadata": {
        "colab": {
          "base_uri": "https://localhost:8080/"
        },
        "id": "WEpaNJs0r3_f",
        "outputId": "511ed77a-a17e-4f10-e15b-a782b6caeedb"
      },
      "execution_count": null,
      "outputs": [
        {
          "output_type": "stream",
          "name": "stdout",
          "text": [
            "The output  without the softmax function applied to the output layer [[0.76309844 0.75243809 0.53695239 0.99673863 0.91019539 0.16187498\n",
            "  0.3715395  0.19901669 0.96196488 0.59809373]]\n",
            "The output with  the softmax function applied to the output layer [[0.11025859 0.10908944 0.08794243 0.13927754 0.12773086 0.06043721\n",
            "  0.07453505 0.06272416 0.13451758 0.09348713]]\n"
          ]
        }
      ]
    },
    {
      "cell_type": "code",
      "source": [
        "!wget \"https://www.cs.toronto.edu/~kriz/cifar-10-python.tar.gz\""
      ],
      "metadata": {
        "colab": {
          "base_uri": "https://localhost:8080/"
        },
        "id": "0Bb_uXT8sslZ",
        "outputId": "e5332f12-e4e3-42b5-c173-8c2e75004474"
      },
      "execution_count": null,
      "outputs": [
        {
          "output_type": "stream",
          "name": "stdout",
          "text": [
            "--2022-03-16 18:10:13--  https://www.cs.toronto.edu/~kriz/cifar-10-python.tar.gz\n",
            "Resolving www.cs.toronto.edu (www.cs.toronto.edu)... 128.100.3.30\n",
            "Connecting to www.cs.toronto.edu (www.cs.toronto.edu)|128.100.3.30|:443... connected.\n",
            "HTTP request sent, awaiting response... 200 OK\n",
            "Length: 170498071 (163M) [application/x-gzip]\n",
            "Saving to: ‘cifar-10-python.tar.gz.1’\n",
            "\n",
            "cifar-10-python.tar 100%[===================>] 162.60M  41.9MB/s    in 5.3s    \n",
            "\n",
            "2022-03-16 18:10:19 (30.8 MB/s) - ‘cifar-10-python.tar.gz.1’ saved [170498071/170498071]\n",
            "\n"
          ]
        }
      ]
    },
    {
      "cell_type": "code",
      "source": [
        "!tar -xzvf \"/content/cifar-10-python.tar.gz\""
      ],
      "metadata": {
        "colab": {
          "base_uri": "https://localhost:8080/"
        },
        "id": "6Eggwgy-swUJ",
        "outputId": "24487a6a-8900-41fa-f169-99f27a5de39e"
      },
      "execution_count": null,
      "outputs": [
        {
          "output_type": "stream",
          "name": "stdout",
          "text": [
            "cifar-10-batches-py/\n",
            "cifar-10-batches-py/data_batch_4\n",
            "cifar-10-batches-py/readme.html\n",
            "cifar-10-batches-py/test_batch\n",
            "cifar-10-batches-py/data_batch_3\n",
            "cifar-10-batches-py/batches.meta\n",
            "cifar-10-batches-py/data_batch_2\n",
            "cifar-10-batches-py/data_batch_5\n",
            "cifar-10-batches-py/data_batch_1\n"
          ]
        }
      ]
    },
    {
      "cell_type": "code",
      "source": [
        "import pickle \n",
        "\n",
        "with open('/content/cifar-10-batches-py/data_batch_1', 'rb') as fo:\n",
        "        dict = pickle.load(fo, encoding='bytes')\n",
        "\n",
        "with open('/content/cifar-10-batches-py/batches.meta', 'rb') as fo:\n",
        "        dict_labels = pickle.load(fo, encoding='bytes')\n",
        "        \n",
        "training_data_vec = dict[b'data']\n",
        "training_labels = dict[b'labels']\n",
        "training_labels = np.asarray(training_labels)"
      ],
      "metadata": {
        "id": "8eQ3akpRtnI4"
      },
      "execution_count": null,
      "outputs": []
    },
    {
      "cell_type": "code",
      "source": [
        "dict_labels"
      ],
      "metadata": {
        "colab": {
          "base_uri": "https://localhost:8080/"
        },
        "id": "k1f6_knnuLh4",
        "outputId": "89154a08-f657-4861-c05e-b984278e5d53"
      },
      "execution_count": null,
      "outputs": [
        {
          "output_type": "execute_result",
          "data": {
            "text/plain": [
              "{b'label_names': [b'airplane',\n",
              "  b'automobile',\n",
              "  b'bird',\n",
              "  b'cat',\n",
              "  b'deer',\n",
              "  b'dog',\n",
              "  b'frog',\n",
              "  b'horse',\n",
              "  b'ship',\n",
              "  b'truck'],\n",
              " b'num_cases_per_batch': 10000,\n",
              " b'num_vis': 3072}"
            ]
          },
          "metadata": {},
          "execution_count": 30
        }
      ]
    },
    {
      "cell_type": "code",
      "source": [
        "index = np.argwhere(training_labels == 9)[0]\n",
        "\n",
        "RedVectorChannel = training_data_vec[index].squeeze()[:1024]\n",
        "GreenVectorChannel = training_data_vec[index].squeeze()[1024:2*1024]\n",
        "BlueVectorChannel = training_data_vec[index].squeeze()[-1024:]\n",
        "\n",
        "red_channel = RedVectorChannel.reshape(32,32)\n",
        "green_channel = GreenVectorChannel.reshape(32,32)\n",
        "blue_channel = BlueVectorChannel.reshape(32,32)\n",
        "\n",
        "img = np.dstack((red_channel , green_channel , blue_channel))\n",
        "plt.imshow(img)"
      ],
      "metadata": {
        "colab": {
          "base_uri": "https://localhost:8080/",
          "height": 285
        },
        "id": "kfu4uMlyulw4",
        "outputId": "46594346-e9c5-441f-810c-141bad0d0caf"
      },
      "execution_count": null,
      "outputs": [
        {
          "output_type": "execute_result",
          "data": {
            "text/plain": [
              "<matplotlib.image.AxesImage at 0x7ff978f2e4d0>"
            ]
          },
          "metadata": {},
          "execution_count": 31
        },
        {
          "output_type": "display_data",
          "data": {
            "text/plain": [
              "<Figure size 432x288 with 1 Axes>"
            ],
            "image/png": "[encoded data removed]"
          },
          "metadata": {
            "needs_background": "light"
          }
        }
      ]
    },
    {
      "cell_type": "code",
      "source": [
        "images = [] \n",
        "labels = ['airplane','automobile','bird','cat','deer','dog','frog','horse','ship','truck'] \n",
        "\n",
        "for i in range(10):\n",
        "\n",
        "  index = np.argwhere(training_labels == i)[0] # Find index of single image from each class\n",
        "  channel = []\n",
        "  for i in range(3):\n",
        "    channel.append(training_data_vec[index].squeeze()[1024*i:1024*(i+1)].reshape(32,32))\n",
        "  \n",
        "  images.append(np.dstack(channel))"
      ],
      "metadata": {
        "id": "DZY0tCgfupHw"
      },
      "execution_count": null,
      "outputs": []
    },
    {
      "cell_type": "code",
      "source": [
        "fig = plt.figure(figsize=(15, 10))\n",
        "fig.tight_layout()\n",
        "\n",
        "for i,label in enumerate(labels):\n",
        "\n",
        "    ax = fig.add_subplot(5, 10, i+1)\n",
        "    ax.axis('off')\n",
        "    ax.set_title(f'\\n  {label} ', fontsize=10)\n",
        "    ax.imshow(images[i])\n",
        "plt.show()\n"
      ],
      "metadata": {
        "colab": {
          "base_uri": "https://localhost:8080/",
          "height": 127
        },
        "id": "Oan6IGlguskZ",
        "outputId": "aefc89b0-d6d6-4574-8d0c-2c2664cb5255"
      },
      "execution_count": null,
      "outputs": [
        {
          "output_type": "display_data",
          "data": {
            "text/plain": [
              "<Figure size 1080x720 with 10 Axes>"
            ],
            "image/png": "[encoded data removed]"
          },
          "metadata": {
            "needs_background": "light"
          }
        }
      ]
    },
    {
      "cell_type": "markdown",
      "source": [
        "**Feed-forward path**"
      ],
      "metadata": {
        "id": "oPZPXH4quywB"
      }
    },
    {
      "cell_type": "code",
      "source": [
        "def Feedforwardpath( img):\n",
        "  #Convolution layer with 16 kernels of size 3 × 3 × 3 and sigmoid activation.\n",
        "  X = Convolutionlayerfunction( img = img  ,kernel = np.random.rand(3,3,3,16) , NonLinearFunc = 'Sigmoid' ) \n",
        "  print(X.shape)\n",
        "\n",
        "  #Max pooling layer of size 2 × 2 with a stride of 2 along each dimension.\n",
        "  X1 = Poolinglayerfunction(X ,SizeOfKernel = (2,2), func = 'Max',stride = (2,2) )\n",
        "  print(X1.shape)\n",
        "\n",
        "  # Convolution layer with 8 kernels of size 3 × 3 × C2 and sigmoid activation. What is the value of C2?.\n",
        "  X2 = Convolutionlayerfunction( img = X1  ,kernel = np.random.rand(3,3,16,8) , NonLinearFunc = 'Sigmoid' ) \n",
        "  print(X2.shape)\n",
        "\n",
        "  # Max pooling layer of size 2 × 2 with a stride of 2 along each dimension.\n",
        "  X3 = Poolinglayerfunction(X2 ,SizeOfKernel = (2,2), func = 'Max',stride = (2,2) )\n",
        "  print(X3.shape)\n",
        "\n",
        "  # A flattening layer. Note that the input size is fixed by the previous layer’s output. Your flattening matrix can be square, tall, or fat. Any choice is fine for this problem. Pick any one.\n",
        "  X4 = Flattening(X3)\n",
        "  print(X4.shape)\n",
        "\n",
        "  # An MLP with one hidden layer that accepts as input the flattening layer output and maps it to 10 output nodes. Use sigmoid activation for the MLP.\n",
        "  X5 ,softmax_X5 = MLP(X4 ,NumberOfHiddenLayers  =1 ,LayerSize  = [100] , NonLinearFunc= 'Sigmoid', OutputLayerSize = 10)\n",
        "  print(X5.shape)\n",
        "\n",
        "  return X5 , softmax_X5 ,X4"
      ],
      "metadata": {
        "id": "Nif-zHn_u2-p"
      },
      "execution_count": null,
      "outputs": []
    },
    {
      "cell_type": "markdown",
      "source": [
        "Q 7 Verify that your composition of function accepts and image input and outputs a vector."
      ],
      "metadata": {
        "id": "AVOC4fO0z9lD"
      }
    },
    {
      "cell_type": "code",
      "source": [
        "a,b,c = Feedforwardpath(images[1])"
      ],
      "metadata": {
        "colab": {
          "base_uri": "https://localhost:8080/"
        },
        "id": "cngwu9Ns0Agx",
        "outputId": "16820e30-7fb6-435f-9939-2d63cd3030e0"
      },
      "execution_count": null,
      "outputs": [
        {
          "output_type": "stream",
          "name": "stdout",
          "text": [
            "(30, 30, 16)\n",
            "(15, 15, 16)\n",
            "(13, 13, 8)\n",
            "(6, 6, 8)\n",
            "(1, 1024)\n",
            "(1, 10)\n"
          ]
        }
      ]
    },
    {
      "cell_type": "markdown",
      "source": [
        "Q8 (a) Choose an image from each of the 10 classes and display the output vector for each case. Do you\n",
        "see any trend in the output vectors?"
      ],
      "metadata": {
        "id": "-97ZeZs81Kbo"
      }
    },
    {
      "cell_type": "code",
      "source": [
        "for i in range(10):\n",
        "  print(f\"Image {i} :\")\n",
        "  FinalLayer,Softmax , FlattenedOutput = Feedforwardpath(images[i])\n",
        "  print(f\"Final Layer 10 dimensional vector for class {labels[i]} is {FinalLayer}\")\n",
        "  print(\"****************************************************************************\")"
      ],
      "metadata": {
        "colab": {
          "base_uri": "https://localhost:8080/"
        },
        "id": "GItguv7s1P43",
        "outputId": "3913b4db-b5a4-420a-9771-f2ba68536063"
      },
      "execution_count": null,
      "outputs": [
        {
          "output_type": "stream",
          "name": "stdout",
          "text": [
            "Image 0 :\n",
            "(30, 30, 16)\n",
            "(15, 15, 16)\n",
            "(13, 13, 8)\n",
            "(6, 6, 8)\n",
            "(1, 1024)\n",
            "(1, 10)\n",
            "Final Layer 10 dimensional vector for class airplane is [[2.79264671e-01 5.19622986e-01 9.99586328e-01 2.65145959e-03\n",
            "  5.00826071e-01 7.84957633e-01 1.07850542e-04 6.40232929e-04\n",
            "  9.99975753e-01 1.32250749e-01]]\n",
            "****************************************************************************\n",
            "Image 1 :\n",
            "(30, 30, 16)\n",
            "(15, 15, 16)\n",
            "(13, 13, 8)\n",
            "(6, 6, 8)\n",
            "(1, 1024)\n",
            "(1, 10)\n",
            "Final Layer 10 dimensional vector for class automobile is [[0.99996144 0.99999065 0.03928545 0.00160388 0.25487002 0.9901788\n",
            "  0.00287506 0.96355867 0.00146254 0.1702517 ]]\n",
            "****************************************************************************\n",
            "Image 2 :\n",
            "(30, 30, 16)\n",
            "(15, 15, 16)\n",
            "(13, 13, 8)\n",
            "(6, 6, 8)\n",
            "(1, 1024)\n",
            "(1, 10)\n",
            "Final Layer 10 dimensional vector for class bird is [[7.81706114e-01 2.27935954e-01 3.22746591e-03 8.25627077e-01\n",
            "  9.97903615e-01 7.59764512e-01 7.00235660e-05 9.97896606e-01\n",
            "  3.55719036e-01 9.09830631e-01]]\n",
            "****************************************************************************\n",
            "Image 3 :\n",
            "(30, 30, 16)\n",
            "(15, 15, 16)\n",
            "(13, 13, 8)\n",
            "(6, 6, 8)\n",
            "(1, 1024)\n",
            "(1, 10)\n",
            "Final Layer 10 dimensional vector for class cat is [[0.01372624 0.1872838  0.00452816 0.10104702 0.8092756  0.04329947\n",
            "  0.99864144 0.86629679 0.96328381 0.73636409]]\n",
            "****************************************************************************\n",
            "Image 4 :\n",
            "(30, 30, 16)\n",
            "(15, 15, 16)\n",
            "(13, 13, 8)\n",
            "(6, 6, 8)\n",
            "(1, 1024)\n",
            "(1, 10)\n",
            "Final Layer 10 dimensional vector for class deer is [[0.00870249 0.60566389 0.94134171 0.90725486 0.99160447 0.91369298\n",
            "  0.68523855 0.80119792 0.77984888 0.14218254]]\n",
            "****************************************************************************\n",
            "Image 5 :\n",
            "(30, 30, 16)\n",
            "(15, 15, 16)\n",
            "(13, 13, 8)\n",
            "(6, 6, 8)\n",
            "(1, 1024)\n",
            "(1, 10)\n",
            "Final Layer 10 dimensional vector for class dog is [[0.2344769  0.46259033 0.01241267 0.92292976 0.94719275 0.99003533\n",
            "  0.00171793 0.98036236 0.01055633 0.92564626]]\n",
            "****************************************************************************\n",
            "Image 6 :\n",
            "(30, 30, 16)\n",
            "(15, 15, 16)\n",
            "(13, 13, 8)\n",
            "(6, 6, 8)\n",
            "(1, 1024)\n",
            "(1, 10)\n",
            "Final Layer 10 dimensional vector for class frog is [[0.99998563 0.06249817 0.92212906 0.99747369 0.95425229 0.81212707\n",
            "  0.00443489 0.70149206 0.78148899 0.40511382]]\n",
            "****************************************************************************\n",
            "Image 7 :\n",
            "(30, 30, 16)\n",
            "(15, 15, 16)\n",
            "(13, 13, 8)\n",
            "(6, 6, 8)\n",
            "(1, 1024)\n",
            "(1, 10)\n",
            "Final Layer 10 dimensional vector for class horse is [[0.0686915  0.98116588 0.30282699 0.5923678  0.62856608 0.10192132\n",
            "  0.12941151 0.0371915  0.23779699 0.99650267]]\n",
            "****************************************************************************\n",
            "Image 8 :\n",
            "(30, 30, 16)\n",
            "(15, 15, 16)\n",
            "(13, 13, 8)\n",
            "(6, 6, 8)\n",
            "(1, 1024)\n",
            "(1, 10)\n",
            "Final Layer 10 dimensional vector for class ship is [[0.99871507 0.93100727 0.03219482 0.42567523 0.30273886 0.9992566\n",
            "  0.98891618 0.8659106  0.8211375  0.99719002]]\n",
            "****************************************************************************\n",
            "Image 9 :\n",
            "(30, 30, 16)\n",
            "(15, 15, 16)\n",
            "(13, 13, 8)\n",
            "(6, 6, 8)\n",
            "(1, 1024)\n",
            "(1, 10)\n",
            "Final Layer 10 dimensional vector for class truck is [[7.42994881e-01 7.91097265e-01 9.34526964e-01 4.75600216e-04\n",
            "  5.28362800e-02 2.97222214e-01 9.99361381e-01 9.11859246e-01\n",
            "  1.00355826e-03 4.10622161e-02]]\n",
            "****************************************************************************\n"
          ]
        }
      ]
    },
    {
      "cell_type": "markdown",
      "source": [
        "Q 8 (b) Does a randomly initialized network show any discriminability? Visualize the bottleneck layer\n",
        "(output of flattening layer) using builtin tSNE plots. Choose three images per class. If you are\n",
        "wondering about this question, check out the Deep Image Prior paper."
      ],
      "metadata": {
        "id": "wl7kIP8i2l_k"
      }
    },
    {
      "cell_type": "code",
      "source": [
        "imge = [] \n",
        "labels = ['airplane','automobile','bird','cat','deer','dog','frog','horse','ship','truck'] \n",
        "\n",
        "for i in range(10):\n",
        "\n",
        "  index = np.argwhere(training_labels == i)[:3].squeeze() # Find index of single image from each class\n",
        "  for j in index:\n",
        "    \n",
        "    channel = []\n",
        "    for i in range(3):\n",
        "      channel.append(training_data_vec[j].squeeze()[1024*i:1024*(i+1)].reshape(32,32))\n",
        "    \n",
        "    imge.append(np.dstack(channel))"
      ],
      "metadata": {
        "id": "bc6jtAox3Si1"
      },
      "execution_count": null,
      "outputs": []
    },
    {
      "cell_type": "code",
      "source": [
        "for i in range(10):\n",
        "  \n",
        "  FinalLayer,Softmax , FlattenedOutput = Feedforwardpath(images[i])"
      ],
      "metadata": {
        "colab": {
          "base_uri": "https://localhost:8080/"
        },
        "id": "LEKHdsK_2oSW",
        "outputId": "f63091ca-ddc0-4904-b591-2fe3c7e3ea16"
      },
      "execution_count": null,
      "outputs": [
        {
          "output_type": "stream",
          "name": "stdout",
          "text": [
            "(30, 30, 16)\n",
            "(15, 15, 16)\n",
            "(13, 13, 8)\n",
            "(6, 6, 8)\n",
            "(1, 1024)\n",
            "(1, 10)\n",
            "(30, 30, 16)\n",
            "(15, 15, 16)\n",
            "(13, 13, 8)\n",
            "(6, 6, 8)\n",
            "(1, 1024)\n",
            "(1, 10)\n",
            "(30, 30, 16)\n",
            "(15, 15, 16)\n",
            "(13, 13, 8)\n",
            "(6, 6, 8)\n",
            "(1, 1024)\n",
            "(1, 10)\n",
            "(30, 30, 16)\n",
            "(15, 15, 16)\n",
            "(13, 13, 8)\n",
            "(6, 6, 8)\n",
            "(1, 1024)\n",
            "(1, 10)\n",
            "(30, 30, 16)\n",
            "(15, 15, 16)\n",
            "(13, 13, 8)\n",
            "(6, 6, 8)\n",
            "(1, 1024)\n",
            "(1, 10)\n",
            "(30, 30, 16)\n",
            "(15, 15, 16)\n",
            "(13, 13, 8)\n",
            "(6, 6, 8)\n",
            "(1, 1024)\n",
            "(1, 10)\n",
            "(30, 30, 16)\n",
            "(15, 15, 16)\n",
            "(13, 13, 8)\n",
            "(6, 6, 8)\n",
            "(1, 1024)\n",
            "(1, 10)\n",
            "(30, 30, 16)\n",
            "(15, 15, 16)\n",
            "(13, 13, 8)\n",
            "(6, 6, 8)\n",
            "(1, 1024)\n",
            "(1, 10)\n",
            "(30, 30, 16)\n",
            "(15, 15, 16)\n",
            "(13, 13, 8)\n",
            "(6, 6, 8)\n",
            "(1, 1024)\n",
            "(1, 10)\n",
            "(30, 30, 16)\n",
            "(15, 15, 16)\n",
            "(13, 13, 8)\n",
            "(6, 6, 8)\n",
            "(1, 1024)\n",
            "(1, 10)\n"
          ]
        }
      ]
    },
    {
      "cell_type": "code",
      "source": [
        "BottleNeckLayerOutputs = np.zeros((30,1024))"
      ],
      "metadata": {
        "id": "MPajzUD23lZ0"
      },
      "execution_count": null,
      "outputs": []
    },
    {
      "cell_type": "code",
      "source": [
        "FinalLayer,Softmax , FlattenedOutput = Feedforwardpath(imge[1])\n",
        "BottleNeckLayerOutputs[0,:] = np.copy(FlattenedOutput)\n"
      ],
      "metadata": {
        "colab": {
          "base_uri": "https://localhost:8080/"
        },
        "id": "pzAeHnc43mw9",
        "outputId": "b49d87c1-239e-44e7-b50a-957fd9e3e456"
      },
      "execution_count": null,
      "outputs": [
        {
          "output_type": "stream",
          "name": "stdout",
          "text": [
            "(30, 30, 16)\n",
            "(15, 15, 16)\n",
            "(13, 13, 8)\n",
            "(6, 6, 8)\n",
            "(1, 1024)\n",
            "(1, 10)\n"
          ]
        }
      ]
    }
  ]
}
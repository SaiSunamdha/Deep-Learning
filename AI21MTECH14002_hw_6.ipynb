{
  "cells": [
    {
      "cell_type": "code",
      "execution_count": null,
      "id": "d6dd5a6f",
      "metadata": {
        "id": "d6dd5a6f"
      },
      "outputs": [],
      "source": [
        "import torch\n",
        "import torchvision\n",
        "import torchvision.datasets as datasets\n",
        "\n",
        "from torchvision import transforms\n",
        "from torch.utils.data import DataLoader\n",
        "import cv2\n",
        "\n",
        "import pandas as pd\n",
        "\n",
        "import numpy as np\n",
        "import matplotlib.pyplot as pyplot\n",
        "import math\n",
        "import matplotlib.pyplot as plt\n",
        "from PIL import Image\n",
        "\n",
        "import random\n",
        "\n",
        "import torch\n",
        "import torch.nn as nn\n",
        "import torch.nn.functional as F\n",
        "\n",
        "from torch.nn import Module\n",
        "from torch.nn import Conv2d\n",
        "from torch.nn import Linear\n",
        "from torch.nn import MaxPool2d\n",
        "from torch.nn import ReLU\n",
        "from torch.nn import LogSoftmax\n",
        "from torch import flatten\n",
        "\n",
        "from torchvision.utils import make_grid\n",
        "\n",
        "import os"
      ]
    },
    {
      "cell_type": "code",
      "execution_count": null,
      "id": "ce3291b3",
      "metadata": {
        "colab": {
          "base_uri": "https://localhost:8080/"
        },
        "id": "ce3291b3",
        "outputId": "199bef0e-a5ef-4045-c949-ed6f7fa8f112"
      },
      "outputs": [
        {
          "output_type": "stream",
          "name": "stderr",
          "text": [
            "Using cache found in /root/.cache/torch/hub/pytorch_vision_v0.10.0\n"
          ]
        },
        {
          "output_type": "stream",
          "name": "stdout",
          "text": [
            "AlexNet(\n",
            "  (features): Sequential(\n",
            "    (0): Conv2d(3, 64, kernel_size=(11, 11), stride=(4, 4), padding=(2, 2))\n",
            "    (1): ReLU(inplace=True)\n",
            "    (2): MaxPool2d(kernel_size=3, stride=2, padding=0, dilation=1, ceil_mode=False)\n",
            "    (3): Conv2d(64, 192, kernel_size=(5, 5), stride=(1, 1), padding=(2, 2))\n",
            "    (4): ReLU(inplace=True)\n",
            "    (5): MaxPool2d(kernel_size=3, stride=2, padding=0, dilation=1, ceil_mode=False)\n",
            "    (6): Conv2d(192, 384, kernel_size=(3, 3), stride=(1, 1), padding=(1, 1))\n",
            "    (7): ReLU(inplace=True)\n",
            "    (8): Conv2d(384, 256, kernel_size=(3, 3), stride=(1, 1), padding=(1, 1))\n",
            "    (9): ReLU(inplace=True)\n",
            "    (10): Conv2d(256, 256, kernel_size=(3, 3), stride=(1, 1), padding=(1, 1))\n",
            "    (11): ReLU(inplace=True)\n",
            "    (12): MaxPool2d(kernel_size=3, stride=2, padding=0, dilation=1, ceil_mode=False)\n",
            "  )\n",
            "  (avgpool): AdaptiveAvgPool2d(output_size=(6, 6))\n",
            "  (classifier): Sequential(\n",
            "    (0): Dropout(p=0.5, inplace=False)\n",
            "    (1): Linear(in_features=9216, out_features=4096, bias=True)\n",
            "    (2): ReLU(inplace=True)\n",
            "    (3): Dropout(p=0.5, inplace=False)\n",
            "    (4): Linear(in_features=4096, out_features=4096, bias=True)\n",
            "    (5): ReLU(inplace=True)\n",
            "    (6): Linear(in_features=4096, out_features=1000, bias=True)\n",
            "  )\n",
            ")\n",
            "Feature layer Conv2d(3, 64, kernel_size=(11, 11), stride=(4, 4), padding=(2, 2))\n",
            "Bottleneck layer MaxPool2d(kernel_size=3, stride=2, padding=0, dilation=1, ceil_mode=False)\n"
          ]
        },
        {
          "output_type": "stream",
          "name": "stderr",
          "text": [
            "Using cache found in /root/.cache/torch/hub/pytorch_vision_v0.10.0\n"
          ]
        }
      ],
      "source": [
        "AlexNetModel = torch.hub.load('pytorch/vision:v0.10.0', 'alexnet', pretrained=False)\n",
        "# AlexNetModel.eval()\n",
        "model = AlexNetModel\n",
        "\n",
        "ResNetModel = torch.hub.load('pytorch/vision:v0.10.0', 'resnet18', pretrained=False)\n",
        "\n",
        "def GetTheAlexNet():\n",
        "    return torch.hub.load('pytorch/vision:v0.10.0', 'alexnet', pretrained=False)\n",
        "    \n",
        "def GetTheResNet():\n",
        "    return torch.hub.load('pytorch/vision:v0.10.0', 'resnet18', pretrained=False)\n",
        "\n",
        "print(model)\n",
        "print(\"Feature layer\", model.features[0])\n",
        "print(\"Bottleneck layer\", model.features[12])"
      ]
    },
    {
      "cell_type": "code",
      "execution_count": null,
      "id": "d979e3bb",
      "metadata": {
        "id": "d979e3bb"
      },
      "outputs": [],
      "source": []
    },
    {
      "cell_type": "code",
      "execution_count": null,
      "id": "1c8d4477",
      "metadata": {
        "colab": {
          "base_uri": "https://localhost:8080/"
        },
        "id": "1c8d4477",
        "outputId": "fdce238e-ac3b-47f6-cde6-bcc0d2edbcf2"
      },
      "outputs": [
        {
          "output_type": "stream",
          "name": "stdout",
          "text": [
            "torch.Size([1, 1000])\n"
          ]
        }
      ],
      "source": [
        "RandomData = torch.rand((1, 3, 64, 64))\n",
        "result = model(RandomData)\n",
        "print (result.shape)"
      ]
    },
    {
      "cell_type": "code",
      "source": [
        "isFile = os.path.exists(\"./tiny-imagenet-200\") \n",
        "print(\"data downloaded \", isFile)\n",
        "if isFile == False:\n",
        "  !wget \"http://cs231n.stanford.edu/tiny-imagenet-200.zip\" -O \"./tiny-imagenet-200.zip\"\n",
        "  !unzip -u \"./tiny-imagenet-200.zip\" -d \"./\"\n",
        "\n"
      ],
      "metadata": {
        "colab": {
          "base_uri": "https://localhost:8080/"
        },
        "id": "qUrBSXVSb5FX",
        "outputId": "46d21466-cfd5-480b-d92b-57afee46c813"
      },
      "id": "qUrBSXVSb5FX",
      "execution_count": null,
      "outputs": [
        {
          "output_type": "stream",
          "name": "stdout",
          "text": [
            "data downloaded  True\n"
          ]
        }
      ]
    },
    {
      "cell_type": "markdown",
      "source": [
        "**Preparing Dataset**"
      ],
      "metadata": {
        "id": "xDnv0lSb6T-c"
      },
      "id": "xDnv0lSb6T-c"
    },
    {
      "cell_type": "code",
      "execution_count": null,
      "id": "143f166e",
      "metadata": {
        "id": "143f166e"
      },
      "outputs": [],
      "source": [
        "import os\n",
        "def DataSetPreparation():\n",
        "    \n",
        "    rootDir = './tiny-imagenet-200/'\n",
        "    transformation = transforms.Compose([\n",
        "        transforms.Resize((256,256)),\n",
        "        transforms.RandomHorizontalFlip(0.5),\n",
        "        transforms.RandomVerticalFlip(0.3),\n",
        "        transforms.ToTensor(),\n",
        "        transforms.Normalize(mean=[0.5, 0.5, 0.5], std=[0.5, 0.5, 0.5])\n",
        "    ])\n",
        "\n",
        "    CompleteData = torchvision.datasets.ImageFolder(\n",
        "        root=os.path.join(rootDir, 'train'),\n",
        "        transform=transformation\n",
        "    )\n",
        "    \n",
        "    \n",
        "    SizeOfData = len(CompleteData) \n",
        "    LengthOfTrain = int(0.7 * SizeOfData)\n",
        "    LengthOfTest = int(0.2 * SizeOfData)\n",
        "    LengthOfValidation = int(0.1 * SizeOfData)\n",
        "    \n",
        "    TrainDataSet, TestDataSet, ValidationDataSet = torch.utils.data.random_split(CompleteData, [LengthOfTrain, LengthOfTest, LengthOfValidation])\n",
        "    \n",
        "    train_loader = torch.utils.data.DataLoader(\n",
        "        TrainDataSet,\n",
        "        batch_size=50,\n",
        "        num_workers=0,\n",
        "        shuffle=False\n",
        "    )\n",
        "    \n",
        "    test_loader = torch.utils.data.DataLoader(\n",
        "        TestDataSet,\n",
        "        batch_size=50,\n",
        "        num_workers=0,\n",
        "        shuffle=False\n",
        "    )\n",
        "    \n",
        "    \n",
        "    val_loader = torch.utils.data.DataLoader(\n",
        "        TestDataSet,\n",
        "        batch_size=50,\n",
        "        num_workers=0,\n",
        "        shuffle=False\n",
        "    )\n",
        "    \n",
        "    return train_loader, test_loader, val_loader    \n",
        "\n",
        "\n",
        "train_loader,test_loader, val_loader = DataSetPreparation()\n",
        "device = \"cpu\"\n",
        "if (torch.cuda.is_available()):\n",
        "    device = \"cuda\"\n",
        "\n"
      ]
    },
    {
      "cell_type": "markdown",
      "source": [
        "**with cross-entropy loss**"
      ],
      "metadata": {
        "id": "uBP_cvCQukQp"
      },
      "id": "uBP_cvCQukQp"
    },
    {
      "cell_type": "code",
      "execution_count": null,
      "id": "d3019722",
      "metadata": {
        "id": "d3019722"
      },
      "outputs": [],
      "source": [
        "LossFunction = torch.nn.CrossEntropyLoss()"
      ]
    },
    {
      "cell_type": "code",
      "execution_count": null,
      "id": "a4c77082",
      "metadata": {
        "id": "a4c77082"
      },
      "outputs": [],
      "source": [
        "\n",
        "DataTrain = []\n",
        "LabelTrain = []\n",
        "\n",
        "BatchCount = 3\n",
        "\n",
        "Xtrain = Ytrain = Xtest = Ytest = Xval = Yval = None\n",
        "\n",
        "for BatchIndex, (data, target) in enumerate(train_loader):\n",
        "        \n",
        "        DataBatch, TargetsBatch = data.to(device), target.to(device)\n",
        "        DataTrain.append(DataBatch)\n",
        "        LabelTrain.append(TargetsBatch)\n",
        "        if BatchIndex == BatchCount:\n",
        "            Xtrain = torch.cat(DataTrain, dim=0).numpy()\n",
        "            Ytrain = torch.cat(LabelTrain, dim=0).numpy()\n",
        "            break\n",
        "\n",
        "for BatchIndex, (data, target) in enumerate(test_loader):\n",
        "        \n",
        "        DataBatch, TargetsBatch = data.to(device), target.to(device)\n",
        "        DataTrain.append(DataBatch)\n",
        "        LabelTrain.append(TargetsBatch)\n",
        "        if BatchIndex == BatchCount:\n",
        "            Xtest = torch.cat(DataTrain, dim=0).numpy()\n",
        "            Ytest = torch.cat(LabelTrain, dim=0).numpy()\n",
        "            break\n",
        "\n",
        "for BatchIndex, (data, target) in enumerate(val_loader):\n",
        "        DataBatch, TargetsBatch = data.to(device), target.to(device)\n",
        "        DataTrain.append(DataBatch)\n",
        "        LabelTrain.append(TargetsBatch)\n",
        "        if BatchIndex == BatchCount:\n",
        "            Xval = torch.cat(DataTrain, dim=0).numpy()\n",
        "            Yval = torch.cat(LabelTrain, dim=0).numpy()\n",
        "            break"
      ]
    },
    {
      "cell_type": "code",
      "execution_count": null,
      "id": "3f087a87",
      "metadata": {
        "id": "3f087a87"
      },
      "outputs": [],
      "source": [
        "def test(model, x, y):\n",
        "    pass\n",
        "    losses = []\n",
        "    epoch = 14\n",
        "    batch_size = 10\n",
        "    SampleSize = min(100, x.shape[0]) \n",
        "    TestImages = x[:SampleSize]\n",
        "    TestLabels = y[:SampleSize]\n",
        "    permutation = np.random.permutation(SampleSize)\n",
        "    TestImages_x = TestImages[permutation]\n",
        "    TestLabels_y = TestLabels[permutation]\n",
        "    SamplesTotal = len(TestImages_x)\n",
        "    loss = 0\n",
        "    LossRunning = 0.\n",
        "    accuracy = 0\n",
        "    x = torch.from_numpy(np.array(TestImages_x)).float()\n",
        "    y = torch.from_numpy(TestLabels_y)\n",
        "    model.eval()\n",
        "    outputs = model(x)\n",
        "    preds = torch.argmax(outputs, dim = 1)\n",
        "    loss = LossFunction(outputs, y)\n",
        "    correct_preds = ( preds == y).sum().item()\n",
        "    accuracy =  correct_preds / SamplesTotal\n",
        "\n",
        "    print (\"Test Loss\", loss.item() , \"Accuracy\", accuracy)\n",
        "    \n",
        "    return loss.detach().numpy() , accuracy \n",
        "\n",
        "def train(model, Xtrain, Ytrain, epoch):\n",
        "    optimizer = torch.optim.SGD(model.parameters(), lr=0.001, momentum=0.9)\n",
        "    batch_size = 50\n",
        "    losses = []\n",
        "    testlosses = []\n",
        "    LossRunning = 0.\n",
        "    last_loss = 0.\n",
        "    SamplesTotal = Xtrain.shape[0]\n",
        "    SampleSize = SamplesTotal*7//8\n",
        "    print (\"TotalSamples\", SamplesTotal, \"Size Of Sample\", SampleSize)\n",
        "    \n",
        "    ImagesTrain = Xtrain[:SampleSize]\n",
        "    LabelTrain = Ytrain[:SampleSize]\n",
        "    TestImages = Xtrain[SampleSize:SamplesTotal]\n",
        "    TestLabels = Ytrain[SampleSize:SamplesTotal]\n",
        "    for epoch in range(epoch):\n",
        "        model.train()        \n",
        "        LossRunning = 0.\n",
        "        for i in range(SampleSize//batch_size):\n",
        "            \n",
        "            start_i = i*batch_size\n",
        "            end_i = (i+1) * batch_size \n",
        "            permutation = np.arange(start_i, end_i, 1)\n",
        "            \n",
        "            ImagesTrain_x = ImagesTrain[permutation]\n",
        "            LabelYtrain = LabelTrain[permutation]\n",
        "\n",
        "            x = torch.from_numpy(np.array(ImagesTrain_x)).float()\n",
        "            y = torch.from_numpy(LabelYtrain)\n",
        "            outputs = model(x)\n",
        "            preds = torch.argmax(outputs, dim = 1)\n",
        "            accuracy = 0\n",
        "            loss = 0\n",
        "            loss = LossFunction(outputs, y)\n",
        "            \n",
        "            SamplesTotal = len(ImagesTrain_x)\n",
        "            correct_preds = ( preds == y).sum().item()\n",
        "            accuracy =  correct_preds / SamplesTotal\n",
        "            LossRunning += loss.item()\n",
        "            loss.backward()\n",
        "            optimizer.step()\n",
        "\n",
        "        EpochLoss = LossRunning / batch_size\n",
        "        losses.append(EpochLoss)\n",
        "        \n",
        "        print(\"\")\n",
        "        print('Epoch {} Training Loss: {}'.format(epoch + 1, EpochLoss))\n",
        "        \n",
        "        testloss, testaccuracy = test(model, TestImages, TestLabels)\n",
        "        testlosses.append( testloss )\n",
        "        \n",
        "    xpoints = np.array(range(len(losses) ))\n",
        "    plt.plot(xpoints, losses, label=\"Training Loss\" )\n",
        "    plt.plot(xpoints, testlosses, label=\"Test Loss\" )\n",
        "    plt.legend(loc=\"upper right\")\n",
        "    plt.show()\n",
        "        \n",
        "    return losses\n",
        "\n",
        "def TrainingStarts(model ,  epoch = 15):\n",
        "    SampleSize = 1000 \n",
        "    batch_size = 100 \n",
        "    \n",
        "    ImagesTrain = Xtrain[:SampleSize]\n",
        "    LabelTrain = Ytrain[:SampleSize]\n",
        "    \n",
        "    TestImages = Xtest[:SampleSize]\n",
        "    TestLabels = Ytest[:SampleSize]\n",
        "    \n",
        "    losses = train(model, ImagesTrain, LabelTrain, epoch)\n",
        "    return losses"
      ]
    },
    {
      "cell_type": "markdown",
      "source": [
        "**(a) Compute the error on the training and test data sets. Plot the training and test errors as a function of epochs (at the end of\n",
        "training). (1)**"
      ],
      "metadata": {
        "id": "3pxmMlDBvb5D"
      },
      "id": "3pxmMlDBvb5D"
    },
    {
      "cell_type": "code",
      "execution_count": null,
      "id": "37492b1c",
      "metadata": {
        "colab": {
          "base_uri": "https://localhost:8080/",
          "height": 858
        },
        "id": "37492b1c",
        "outputId": "f1e7b2de-7b20-46ba-82a1-4a9fea9b0cd7"
      },
      "outputs": [
        {
          "output_type": "stream",
          "name": "stderr",
          "text": [
            "Using cache found in /root/.cache/torch/hub/pytorch_vision_v0.10.0\n"
          ]
        },
        {
          "output_type": "stream",
          "name": "stdout",
          "text": [
            "TotalSamples 200 Size Of Sample 175\n",
            "\n",
            "Epoch 1 Training Loss: 0.41438831329345704\n",
            "Test Loss 6.907427787780762 Accuracy 0.0\n",
            "\n",
            "Epoch 2 Training Loss: 0.41439678192138674\n",
            "Test Loss 6.907055854797363 Accuracy 0.0\n",
            "\n",
            "Epoch 3 Training Loss: 0.41432884216308596\n",
            "Test Loss 6.906257152557373 Accuracy 0.0\n",
            "\n",
            "Epoch 4 Training Loss: 0.41422435760498044\n",
            "Test Loss 6.904926300048828 Accuracy 0.0\n",
            "\n",
            "Epoch 5 Training Loss: 0.41406341552734377\n",
            "Test Loss 6.902980804443359 Accuracy 0.0\n",
            "\n",
            "Epoch 6 Training Loss: 0.41381446838378905\n",
            "Test Loss 6.900373935699463 Accuracy 0.04\n",
            "\n",
            "Epoch 7 Training Loss: 0.4134880542755127\n",
            "Test Loss 6.8970489501953125 Accuracy 0.04\n",
            "\n",
            "Epoch 8 Training Loss: 0.41308753967285156\n",
            "Test Loss 6.892966270446777 Accuracy 0.04\n",
            "\n",
            "Epoch 9 Training Loss: 0.41260159492492676\n",
            "Test Loss 6.888071060180664 Accuracy 0.04\n",
            "\n",
            "Epoch 10 Training Loss: 0.41202309608459475\n",
            "Test Loss 6.882323741912842 Accuracy 0.04\n"
          ]
        },
        {
          "output_type": "display_data",
          "data": {
            "text/plain": [
              "<Figure size 432x288 with 1 Axes>"
            ],
            "image/png": "[encoded data removed]"
          },
          "metadata": {
            "needs_background": "light"
          }
        },
        {
          "output_type": "stream",
          "name": "stdout",
          "text": [
            "[0.41438831329345704, 0.41439678192138674, 0.41432884216308596, 0.41422435760498044, 0.41406341552734377, 0.41381446838378905, 0.4134880542755127, 0.41308753967285156, 0.41260159492492676, 0.41202309608459475]\n"
          ]
        }
      ],
      "source": [
        "model = GetTheAlexNet()\n",
        "losses = train(model, Xtrain, Ytrain,10)\n",
        "print(losses)"
      ]
    },
    {
      "cell_type": "code",
      "execution_count": null,
      "id": "73419b24",
      "metadata": {
        "colab": {
          "base_uri": "https://localhost:8080/"
        },
        "id": "73419b24",
        "outputId": "8ea8f6a5-380f-43da-fc81-8331a673919f"
      },
      "outputs": [
        {
          "output_type": "stream",
          "name": "stdout",
          "text": [
            "Test Loss 6.858243465423584 Accuracy 0.02\n"
          ]
        },
        {
          "output_type": "execute_result",
          "data": {
            "text/plain": [
              "(array(6.8582435, dtype=float32), 0.02)"
            ]
          },
          "metadata": {},
          "execution_count": 10
        }
      ],
      "source": [
        "def TestingStarts(model):\n",
        "    pass\n",
        "    losses = []\n",
        "    SampleSize = 100\n",
        "    batch_size = 10\n",
        "    epoch = 15\n",
        "    TestImages = Xtest[:SampleSize]\n",
        "    TestLabels = Ytest[:SampleSize]\n",
        "    permutation = np.random.permutation(SampleSize)\n",
        "\n",
        "    TestImages_x = TestImages[permutation]\n",
        "    TestLabels_y = TestLabels[permutation]\n",
        "    \n",
        "    loss , accuracy  = test(model, TestImages_x, TestLabels_y)\n",
        "    return loss , accuracy\n",
        "\n",
        "TestingStarts(model)\n"
      ]
    },
    {
      "cell_type": "code",
      "execution_count": null,
      "id": "7832b202",
      "metadata": {
        "colab": {
          "base_uri": "https://localhost:8080/",
          "height": 907
        },
        "id": "7832b202",
        "outputId": "ec84f0bd-8251-4096-be23-03fda58af8ac"
      },
      "outputs": [
        {
          "output_type": "stream",
          "name": "stderr",
          "text": [
            "Using cache found in /root/.cache/torch/hub/pytorch_vision_v0.10.0\n"
          ]
        },
        {
          "output_type": "stream",
          "name": "stdout",
          "text": [
            "TotalSamples 200 Size Of Sample 175\n",
            "\n",
            "Epoch 1 Training Loss: 0.41439430236816405\n",
            "Test Loss 6.909862518310547 Accuracy 0.0\n",
            "\n",
            "Epoch 2 Training Loss: 0.41436259269714354\n",
            "Test Loss 6.909492015838623 Accuracy 0.0\n",
            "\n",
            "Epoch 3 Training Loss: 0.41433186531066896\n",
            "Test Loss 6.908698558807373 Accuracy 0.0\n",
            "\n",
            "Epoch 4 Training Loss: 0.41422533988952637\n",
            "Test Loss 6.907377243041992 Accuracy 0.0\n",
            "\n",
            "Epoch 5 Training Loss: 0.4140526485443115\n",
            "Test Loss 6.905451774597168 Accuracy 0.0\n",
            "\n",
            "Epoch 6 Training Loss: 0.413816442489624\n",
            "Test Loss 6.90286922454834 Accuracy 0.0\n",
            "\n",
            "Epoch 7 Training Loss: 0.4135209846496582\n",
            "Test Loss 6.899577617645264 Accuracy 0.0\n",
            "\n",
            "Epoch 8 Training Loss: 0.413138370513916\n",
            "Test Loss 6.895544052124023 Accuracy 0.0\n",
            "\n",
            "Epoch 9 Training Loss: 0.4126658535003662\n",
            "Test Loss 6.8907551765441895 Accuracy 0.0\n",
            "\n",
            "Epoch 10 Training Loss: 0.41209802627563474\n",
            "Test Loss 6.885184288024902 Accuracy 0.0\n"
          ]
        },
        {
          "output_type": "display_data",
          "data": {
            "text/plain": [
              "<Figure size 432x288 with 1 Axes>"
            ],
            "image/png": "[encoded data removed]"
          },
          "metadata": {
            "needs_background": "light"
          }
        },
        {
          "output_type": "stream",
          "name": "stdout",
          "text": [
            "Training\n",
            "loss 0.41209802627563474\n",
            "Test Loss 6.859744071960449 Accuracy 0.02\n",
            "Testing\n",
            "accuracy 0.02 loss 6.859744\n"
          ]
        }
      ],
      "source": [
        "model = GetTheAlexNet()\n",
        "training_loss = TrainingStarts(model, epoch = 10)\n",
        "print (\"Training\")\n",
        "print(\"loss\", training_loss[-1] )\n",
        "\n",
        "loss, accuracy = TestingStarts(model)\n",
        "print (\"Testing\")\n",
        "print(\"accuracy\", accuracy, \"loss\" , loss)"
      ]
    },
    {
      "cell_type": "markdown",
      "source": [
        "**(b) Visualize the activation maps of the trained model. You can pick a couple of representative slices from the activation\n",
        "volumes at a couple of convolution layers. (1)**"
      ],
      "metadata": {
        "id": "VTv3AWyKvkhY"
      },
      "id": "VTv3AWyKvkhY"
    },
    {
      "cell_type": "code",
      "execution_count": null,
      "id": "d210c883",
      "metadata": {
        "colab": {
          "base_uri": "https://localhost:8080/",
          "height": 1000
        },
        "id": "d210c883",
        "outputId": "1896bc29-4ed8-47ee-8006-6e00165d7cb5"
      },
      "outputs": [
        {
          "output_type": "stream",
          "name": "stderr",
          "text": [
            "Using cache found in /root/.cache/torch/hub/pytorch_vision_v0.10.0\n"
          ]
        },
        {
          "output_type": "stream",
          "name": "stdout",
          "text": [
            "TotalSamples 200 Size Of Sample 175\n",
            "\n",
            "Epoch 1 Training Loss: 0.4145199298858643\n",
            "Test Loss 6.908000946044922 Accuracy 0.0\n"
          ]
        },
        {
          "output_type": "display_data",
          "data": {
            "text/plain": [
              "<Figure size 432x288 with 1 Axes>"
            ],
            "image/png": "[encoded data removed]"
          },
          "metadata": {
            "needs_background": "light"
          }
        },
        {
          "output_type": "display_data",
          "data": {
            "text/plain": [
              "<Figure size 1440x1440 with 8 Axes>"
            ],
            "image/png": "[encoded data removed]"
          },
          "metadata": {
            "needs_background": "light"
          }
        }
      ],
      "source": [
        "outputimages_conv1 = []\n",
        "outputimages_conv2 = []\n",
        "\n",
        "def DisplayConv1(self, input, output):\n",
        "    ActivationMap = output\n",
        "    ActivationMap = ActivationMap.squeeze(0)\n",
        "    gray_scale = torch.sum(ActivationMap,0)\n",
        "    gray_scale = gray_scale / ActivationMap.shape[0]\n",
        "    outputimages_conv1.append(gray_scale.data.cpu().numpy())\n",
        "\n",
        "def DisplayConv2(self, input, output):\n",
        "    ActivationMap = output\n",
        "    ActivationMap = ActivationMap.squeeze(0)\n",
        "    gray_scale = torch.sum(ActivationMap,0)\n",
        "    gray_scale = gray_scale / ActivationMap.shape[0]\n",
        "    outputimages_conv2.append(gray_scale.data.cpu().numpy())\n",
        "model = GetTheAlexNet()\n",
        "\n",
        "model.features[10].register_forward_hook(DisplayConv1)\n",
        "model.features[12].register_forward_hook(DisplayConv2)\n",
        "\n",
        "VanilaLoss =TrainingStarts(model, epoch = 1)\n",
        "fig = plt.figure(figsize=(20, 20))\n",
        "cols = 2\n",
        "ImagesToDisplay = min(8,len(outputimages_conv1))\n",
        "rows = ImagesToDisplay // 2 * cols\n",
        " \n",
        "for i in range(ImagesToDisplay):\n",
        "    a = fig.add_subplot(rows, cols, i*2+1)\n",
        "    a.axis('off')\n",
        "    imgplot = plt.imshow(outputimages_conv1[i][0])\n",
        "    a.set_title(\"Conv layer 1\", fontsize=20)\n",
        "    \n",
        "    a = fig.add_subplot(rows, cols, i*2+2)\n",
        "    a.axis('off')\n",
        "    imgplot = plt.imshow(outputimages_conv2[i][0])\n",
        "    a.set_title(\"Conv layer 2\", fontsize=20)\n",
        "\n",
        "    \n",
        "outputimages_conv1 = []\n",
        "outputimages_conv2 = []"
      ]
    },
    {
      "cell_type": "markdown",
      "source": [
        "**(c) Report the accuracy of your classifier. (1)**"
      ],
      "metadata": {
        "id": "UMzZJ6cGvrCo"
      },
      "id": "UMzZJ6cGvrCo"
    },
    {
      "cell_type": "code",
      "execution_count": null,
      "id": "eae48d4d",
      "metadata": {
        "colab": {
          "base_uri": "https://localhost:8080/"
        },
        "id": "eae48d4d",
        "outputId": "3e0c13bc-34c3-43b5-f57f-7e03c8a9f501"
      },
      "outputs": [
        {
          "output_type": "stream",
          "name": "stdout",
          "text": [
            "Test Loss 6.907781600952148 Accuracy 0.0\n",
            "Testing Accuracy 0.0\n",
            "Testing loss 6.9077816\n"
          ]
        }
      ],
      "source": [
        "optimizer = torch.optim.SGD(model.parameters(), lr=0.001, momentum=0.9)\n",
        "loss, accuracy = TestingStarts(model)\n",
        "print(\"Testing Accuracy\", accuracy)\n",
        "print(\"Testing loss\" , loss)"
      ]
    },
    {
      "cell_type": "markdown",
      "source": [
        "**(d) Use tSNE to visualize the bottleneck feature at the end of the first epoch and the last epoch. (1)**"
      ],
      "metadata": {
        "id": "2AeyJvuZvwQe"
      },
      "id": "2AeyJvuZvwQe"
    },
    {
      "cell_type": "code",
      "execution_count": null,
      "id": "d73d9fad",
      "metadata": {
        "scrolled": true,
        "colab": {
          "base_uri": "https://localhost:8080/",
          "height": 769
        },
        "id": "d73d9fad",
        "outputId": "54f8a9b7-7fbf-40ec-d7c1-6832cf39fdbb"
      },
      "outputs": [
        {
          "output_type": "stream",
          "name": "stderr",
          "text": [
            "Using cache found in /root/.cache/torch/hub/pytorch_vision_v0.10.0\n"
          ]
        },
        {
          "output_type": "stream",
          "name": "stdout",
          "text": [
            "(100, 3, 256, 256) (100,)\n",
            "(10, 3, 256, 256) (10,)\n",
            "unravelled vector (10, 100, 9216)\n",
            "(1, 100, 9216) (1, 100)\n"
          ]
        },
        {
          "output_type": "stream",
          "name": "stderr",
          "text": [
            "/usr/local/lib/python3.7/dist-packages/sklearn/manifold/_t_sne.py:783: FutureWarning: The default initialization in TSNE will change from 'random' to 'pca' in 1.2.\n",
            "  FutureWarning,\n",
            "/usr/local/lib/python3.7/dist-packages/sklearn/manifold/_t_sne.py:793: FutureWarning: The default learning rate in TSNE will change from 200.0 to 'auto' in 1.2.\n",
            "  FutureWarning,\n",
            "No handles with labels found to put in legend.\n",
            "/usr/local/lib/python3.7/dist-packages/sklearn/manifold/_t_sne.py:783: FutureWarning: The default initialization in TSNE will change from 'random' to 'pca' in 1.2.\n",
            "  FutureWarning,\n",
            "/usr/local/lib/python3.7/dist-packages/sklearn/manifold/_t_sne.py:793: FutureWarning: The default learning rate in TSNE will change from 200.0 to 'auto' in 1.2.\n",
            "  FutureWarning,\n",
            "No handles with labels found to put in legend.\n"
          ]
        },
        {
          "output_type": "execute_result",
          "data": {
            "text/plain": [
              "<matplotlib.legend.Legend at 0x7fcdf7bfb190>"
            ]
          },
          "metadata": {},
          "execution_count": 14
        },
        {
          "output_type": "display_data",
          "data": {
            "text/plain": [
              "<Figure size 576x288 with 1 Axes>"
            ],
            "image/png": "[encoded data removed]"
          },
          "metadata": {
            "needs_background": "light"
          }
        },
        {
          "output_type": "display_data",
          "data": {
            "text/plain": [
              "<Figure size 576x288 with 1 Axes>"
            ],
            "image/png": "[encoded data removed]"
          },
          "metadata": {
            "needs_background": "light"
          }
        }
      ],
      "source": [
        "from sklearn.manifold import TSNE\n",
        "from sklearn import datasets\n",
        "from sklearn.manifold import TSNE\n",
        "import pandas as pd\n",
        "from collections import defaultdict\n",
        "\n",
        "def testing_for_tsne(model):\n",
        "\n",
        "    SampleSize = min(100, Xtest.shape[0]) #100\n",
        "    \n",
        "    batch_size = 10\n",
        "    epoch = 15\n",
        "    losses = []\n",
        "    \n",
        "    TestImages = Xtest[:SampleSize]\n",
        "    TestLabels = Ytest[:SampleSize]\n",
        "    \n",
        "    permutation = np.random.permutation(SampleSize)\n",
        "\n",
        "    TestImages_x = TestImages[permutation]\n",
        "    TestImages_y = TestLabels[permutation]\n",
        "\n",
        "    SamplesTotal = len(TestImages_x)\n",
        "    x = torch.from_numpy(np.array(TestImages_x)).float()\n",
        "    y = torch.from_numpy(TestImages_y) \n",
        "\n",
        "    model.eval()\n",
        "    outputs = model(x)\n",
        "    preds = torch.argmax(outputs, dim = 1)    \n",
        "    \n",
        "    labels = TestImages_y\n",
        "    return np.array(labels)\n",
        "\n",
        "def training_tsne(model):\n",
        "    optimizer = torch.optim.SGD(model.parameters(), lr=0.001, momentum=0.9)\n",
        "    \n",
        "    SampleSize = min(100, Xtrain.shape[0]) \n",
        "    batch_size = 10 #100\n",
        "    epoch = 10\n",
        "    \n",
        "    ImagesTrain = Xtrain[:SampleSize]\n",
        "    LabelTrain = Ytrain[:SampleSize]\n",
        "\n",
        "    TestImages = Xtest[:SampleSize//10]\n",
        "    TestLabels = Ytest[:SampleSize//10]\n",
        "\n",
        "    print(ImagesTrain.shape, LabelTrain.shape)\n",
        "    print(TestImages.shape, TestLabels.shape)\n",
        "      \n",
        "    LossRunning = 0.\n",
        "    last_loss = 0.\n",
        "    losses = []\n",
        "    testlosses = []\n",
        "    \n",
        "    labels = []\n",
        "    for epoch in range(epoch):\n",
        "       \n",
        "        model.train()\n",
        "        LossRunning = 0.\n",
        "        for i in range(SampleSize//batch_size):\n",
        "            \n",
        "            optimizer.zero_grad()\n",
        "            \n",
        "            start_i = i*batch_size\n",
        "            end_i = (i+1) * batch_size \n",
        "            permutation = np.arange(start_i, end_i, 1)\n",
        "            \n",
        "            \n",
        "            ImagesTrain_x = ImagesTrain[permutation]\n",
        "            LabelYtrain = LabelTrain[permutation]\n",
        "            accuracy = 0\n",
        "            loss = 0\n",
        "\n",
        "            x = torch.from_numpy(np.array(ImagesTrain_x)).float()\n",
        "            y = torch.from_numpy(LabelYtrain) \n",
        "            outputs = model(x)\n",
        "            loss = LossFunction(outputs, y)\n",
        "            LossRunning += loss.item()\n",
        "\n",
        "            loss.backward()\n",
        "            optimizer.step()\n",
        "        EpochLoss = LossRunning / batch_size\n",
        "        losses.append(EpochLoss)\n",
        "        \n",
        "        TestLabels_y = testing_for_tsne(model)\n",
        "        \n",
        "        labels.append(TestLabels_y)\n",
        "    \n",
        "    return np.array(labels)\n",
        "UnravelledOutputVector = []\n",
        "def collect_unravelled_output(self, input, output):\n",
        "    if self.training:\n",
        "        pass\n",
        "    else:\n",
        "        unravelled_output = output.detach().numpy()\n",
        "        UnravelledOutputVector.append(unravelled_output)\n",
        "model = GetTheAlexNet()\n",
        "model.classifier[0].register_forward_hook(collect_unravelled_output)\n",
        "global UnravelledOutputVector\n",
        "UnravelledOutputVector = []\n",
        "labels = training_tsne(model)\n",
        "UnravelledOutputVector = np.asarray(UnravelledOutputVector)\n",
        "print (\"unravelled vector\", UnravelledOutputVector.shape)\n",
        "\n",
        "sne_input = np.array( [UnravelledOutputVector[-1] ] )\n",
        "LabelIndexes = np.array([labels[-1] ] )\n",
        "\n",
        "print (sne_input.shape, LabelIndexes.shape)\n",
        "df = pd.DataFrame(np.row_stack(sne_input[0]))\n",
        "plt.figure(figsize = (8,4))\n",
        "plt.subplots_adjust(top = 1.5)\n",
        "\n",
        "tsne = TSNE(n_components = 2, perplexity = 10, random_state=0)\n",
        "tsne_results = tsne.fit_transform(df)\n",
        "tsne_results=pd.DataFrame(tsne_results, columns=['tsne1', 'tsne2'])\n",
        "index = 0\n",
        "plt.subplot(2,2,index+1)\n",
        "plt.scatter(tsne_results['tsne1'], tsne_results['tsne2'], c=LabelIndexes, s=30)\n",
        "plt.title('15 th epoch')\n",
        "plt.legend(loc=\"upper right\")\n",
        "sne_input = np.array( [UnravelledOutputVector[0] ] )\n",
        "LabelIndexes = np.array([labels[0] ] )\n",
        "\n",
        "df = pd.DataFrame(np.row_stack(sne_input[0]))\n",
        "\n",
        "plt.figure(figsize = (8,4))\n",
        "plt.subplots_adjust(top = 1.5)\n",
        "\n",
        "tsne = TSNE(n_components = 2, perplexity = 10, random_state=0)\n",
        "tsne_results = tsne.fit_transform(df)\n",
        "tsne_results=pd.DataFrame(tsne_results, columns=['tsne1', 'tsne2'])\n",
        "index = 0\n",
        "plt.subplot(2,2,index+1)\n",
        "plt.scatter(tsne_results['tsne1'], tsne_results['tsne2'], c=LabelIndexes, s=30)\n",
        "plt.title('1st epoch')\n",
        "plt.legend(loc=\"upper right\")"
      ]
    },
    {
      "cell_type": "markdown",
      "source": [
        "**(e) Compare the performance of the two models in terms of the accuracy and training time (number of epochs) required for\n",
        "the Training Loss to stabilize. Comment on which model you would pick for this task considering a trade-off between\n",
        "performance and the number of parameters. (1)**"
      ],
      "metadata": {
        "id": "csgZgBnfv3WL"
      },
      "id": "csgZgBnfv3WL"
    },
    {
      "cell_type": "code",
      "execution_count": null,
      "id": "cc5d9e93",
      "metadata": {
        "colab": {
          "base_uri": "https://localhost:8080/",
          "height": 1000
        },
        "id": "cc5d9e93",
        "outputId": "3d20986d-3b17-437c-b3d2-9032f5d00782"
      },
      "outputs": [
        {
          "output_type": "stream",
          "name": "stderr",
          "text": [
            "Using cache found in /root/.cache/torch/hub/pytorch_vision_v0.10.0\n"
          ]
        },
        {
          "output_type": "stream",
          "name": "stdout",
          "text": [
            "Alexnet Training \n",
            "TotalSamples 200 Size Of Sample 175\n",
            "\n",
            "Epoch 1 Training Loss: 0.4144845485687256\n",
            "Test Loss 6.907320022583008 Accuracy 0.0\n",
            "\n",
            "Epoch 2 Training Loss: 0.41445796012878416\n",
            "Test Loss 6.906960487365723 Accuracy 0.0\n",
            "\n",
            "Epoch 3 Training Loss: 0.41442070007324217\n",
            "Test Loss 6.906186103820801 Accuracy 0.04\n",
            "\n",
            "Epoch 4 Training Loss: 0.4142987632751465\n",
            "Test Loss 6.904896259307861 Accuracy 0.04\n",
            "\n",
            "Epoch 5 Training Loss: 0.41415714263916015\n",
            "Test Loss 6.903016567230225 Accuracy 0.0\n",
            "\n",
            "Epoch 6 Training Loss: 0.41390615463256836\n",
            "Test Loss 6.900495529174805 Accuracy 0.0\n",
            "\n",
            "Epoch 7 Training Loss: 0.4135867023468018\n",
            "Test Loss 6.8972907066345215 Accuracy 0.0\n",
            "\n",
            "Epoch 8 Training Loss: 0.41321386337280275\n",
            "Test Loss 6.893366813659668 Accuracy 0.0\n",
            "\n",
            "Epoch 9 Training Loss: 0.4127408313751221\n",
            "Test Loss 6.888695240020752 Accuracy 0.0\n",
            "\n",
            "Epoch 10 Training Loss: 0.41216623306274414\n",
            "Test Loss 6.883245468139648 Accuracy 0.04\n"
          ]
        },
        {
          "output_type": "display_data",
          "data": {
            "text/plain": [
              "<Figure size 432x288 with 1 Axes>"
            ],
            "image/png": "[encoded data removed]"
          },
          "metadata": {
            "needs_background": "light"
          }
        },
        {
          "output_type": "stream",
          "name": "stdout",
          "text": [
            "Test Loss 6.860028266906738 Accuracy 0.02\n",
            "Training ResNet\n",
            "TotalSamples 200 Size Of Sample 175\n"
          ]
        },
        {
          "output_type": "stream",
          "name": "stderr",
          "text": [
            "Using cache found in /root/.cache/torch/hub/pytorch_vision_v0.10.0\n"
          ]
        },
        {
          "output_type": "stream",
          "name": "stdout",
          "text": [
            "\n",
            "Epoch 1 Training Loss: 0.41789803504943845\n",
            "Test Loss 6.90908670425415 Accuracy 0.0\n",
            "\n",
            "Epoch 2 Training Loss: 0.4115616798400879\n",
            "Test Loss 6.881185531616211 Accuracy 0.0\n",
            "\n",
            "Epoch 3 Training Loss: 0.3976743793487549\n",
            "Test Loss 6.810678005218506 Accuracy 0.0\n",
            "\n",
            "Epoch 4 Training Loss: 0.37245718002319333\n",
            "Test Loss 6.641560077667236 Accuracy 0.0\n",
            "\n",
            "Epoch 5 Training Loss: 0.33885847091674803\n",
            "Test Loss 6.334399223327637 Accuracy 0.0\n",
            "\n",
            "Epoch 6 Training Loss: 0.3110825061798096\n",
            "Test Loss 7.826682090759277 Accuracy 0.0\n",
            "\n",
            "Epoch 7 Training Loss: 0.30762826919555664\n",
            "Test Loss 12.459776878356934 Accuracy 0.0\n",
            "\n",
            "Epoch 8 Training Loss: 0.32121933937072755\n",
            "Test Loss 18.03143882751465 Accuracy 0.0\n",
            "\n",
            "Epoch 9 Training Loss: 0.324209623336792\n",
            "Test Loss 24.363889694213867 Accuracy 0.0\n",
            "\n",
            "Epoch 10 Training Loss: 0.32967219352722166\n",
            "Test Loss 47.26169967651367 Accuracy 0.0\n"
          ]
        },
        {
          "output_type": "display_data",
          "data": {
            "text/plain": [
              "<Figure size 432x288 with 1 Axes>"
            ],
            "image/png": "[encoded data removed]"
          },
          "metadata": {
            "needs_background": "light"
          }
        },
        {
          "output_type": "stream",
          "name": "stdout",
          "text": [
            "Test Loss 28.89666175842285 Accuracy 0.04\n"
          ]
        }
      ],
      "source": [
        "#alexnet\n",
        "\n",
        "model = GetTheAlexNet()\n",
        "print (\"Alexnet Training \")\n",
        "losses = train(model, Xtrain, Ytrain, epoch=10 )\n",
        "loss, accuracy = test(model, Xtest, Ytest)\n",
        "model = GetTheResNet()\n",
        "print (\"Training ResNet\")\n",
        "losses = train(model, Xtrain, Ytrain, epoch=10 )\n",
        "loss, accuracy = test(model, Xtest, Ytest)"
      ]
    },
    {
      "cell_type": "markdown",
      "source": [
        "**Q.2 a)**"
      ],
      "metadata": {
        "id": "8cKcUGtfwAsr"
      },
      "id": "8cKcUGtfwAsr"
    },
    {
      "cell_type": "markdown",
      "source": [
        "**preparing data**"
      ],
      "metadata": {
        "id": "0c7wnjeYwLsM"
      },
      "id": "0c7wnjeYwLsM"
    },
    {
      "cell_type": "code",
      "source": [
        "isFile = os.path.exists(\"./data\") \n",
        "print(\"data downloaded \", isFile)\n",
        "if isFile == False:\n",
        "  !wget \"https://download.pytorch.org/tutorial/data.zip\" -O \"./data.zip\"\n",
        "  !unzip -u \"./data.zip\" -d \"./\""
      ],
      "metadata": {
        "colab": {
          "base_uri": "https://localhost:8080/"
        },
        "id": "izUeCCJKldcB",
        "outputId": "ad3db0c4-b8de-479a-f54f-66a198bb4379"
      },
      "id": "izUeCCJKldcB",
      "execution_count": null,
      "outputs": [
        {
          "output_type": "stream",
          "name": "stdout",
          "text": [
            "data downloaded  False\n",
            "--2022-05-04 22:04:21--  https://download.pytorch.org/tutorial/data.zip\n",
            "Resolving download.pytorch.org (download.pytorch.org)... 13.224.160.89, 13.224.160.98, 13.224.160.39, ...\n",
            "Connecting to download.pytorch.org (download.pytorch.org)|13.224.160.89|:443... connected.\n",
            "HTTP request sent, awaiting response... 200 OK\n",
            "Length: 2882130 (2.7M) [application/zip]\n",
            "Saving to: ‘./data.zip’\n",
            "\n",
            "./data.zip          100%[===================>]   2.75M  --.-KB/s    in 0.08s   \n",
            "\n",
            "2022-05-04 22:04:21 (34.2 MB/s) - ‘./data.zip’ saved [2882130/2882130]\n",
            "\n",
            "Archive:  ./data.zip\n",
            "   creating: ./data/\n",
            "  inflating: ./data/eng-fra.txt      \n",
            "   creating: ./data/names/\n",
            "  inflating: ./data/names/Arabic.txt  \n",
            "  inflating: ./data/names/Chinese.txt  \n",
            "  inflating: ./data/names/Czech.txt  \n",
            "  inflating: ./data/names/Dutch.txt  \n",
            "  inflating: ./data/names/English.txt  \n",
            "  inflating: ./data/names/French.txt  \n",
            "  inflating: ./data/names/German.txt  \n",
            "  inflating: ./data/names/Greek.txt  \n",
            "  inflating: ./data/names/Irish.txt  \n",
            "  inflating: ./data/names/Italian.txt  \n",
            "  inflating: ./data/names/Japanese.txt  \n",
            "  inflating: ./data/names/Korean.txt  \n",
            "  inflating: ./data/names/Polish.txt  \n",
            "  inflating: ./data/names/Portuguese.txt  \n",
            "  inflating: ./data/names/Russian.txt  \n",
            "  inflating: ./data/names/Scottish.txt  \n",
            "  inflating: ./data/names/Spanish.txt  \n",
            "  inflating: ./data/names/Vietnamese.txt  \n"
          ]
        }
      ]
    },
    {
      "cell_type": "code",
      "execution_count": null,
      "id": "084066aa",
      "metadata": {
        "colab": {
          "base_uri": "https://localhost:8080/"
        },
        "id": "084066aa",
        "outputId": "02195be8-c733-4f42-83ab-f1ec4ff2af06"
      },
      "outputs": [
        {
          "output_type": "stream",
          "name": "stdout",
          "text": [
            "['data/names/Polish.txt', 'data/names/Italian.txt', 'data/names/Portuguese.txt', 'data/names/Scottish.txt', 'data/names/Irish.txt', 'data/names/French.txt', 'data/names/Arabic.txt', 'data/names/German.txt', 'data/names/Spanish.txt', 'data/names/Japanese.txt', 'data/names/Vietnamese.txt', 'data/names/Korean.txt', 'data/names/Russian.txt', 'data/names/Greek.txt', 'data/names/English.txt', 'data/names/Chinese.txt', 'data/names/Dutch.txt', 'data/names/Czech.txt']\n",
            "Slusarski\n"
          ]
        }
      ],
      "source": [
        "from __future__ import unicode_literals, print_function, division\n",
        "from io import open\n",
        "import glob\n",
        "import os\n",
        "\n",
        "def findFiles(path): return glob.glob(path)\n",
        "\n",
        "print(findFiles('data/names/*.txt'))\n",
        "\n",
        "import unicodedata\n",
        "import string\n",
        "\n",
        "AllLetters = string.ascii_letters + \" .,;'\"\n",
        "n_letters = len(AllLetters)\n",
        "\n",
        "def unicodeToAscii(s):\n",
        "    return ''.join(\n",
        "        c for c in unicodedata.normalize('NFD', s)\n",
        "        if unicodedata.category(c) != 'Mn'\n",
        "        and c in AllLetters\n",
        "    )\n",
        "\n",
        "print(unicodeToAscii('Ślusàrski'))\n",
        "AllCategories = []\n",
        "CategoryLines = {}\n",
        "def readLines(filename):\n",
        "    lines = open(filename, encoding='utf-8').read().strip().split('\\n')\n",
        "    return [unicodeToAscii(line) for line in lines]\n",
        "\n",
        "for filename in findFiles('data/names/*.txt'):\n",
        "    category = os.path.splitext(os.path.basename(filename))[0]\n",
        "    AllCategories.append(category)\n",
        "    lines = readLines(filename)\n",
        "    CategoryLines[category] = lines\n",
        "\n",
        "NoofCategories = len(AllCategories)"
      ]
    },
    {
      "cell_type": "code",
      "execution_count": null,
      "id": "dfdf484d",
      "metadata": {
        "colab": {
          "base_uri": "https://localhost:8080/"
        },
        "id": "dfdf484d",
        "outputId": "85fcc2ed-d832-4c1e-a28f-1edbee6aa125"
      },
      "outputs": [
        {
          "output_type": "stream",
          "name": "stdout",
          "text": [
            "['Abandonato', 'Abatangelo', 'Abatantuono', 'Abate', 'Abategiovanni']\n"
          ]
        }
      ],
      "source": [
        "print(CategoryLines['Italian'][:5])"
      ]
    },
    {
      "cell_type": "code",
      "execution_count": null,
      "id": "4e03bd3d",
      "metadata": {
        "colab": {
          "base_uri": "https://localhost:8080/"
        },
        "id": "4e03bd3d",
        "outputId": "e9c9ebbb-96e8-43d3-dafd-ca841dde39c7"
      },
      "outputs": [
        {
          "output_type": "stream",
          "name": "stdout",
          "text": [
            "tensor([[0., 0., 0., 0., 0., 0., 0., 0., 0., 0., 0., 0., 0., 0., 0., 0., 0., 0.,\n",
            "         0., 0., 0., 0., 0., 0., 0., 0., 0., 0., 0., 0., 0., 0., 0., 0., 0., 1.,\n",
            "         0., 0., 0., 0., 0., 0., 0., 0., 0., 0., 0., 0., 0., 0., 0., 0., 0., 0.,\n",
            "         0., 0., 0.]])\n",
            "torch.Size([5, 1, 57])\n"
          ]
        }
      ],
      "source": [
        "import torch\n",
        "\n",
        "def Lettertoindex(letter):\n",
        "    return AllLetters.find(letter)\n",
        "def letterToTensor(letter):\n",
        "    tensor = torch.zeros(1, n_letters)\n",
        "    tensor[0][Lettertoindex(letter)] = 1\n",
        "    return tensor\n",
        "def lineToTensor(line):\n",
        "    tensor = torch.zeros(len(line), 1, n_letters)\n",
        "    for li, letter in enumerate(line):\n",
        "        tensor[li][0][Lettertoindex(letter)] = 1\n",
        "    return tensor\n",
        "\n",
        "print(letterToTensor('J'))\n",
        "\n",
        "print(lineToTensor('Jones').size())"
      ]
    },
    {
      "cell_type": "code",
      "execution_count": null,
      "id": "f89ebf19",
      "metadata": {
        "id": "f89ebf19"
      },
      "outputs": [],
      "source": [
        "import torch.nn as nn\n",
        "\n",
        "class RNN(nn.Module):\n",
        "    def __init__(self, input_size, hidden_size, output_size):\n",
        "        super(RNN, self).__init__()\n",
        "\n",
        "        self.hidden_size = hidden_size\n",
        "\n",
        "        self.i2h = nn.Linear(input_size + hidden_size, hidden_size)\n",
        "        self.i2o = nn.Linear(input_size + hidden_size, output_size)\n",
        "        self.softmax = nn.LogSoftmax(dim=1)\n",
        "\n",
        "    def forward(self, input, hidden):\n",
        "        combined = torch.cat((input, hidden), 1)\n",
        "        hidden = self.i2h(combined)\n",
        "        output = self.i2o(combined)\n",
        "        output = self.softmax(output)\n",
        "        return output, hidden\n",
        "\n",
        "    def initHidden(self):\n",
        "        return torch.zeros(1, self.hidden_size)\n",
        "\n",
        "n_hidden = 128\n",
        "rnn = RNN(n_letters, n_hidden, NoofCategories)"
      ]
    },
    {
      "cell_type": "code",
      "execution_count": null,
      "id": "449ebc2c",
      "metadata": {
        "colab": {
          "base_uri": "https://localhost:8080/"
        },
        "id": "449ebc2c",
        "outputId": "e56cddd4-a5bd-4f3b-ed77-d37c6ea014be"
      },
      "outputs": [
        {
          "output_type": "stream",
          "name": "stdout",
          "text": [
            "input  tensor([[0., 0., 0., 0., 0., 0., 0., 0., 0., 0., 0., 0., 0., 0., 0., 0., 0., 0.,\n",
            "         0., 0., 0., 0., 0., 0., 0., 0., 1., 0., 0., 0., 0., 0., 0., 0., 0., 0.,\n",
            "         0., 0., 0., 0., 0., 0., 0., 0., 0., 0., 0., 0., 0., 0., 0., 0., 0., 0.,\n",
            "         0., 0., 0.]])\n"
          ]
        }
      ],
      "source": [
        "input = letterToTensor('A')\n",
        "print (\"input \", input)\n",
        "hidden = torch.zeros(1, n_hidden)\n",
        "\n",
        "output, next_hidden = rnn(input, hidden)"
      ]
    },
    {
      "cell_type": "code",
      "execution_count": null,
      "id": "2be9b3cb",
      "metadata": {
        "colab": {
          "base_uri": "https://localhost:8080/"
        },
        "id": "2be9b3cb",
        "outputId": "ecf07746-67af-49a0-8cd0-0bf0189dba39"
      },
      "outputs": [
        {
          "output_type": "stream",
          "name": "stdout",
          "text": [
            "tensor([[-2.9947, -2.9533, -2.9120, -2.8472, -3.0186, -2.9052, -2.7984, -2.8715,\n",
            "         -2.9512, -2.8732, -2.8229, -2.8949, -2.8085, -2.9244, -2.8100, -2.9157,\n",
            "         -2.9345, -2.8266]], grad_fn=<LogSoftmaxBackward0>)\n"
          ]
        }
      ],
      "source": [
        "input = lineToTensor('Albert')\n",
        "hidden = torch.zeros(1, n_hidden)\n",
        "output, next_hidden = rnn(input[0], hidden)\n",
        "print(output)"
      ]
    },
    {
      "cell_type": "code",
      "execution_count": null,
      "id": "24538241",
      "metadata": {
        "colab": {
          "base_uri": "https://localhost:8080/"
        },
        "id": "24538241",
        "outputId": "21e1f9cd-830b-4c0a-b59e-eb3fbfdb697b"
      },
      "outputs": [
        {
          "output_type": "stream",
          "name": "stdout",
          "text": [
            "('Arabic', 6)\n"
          ]
        }
      ],
      "source": [
        "def categoryOutput(output):\n",
        "    top_n, top_i = output.topk(1)\n",
        "    categoryI = top_i[0].item()\n",
        "    return AllCategories[categoryI], categoryI\n",
        "\n",
        "print(categoryOutput(output))"
      ]
    },
    {
      "cell_type": "code",
      "execution_count": null,
      "id": "fa5311c5",
      "metadata": {
        "colab": {
          "base_uri": "https://localhost:8080/"
        },
        "id": "fa5311c5",
        "outputId": "f445f482-5fa6-4301-ad08-cfb50d53c89f"
      },
      "outputs": [
        {
          "output_type": "stream",
          "name": "stdout",
          "text": [
            "category = Italian / line = Durante\n",
            "category = Korean / line = Jung \n",
            "category = Russian / line = Rahov\n",
            "category = Chinese / line = Chu\n",
            "category = Russian / line = Rahmatullin\n",
            "category = French / line = Tremblay\n",
            "category = Greek / line = Kouros\n",
            "category = Dutch / line = Michel\n",
            "category = English / line = Heywood\n",
            "category = Spanish / line = Santana\n"
          ]
        }
      ],
      "source": [
        "import random\n",
        "\n",
        "def ChooseRandom(l):\n",
        "    return l[random.randint(0, len(l) - 1)]\n",
        "\n",
        "def TrainingExampleRandom():\n",
        "    category = ChooseRandom(AllCategories)\n",
        "    line = ChooseRandom(CategoryLines[category])\n",
        "    TensorCategory = torch.tensor([AllCategories.index(category)], dtype=torch.long)\n",
        "    TensorLine = lineToTensor(line)\n",
        "    return category, line, TensorCategory, TensorLine\n",
        "\n",
        "for i in range(10):\n",
        "    category, line, TensorCategory, TensorLine = TrainingExampleRandom()\n",
        "    print('category =', category, '/ line =', line)"
      ]
    },
    {
      "cell_type": "code",
      "execution_count": null,
      "id": "3aa3aef9",
      "metadata": {
        "id": "3aa3aef9"
      },
      "outputs": [],
      "source": [
        "criterion = nn.NLLLoss()"
      ]
    },
    {
      "cell_type": "markdown",
      "source": [
        "**Train RNN**"
      ],
      "metadata": {
        "id": "NSOwAa9VwRD3"
      },
      "id": "NSOwAa9VwRD3"
    },
    {
      "cell_type": "code",
      "execution_count": null,
      "id": "679f52b5",
      "metadata": {
        "id": "679f52b5"
      },
      "outputs": [],
      "source": [
        "Lr = 0.005 \n",
        "\n",
        "def train_rnn(rnn, TensorCategory, TensorLine):\n",
        "    \n",
        "    if isinstance(rnn, RNN) :\n",
        "        hidden = rnn.initHidden()\n",
        "    else:\n",
        "        hidden = rnn.initHidden(TensorLine.size()[0])\n",
        "        \n",
        "    rnn.zero_grad()\n",
        "\n",
        "    for i in range(TensorLine.size()[0]):\n",
        "        output, hidden = rnn(TensorLine[i], hidden)\n",
        "\n",
        "    loss = criterion(output, TensorCategory)\n",
        "    loss.backward()\n",
        "\n",
        "    \n",
        "    for p in rnn.parameters():\n",
        "        p.data.add_(p.grad.data, alpha=-Lr)\n",
        "\n",
        "    return output, loss.item()"
      ]
    },
    {
      "cell_type": "code",
      "execution_count": null,
      "id": "76d133c3",
      "metadata": {
        "id": "76d133c3"
      },
      "outputs": [],
      "source": [
        "import time\n",
        "import math\n",
        "\n",
        "import matplotlib.pyplot as plt\n",
        "import matplotlib.ticker as ticker\n",
        "\n",
        "def SinceTime(since):\n",
        "    now = time.time()\n",
        "    s = now - since\n",
        "    m = math.floor(s / 60)\n",
        "    s -= m * 60\n",
        "    return '%dm %ds' % (m, s)\n",
        "\n",
        "def RnnTrainStarts(rnn):\n",
        "    start = time.time()\n",
        "    AllLosses = []\n",
        "    Noofiters = 100000\n",
        "    printEvery = 5000\n",
        "    plotEvery = 1000\n",
        "    CurrentLoss = 0\n",
        "    \n",
        "\n",
        "    for iter in range(1, Noofiters + 1):\n",
        "        category, line, TensorCategory, TensorLine = TrainingExampleRandom()\n",
        "        \n",
        "        output, loss = train_rnn(rnn, TensorCategory, TensorLine)\n",
        "        CurrentLoss += loss\n",
        "        if iter % printEvery == 0:\n",
        "            guess, guess_i = categoryOutput(output)\n",
        "            correct = '✓' if guess == category else '✗ (%s)' % category\n",
        "            print('%d %d%% (%s) %.4f %s / %s %s' % (iter, iter / Noofiters * 100, SinceTime(start), loss, line, guess, correct))\n",
        "\n",
        "        if iter % plotEvery == 0:\n",
        "            AllLosses.append(CurrentLoss / plotEvery)\n",
        "            CurrentLoss = 0\n",
        "        \n",
        "    plt.figure()\n",
        "    plt.plot(AllLosses)\n",
        "\n",
        "    return AllLosses\n",
        "            \n"
      ]
    },
    {
      "cell_type": "code",
      "execution_count": null,
      "id": "643cedf5",
      "metadata": {
        "colab": {
          "base_uri": "https://localhost:8080/",
          "height": 612
        },
        "id": "643cedf5",
        "outputId": "f515caa0-50b0-4601-f466-cd7d91383e5b"
      },
      "outputs": [
        {
          "output_type": "stream",
          "name": "stdout",
          "text": [
            "5000 5% (0m 5s) 2.4491 Forestier / German ✗ (French)\n",
            "10000 10% (0m 10s) 1.2447 Houlis / Greek ✓\n",
            "15000 15% (0m 15s) 1.3125 Weber / German ✓\n",
            "20000 20% (0m 20s) 0.8220 Noh / Korean ✓\n",
            "25000 25% (0m 25s) 1.2545 Meeuwessen / Dutch ✓\n",
            "30000 30% (0m 30s) 2.3700 Flynn / Scottish ✗ (Irish)\n",
            "35000 35% (0m 35s) 0.1469 Jadanovsky / Russian ✓\n",
            "40000 40% (0m 40s) 1.2811 Thien / Vietnamese ✗ (Chinese)\n",
            "45000 45% (0m 45s) 0.5823 Monahan / Irish ✓\n",
            "50000 50% (0m 50s) 3.7864 Collins / Greek ✗ (Irish)\n",
            "55000 55% (0m 55s) 2.4934 Suaird / French ✗ (Irish)\n",
            "60000 60% (1m 0s) 0.9759 Kattan / Arabic ✓\n",
            "65000 65% (1m 5s) 0.0702 Egonidis / Greek ✓\n",
            "70000 70% (1m 10s) 1.9626 Proulx / English ✗ (French)\n",
            "75000 75% (1m 15s) 1.5553 Ferreira / Spanish ✗ (Portuguese)\n",
            "80000 80% (1m 20s) 0.2430 Suk / Korean ✓\n",
            "85000 85% (1m 25s) 1.1636 Siegel / German ✓\n",
            "90000 90% (1m 30s) 0.2200 Ron / Korean ✓\n",
            "95000 95% (1m 35s) 0.5504 Kubo / Japanese ✓\n",
            "100000 100% (1m 40s) 1.0708 Trujillo / Spanish ✓\n"
          ]
        },
        {
          "output_type": "display_data",
          "data": {
            "text/plain": [
              "<Figure size 432x288 with 1 Axes>"
            ],
            "image/png": "[encoded data removed]"
          },
          "metadata": {
            "needs_background": "light"
          }
        }
      ],
      "source": [
        "AllLosses = RnnTrainStarts(rnn)\n"
      ]
    },
    {
      "cell_type": "markdown",
      "source": [
        "**validate rnn**"
      ],
      "metadata": {
        "id": "VqI2L57FwX0C"
      },
      "id": "VqI2L57FwX0C"
    },
    {
      "cell_type": "code",
      "execution_count": null,
      "id": "1142d614",
      "metadata": {
        "id": "1142d614"
      },
      "outputs": [],
      "source": [
        "\n",
        "def Eval(rnn, TensorLine):\n",
        "    hidden = rnn.initHidden()\n",
        "    for i in range(TensorLine.size()[0]):\n",
        "        output, hidden = rnn(TensorLine[i], hidden)\n",
        "\n",
        "    return output\n",
        "\n",
        "def EvalutionStarts(rnn):\n",
        "    confusion = torch.zeros(NoofCategories, NoofCategories)\n",
        "    Nconfuse = 10000\n",
        "    for i in range(Nconfuse):\n",
        "        category, line, TensorCategory, TensorLine = TrainingExampleRandom()\n",
        "        output = Eval(rnn, TensorLine)\n",
        "        guess, guess_i = categoryOutput(output)\n",
        "        categoryI = AllCategories.index(category)\n",
        "        confusion[categoryI][guess_i] += 1\n",
        "    for i in range(NoofCategories):\n",
        "        confusion[i] = confusion[i] / confusion[i].sum()\n",
        "    fig = plt.figure()\n",
        "    ax = fig.add_subplot(111)\n",
        "    cax = ax.matshow(confusion.numpy())\n",
        "    fig.colorbar(cax)\n",
        "    ax.set_xticklabels([''] + AllCategories, rotation=90)\n",
        "    ax.set_yticklabels([''] + AllCategories)\n",
        "    ax.xaxis.set_major_locator(ticker.MultipleLocator(1))\n",
        "    ax.yaxis.set_major_locator(ticker.MultipleLocator(1))\n",
        "    plt.show()\n",
        "    \n",
        "    return confusion"
      ]
    },
    {
      "cell_type": "code",
      "execution_count": null,
      "id": "c2bbc395",
      "metadata": {
        "colab": {
          "base_uri": "https://localhost:8080/",
          "height": 320
        },
        "id": "c2bbc395",
        "outputId": "4a96e7f4-edc5-47a0-e0a6-61178f840a91"
      },
      "outputs": [
        {
          "output_type": "display_data",
          "data": {
            "text/plain": [
              "<Figure size 432x288 with 2 Axes>"
            ],
            "image/png": "[encoded data removed]"
          },
          "metadata": {
            "needs_background": "light"
          }
        }
      ],
      "source": [
        "confusion = EvalutionStarts(rnn)"
      ]
    },
    {
      "cell_type": "markdown",
      "source": [
        " **(b) Replace the RNN in the previous question with a GRU and report the classification performance. GRU help can be found\n",
        "here. (5)**"
      ],
      "metadata": {
        "id": "OePKAKcpwdpU"
      },
      "id": "OePKAKcpwdpU"
    },
    {
      "cell_type": "code",
      "execution_count": null,
      "id": "a55da3e7",
      "metadata": {
        "colab": {
          "base_uri": "https://localhost:8080/",
          "height": 647
        },
        "id": "a55da3e7",
        "outputId": "e5178e35-3d43-49a8-9e5d-fb7ec59473e0"
      },
      "outputs": [
        {
          "output_type": "stream",
          "name": "stdout",
          "text": [
            "GRU Training\n",
            "500 5% (0m 2s) 1.5064 Wang / Korean ✓\n",
            "1000 10% (0m 6s) 2.0635 Milne / French ✗ (Scottish)\n",
            "1500 15% (0m 9s) 2.1723 Sgro / Portuguese ✗ (Italian)\n",
            "2000 20% (0m 11s) 1.5667 Yong / Korean ✗ (Chinese)\n",
            "2500 25% (0m 14s) 0.2157 Koo / Korean ✓\n",
            "3000 30% (0m 16s) 4.6866 Albert / German ✗ (Spanish)\n",
            "3500 35% (0m 18s) 2.8542 Mar / Arabic ✗ (Chinese)\n",
            "4000 40% (0m 20s) 4.2360 Donnell / Czech ✗ (Irish)\n",
            "4500 45% (0m 22s) 0.2782 Pefanis / Greek ✓\n",
            "5000 50% (0m 24s) 0.4929 Sui / Chinese ✓\n",
            "5500 55% (0m 26s) 1.2891 Baik / Chinese ✗ (Korean)\n",
            "6000 60% (0m 28s) 0.1416 Tanizaki / Japanese ✓\n",
            "6500 65% (0m 31s) 0.0862 Trinh / Vietnamese ✓\n",
            "7000 70% (0m 33s) 0.6378 Forestier / French ✓\n",
            "7500 75% (0m 35s) 3.0741 Tron / English ✗ (Vietnamese)\n",
            "8000 80% (0m 37s) 2.5076 Charron / English ✗ (French)\n",
            "8500 85% (0m 39s) 2.8498 Pey / Korean ✗ (Dutch)\n",
            "9000 90% (0m 41s) 0.0764 Oh  / Korean ✓\n",
            "9500 95% (0m 43s) 2.3788 Mihalchuk / Czech ✗ (Russian)\n",
            "10000 100% (0m 45s) 1.8003 Kennedy / English ✗ (Scottish)\n"
          ]
        },
        {
          "output_type": "execute_result",
          "data": {
            "text/plain": [
              "[<matplotlib.lines.Line2D at 0x7fcdf5265050>]"
            ]
          },
          "metadata": {},
          "execution_count": 32
        },
        {
          "output_type": "display_data",
          "data": {
            "text/plain": [
              "<Figure size 432x288 with 1 Axes>"
            ],
            "image/png": "[encoded data removed]"
          },
          "metadata": {
            "needs_background": "light"
          }
        }
      ],
      "source": [
        "class GRUNet(nn.Module):\n",
        "    def __init__(self, input_size, hidden_size, output_size, NoofLayers, drop_prob=0.2):\n",
        "        super(GRUNet, self).__init__()\n",
        "        self.hidden_size = hidden_size\n",
        "        self.NoofLayers = NoofLayers\n",
        "        \n",
        "        self.num_layers = NoofLayers\n",
        "        self.hidden_size = hidden_size\n",
        "        self.gru = nn.GRU(\n",
        "            input_size=input_size, \n",
        "            hidden_size=hidden_size, \n",
        "            num_layers=NoofLayers,\n",
        "        )\n",
        "        self.fc = nn.Linear(hidden_size, output_size)\n",
        "        \n",
        "        \n",
        "    def forward(self, x, h):\n",
        "        hidden_state = self.initHidden(1)\n",
        "        output, hidden_state = self.gru(x, hidden_state)\n",
        "        output = self.fc(output[-1])\n",
        "        return output, hidden\n",
        "    \n",
        "    def initHidden(self):\n",
        "         return torch.zeros(self.NoofLayers, 1, self.hidden_size)\n",
        "        \n",
        "    def initHidden(self, batch_size =1):\n",
        "         return torch.zeros(self.NoofLayers, 1, self.hidden_size)\n",
        "    \n",
        "NoofLayers = 2\n",
        "gru = GRUNet(n_letters, n_hidden, NoofCategories,  NoofLayers = NoofLayers)\n",
        "optimizer = torch.optim.Adam(gru.parameters(), lr=Lr)\n",
        "h0 = torch.randn(NoofCategories, 10, n_hidden  )\n",
        "\n",
        "print(\"GRU Training\")\n",
        "criterion = nn.CrossEntropyLoss()\n",
        "start = time.time()\n",
        "\n",
        "Noofiters = 10000\n",
        "printEvery = 500\n",
        "plotEvery = 100\n",
        "\n",
        "CurrentLoss = 0\n",
        "AllLosses = []\n",
        "    \n",
        "\n",
        "CurrentLoss = 0\n",
        "for iter in  range(1, Noofiters + 1):\n",
        "    category, line, TensorCategory, TensorLine = TrainingExampleRandom()\n",
        "    output, hidden = gru(TensorLine, h0)\n",
        "    loss = criterion(output, TensorCategory)\n",
        "    CurrentLoss += loss.item()\n",
        "    \n",
        "    optimizer.zero_grad()\n",
        "    loss.backward()\n",
        "    optimizer.step()\n",
        "\n",
        "    if iter % printEvery == 0:\n",
        "        guess, guess_i = categoryOutput(output)\n",
        "        correct = '✓' if guess == category else '✗ (%s)' % category\n",
        "        print('%d %d%% (%s) %.4f %s / %s %s' % (iter, iter / Noofiters * 100, SinceTime(start), loss, line, guess, correct))\n",
        "\n",
        "    if iter % plotEvery == 0:\n",
        "        AllLosses.append(CurrentLoss / plotEvery)\n",
        "        CurrentLoss = 0\n",
        "        \n",
        "plt.figure()\n",
        "plt.plot(AllLosses)\n",
        "        \n"
      ]
    },
    {
      "cell_type": "code",
      "execution_count": null,
      "id": "f826b71b",
      "metadata": {
        "colab": {
          "base_uri": "https://localhost:8080/",
          "height": 337
        },
        "id": "f826b71b",
        "outputId": "df2e8256-66f1-44c8-aa57-8d2f99379971"
      },
      "outputs": [
        {
          "output_type": "stream",
          "name": "stdout",
          "text": [
            "Confusion matrix GRU\n"
          ]
        },
        {
          "output_type": "display_data",
          "data": {
            "text/plain": [
              "<Figure size 432x288 with 2 Axes>"
            ],
            "image/png": "[encoded data removed]"
          },
          "metadata": {
            "needs_background": "light"
          }
        }
      ],
      "source": [
        "def EvalutionStarts_gru_lstm(rnn):\n",
        "    confusion = torch.zeros(NoofCategories, NoofCategories)\n",
        "    Nconfuse = 10000\n",
        "\n",
        "    for i in range(Nconfuse):\n",
        "        category, line, TensorCategory, TensorLine = TrainingExampleRandom()\n",
        "        output, hidden =  gru(TensorLine, h0)\n",
        "        guess, guess_i = categoryOutput(output)\n",
        "        categoryI = AllCategories.index(category)\n",
        "        confusion[categoryI][guess_i] += 1\n",
        "    for i in range(NoofCategories):\n",
        "        confusion[i] = confusion[i] / confusion[i].sum()\n",
        "    fig = plt.figure()\n",
        "    ax = fig.add_subplot(111)\n",
        "    cax = ax.matshow(confusion.numpy())\n",
        "    fig.colorbar(cax)\n",
        "    ax.set_xticklabels([''] + AllCategories, rotation=90)\n",
        "    ax.set_yticklabels([''] + AllCategories)\n",
        "    ax.xaxis.set_major_locator(ticker.MultipleLocator(1))\n",
        "    ax.yaxis.set_major_locator(ticker.MultipleLocator(1))\n",
        "    plt.show()\n",
        "    \n",
        "    return confusion\n",
        "print ( \"Confusion matrix GRU\")\n",
        "confusion = EvalutionStarts_gru_lstm(gru)"
      ]
    },
    {
      "cell_type": "markdown",
      "source": [
        "**(c) Replace the GRU in the previous question with an LSTM and report the classification performance. LSTM help can be\n",
        "found here. (5)**"
      ],
      "metadata": {
        "id": "mc4MWWUZw28G"
      },
      "id": "mc4MWWUZw28G"
    },
    {
      "cell_type": "code",
      "execution_count": null,
      "id": "fb7aa483",
      "metadata": {
        "colab": {
          "base_uri": "https://localhost:8080/",
          "height": 647
        },
        "id": "fb7aa483",
        "outputId": "f35d7da2-af5a-44bc-f195-585cd205c3d8"
      },
      "outputs": [
        {
          "output_type": "stream",
          "name": "stdout",
          "text": [
            "LSTM training\n",
            "500 5% (1m 10s) 2.7956 Gallchobhar / Dutch ✗ (Irish)\n",
            "1000 10% (1m 13s) 1.9749 Bartolomei / Italian ✓\n",
            "1500 15% (1m 15s) 0.3910 Piontek / Polish ✓\n",
            "2000 20% (1m 17s) 1.5788 Havener / German ✓\n",
            "2500 25% (1m 20s) 0.0215 Nomikos / Greek ✓\n",
            "3000 30% (1m 22s) 2.0833 Arthur / Irish ✗ (English)\n",
            "3500 35% (1m 24s) 2.1557 Berg / German ✗ (Dutch)\n",
            "4000 40% (1m 27s) 0.9548 Chun / Chinese ✗ (Korean)\n",
            "4500 45% (1m 30s) 3.3006 Muso / Korean ✗ (Japanese)\n",
            "5000 50% (1m 33s) 1.8085 Jiang / Vietnamese ✗ (Chinese)\n",
            "5500 55% (1m 36s) 0.9849 Leroy / Scottish ✗ (French)\n",
            "6000 60% (1m 38s) 0.4605 Ku / Korean ✓\n",
            "6500 65% (1m 41s) 1.6758 Chung / Vietnamese ✗ (Korean)\n",
            "7000 70% (1m 43s) 2.0933 Sturgess / Portuguese ✗ (English)\n",
            "7500 75% (1m 46s) 1.9585 Palomer / German ✗ (French)\n",
            "8000 80% (1m 48s) 7.2087 De santis / Greek ✗ (Italian)\n",
            "8500 85% (1m 50s) 0.5770 Morello / Italian ✓\n",
            "9000 90% (1m 53s) 0.2317 Christie / Scottish ✓\n",
            "9500 95% (1m 55s) 0.5059 Sauveterre / French ✓\n",
            "10000 100% (1m 58s) 0.0456 Rooijakkers / Dutch ✓\n"
          ]
        },
        {
          "output_type": "execute_result",
          "data": {
            "text/plain": [
              "[<matplotlib.lines.Line2D at 0x7fcdf7c47d10>]"
            ]
          },
          "metadata": {},
          "execution_count": 34
        },
        {
          "output_type": "display_data",
          "data": {
            "text/plain": [
              "<Figure size 432x288 with 1 Axes>"
            ],
            "image/png": "[encoded data removed]"
          },
          "metadata": {
            "needs_background": "light"
          }
        }
      ],
      "source": [
        "device = \"cpu\"\n",
        "class LSTMNet(nn.Module):\n",
        "    def __init__(self,  input_size, hidden_size, output_size, NoofLayers, drop_prob=0.2):\n",
        "        super(LSTMNet, self).__init__()\n",
        "        self.hidden_size = input_size\n",
        "        self.NoofLayers = NoofLayers\n",
        "        \n",
        "        self.num_layers = NoofLayers\n",
        "        self.hidden_size = hidden_size\n",
        "        self.lstm = nn.LSTM(\n",
        "            input_size=input_size, \n",
        "            hidden_size=hidden_size, \n",
        "            num_layers=NoofLayers,\n",
        "        )\n",
        "        self.fc = nn.Linear(hidden_size, output_size)\n",
        "        \n",
        "        \n",
        "    def forward(self, x, h):\n",
        "        hidden_state = self.initHidden(1)\n",
        "        output, hidden_state = self.lstm(x, hidden_state)\n",
        "        output = self.fc(output[-1])\n",
        "        \n",
        "        return output, hidden_state\n",
        "    \n",
        "    def initHidden(self):\n",
        "         return torch.zeros(self.NoofLayers, 1, self.hidden_size)\n",
        "        \n",
        "    def initHidden(self, batch_size =1):\n",
        "        weight = next(self.parameters()).data\n",
        "        hidden = (weight.new(self.NoofLayers, batch_size, self.hidden_size).zero_().to(device),\n",
        "                  weight.new(self.NoofLayers, batch_size, self.hidden_size).zero_().to(device))\n",
        "        return hidden   \n",
        "lstm = LSTMNet(n_letters, n_hidden, NoofCategories,  NoofLayers = NoofLayers)\n",
        "optimizer = torch.optim.Adam(lstm.parameters(), lr=Lr)\n",
        "\n",
        "print( \"LSTM training\")\n",
        "AllLosses = []\n",
        "CurrentLoss = 0\n",
        "for iter in  range(1, Noofiters + 1):\n",
        "    category, line, TensorCategory, TensorLine = TrainingExampleRandom()\n",
        "    output, hidden = lstm(TensorLine, h0)\n",
        "    loss = criterion(output, TensorCategory)\n",
        "    CurrentLoss += loss.item()\n",
        "    \n",
        "    optimizer.zero_grad()\n",
        "    loss.backward()\n",
        "    optimizer.step()\n",
        "    if iter % printEvery == 0:\n",
        "        guess, guess_i = categoryOutput(output)\n",
        "        correct = '✓' if guess == category else '✗ (%s)' % category\n",
        "        print('%d %d%% (%s) %.4f %s / %s %s' % (iter, iter / Noofiters * 100, SinceTime(start), loss, line, guess, correct))\n",
        "\n",
        "    if iter % plotEvery == 0:\n",
        "        AllLosses.append(CurrentLoss / plotEvery)\n",
        "        CurrentLoss = 0\n",
        "        \n",
        "plt.figure()\n",
        "plt.plot(AllLosses)\n",
        "   "
      ]
    },
    {
      "cell_type": "code",
      "execution_count": null,
      "id": "0bca0983",
      "metadata": {
        "colab": {
          "base_uri": "https://localhost:8080/",
          "height": 337
        },
        "id": "0bca0983",
        "outputId": "b44fcafd-760e-44e4-90dd-be70971ecee5"
      },
      "outputs": [
        {
          "output_type": "stream",
          "name": "stdout",
          "text": [
            "LSTM Confusion matrix \n"
          ]
        },
        {
          "output_type": "display_data",
          "data": {
            "text/plain": [
              "<Figure size 432x288 with 2 Axes>"
            ],
            "image/png": "[encoded data removed]"
          },
          "metadata": {
            "needs_background": "light"
          }
        }
      ],
      "source": [
        "print (\"LSTM Confusion matrix \")\n",
        "confusion = EvalutionStarts_gru_lstm(lstm)"
      ]
    }
  ],
  "metadata": {
    "kernelspec": {
      "display_name": "Python 3 (ipykernel)",
      "language": "python",
      "name": "python3"
    },
    "language_info": {
      "codemirror_mode": {
        "name": "ipython",
        "version": 3
      },
      "file_extension": ".py",
      "mimetype": "text/x-python",
      "name": "python",
      "nbconvert_exporter": "python",
      "pygments_lexer": "ipython3",
      "version": "3.9.11"
    },
    "colab": {
      "provenance": [],
      "collapsed_sections": []
    }
  },
  "nbformat": 4,
  "nbformat_minor": 5
}